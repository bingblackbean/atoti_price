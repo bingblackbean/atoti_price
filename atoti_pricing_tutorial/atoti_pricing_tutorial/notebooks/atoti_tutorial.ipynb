{
 "cells": [
  {
   "cell_type": "markdown",
   "id": "967c8428-c275-42b3-bd17-b6b55ffb0b3b",
   "metadata": {},
   "source": [
    "# 高级数据分析师最趁手的利器 （Atoti）\n",
    "\n",
    "## 前言\n",
    "我是一个懒人。\n",
    "\n",
    "虽然我会plotly, matplotlib 等等很多可视化库，但是毕竟还要写代码，即便是复制粘贴过来还要改改代码呢。\n",
    "\n",
    "我也用BI，比如Microstrategy，Power BI，Grafana，KNIME等。KNIME是我最喜欢的，因为它包含数据分析和可视化，甚至是机器学习。\n",
    "我公众号第一篇文章就是介绍的它。\n",
    "\n",
    "但是数据源的复杂性，往往又得让我不得不依赖于python，尤其是做数据处理，分析，以及建模。我最常用的就是Jupyter家族，notebook或者lab。\n",
    "\n",
    "今天重磅安利一款我喜欢的jupyter BI 插件，让我使用python处理数据时，又能轻松创建可视化的需求，甚至说发布临时dashboard给客户、领导看。\n",
    "\n",
    "它就是Atoti。\n",
    "\n",
    "我关注Atoti 已经有一年之久了，一直没有安利，是因为它的版本不稳定，现在终于稍微稳定了，我觉得是时候介绍一下，未来可期。"
   ]
  },
  {
   "cell_type": "markdown",
   "id": "e50effa1-9342-43da-b83c-ede313070262",
   "metadata": {},
   "source": [
    "## Atoti 特征总结\n",
    "- 优点：\n",
    "    - 定位轻量版的BI，可能是我孤陋寡闻，这是我见过最轻量的BI\n",
    "    - BI意味着，你托托拽拽就可以生成图表，或者是dashboard，饼图，散点，等常见图表应有尽有\n",
    "    - 集成在JupyterLab 中，几乎让我无缝将数据挖掘和BI结合\n",
    "    - 当然，针对BI的聚合功能也是包含了。count，mean，sum等统计特征自动帮你聚合好\n",
    "    - 最吸引我的，就是what-if功能。 很明显，设计者深知这个需求，这个功能让我们模拟不同情况下，KPI的指标如何变化\n",
    "    - 我最常用的数据源是csv，Atoti还支持其他，excel，spark，database，aws，azure等\n",
    "    - 竟然还考虑了数据安全，这点对我来说有点鸡肋，它可以创建允许访问dashboard的用户\n",
    "    \n",
    "- 缺点：\n",
    "    - 可视化目前没有地图插件，但是我估计会有，因为技术上可行。\n",
    "    - 初始使用习惯不同，学习曲线有点陡。不过几个小时还是可以搞定的\n",
    "    \n"
   ]
  },
  {
   "cell_type": "markdown",
   "id": "29922f19-6995-4b9f-b5c3-6001eac68615",
   "metadata": {},
   "source": [
    "官方提供了很多范例，范围比较广：\n",
    "\n",
    "行政、航空公司、数字营销、能源、金融、食品加工、医疗保健、保险、 制药、零售、社交、社交媒体、体育、电信\n",
    "\n",
    "https://github.com/atoti/notebooks\n",
    "\n",
    "\n",
    "这里我高度参考了这些范例。如果看到这里，你感兴趣，那就体验一下吧。"
   ]
  },
  {
   "cell_type": "markdown",
   "id": "177ceea1-0672-431d-bcf2-1b43a1389a0e",
   "metadata": {},
   "source": [
    "## 开始实战\n",
    "\n",
    "首先是像平时一样，读取数据，做数据预处理等。\n",
    "\n",
    "唯一不同的是，需要安装并导入atoti.\n",
    "\n",
    "这里我们演示Atoti的两种使用场景： \n",
    "- EDA\n",
    "- 建立dashboard（讲故事）"
   ]
  },
  {
   "cell_type": "code",
   "execution_count": 1,
   "id": "41a0c4f9-22a3-473d-af13-02d45b7207e0",
   "metadata": {},
   "outputs": [
    {
     "name": "stdout",
     "output_type": "stream",
     "text": [
      "Welcome to atoti 0.6.4!\n",
      "\n",
      "By using this community edition, you agree with the license available at https://docs.atoti.io/latest/eula.html.\n",
      "Browse the official documentation at https://docs.atoti.io.\n",
      "Join the community at https://www.atoti.io/register.\n",
      "\n",
      "atoti collects telemetry data, which is used to help understand how to improve the product.\n",
      "If you don't wish to send usage data, set the ATOTI_DISABLE_TELEMETRY environment variable to True.\n",
      "\n",
      "You can hide this message by setting the ATOTI_HIDE_EULA_MESSAGE environment variable to True.\n"
     ]
    }
   ],
   "source": [
    "import atoti as tt\n",
    "import pandas as pd\n",
    "from sklearn.model_selection import train_test_split\n",
    "from sklearn.ensemble import RandomForestClassifier\n",
    "import numpy as np\n"
   ]
  },
  {
   "cell_type": "code",
   "execution_count": 2,
   "id": "1fa62c6e-2a7b-41ed-8e06-3159c4563ebd",
   "metadata": {},
   "outputs": [],
   "source": [
    "train_file = '../data/insurance.csv'\n",
    "test_file = '../data/insurance_test.csv'\n",
    "df = pd.read_csv(train_file)\n",
    "test_df = pd.read_csv(test_file)\n",
    "df.head()\n",
    "df['Sale']= df['Sale'].astype(str)\n"
   ]
  },
  {
   "cell_type": "markdown",
   "id": "068c95f5-9617-4ba4-9ced-b3146e8a558c",
   "metadata": {},
   "source": [
    "## EDA\n",
    "\n",
    "简单介绍一下这个数据集，这个数据集来自kaggle，https://www.kaggle.com/ranja7/vehicle-insurance-customer-data\n",
    "\n",
    "数据包含了保险客户的社会经济数据以及被保险车辆的详细信息，这对于了解客户购买行为至关重要。我们采用这个数据集预测客户是否最后购买该保险。"
   ]
  },
  {
   "cell_type": "code",
   "execution_count": 3,
   "id": "7910ad91-2d87-41fe-b9e9-01116150aeea",
   "metadata": {},
   "outputs": [],
   "source": [
    "session = tt.create_session()\n",
    "eda = session.read_pandas(\n",
    "    df, table_name=\"eda\", keys=[\"cust_id\"]\n",
    ")\n",
    "eda_cube = session.create_cube(eda, name=\"eda\")"
   ]
  },
  {
   "cell_type": "markdown",
   "id": "33c75189-45ba-417c-98ee-502d03efb140",
   "metadata": {},
   "source": [
    "比如我们可以快速查看不同教育程度的人在不同的销售渠道的到访情况。\n",
    "我们只需要运行code\n",
    "```session.visualize``` 就创建了一个图表，在这个图表里可以自由的探索了。\n",
    "- 选择一个图表类型，比如饼图\n",
    "- 选择对应的参数，比如value，类别，还可以创建多个子图。\n",
    "- Done！"
   ]
  },
  {
   "cell_type": "markdown",
   "id": "af08fb5f-7b20-4f0a-a0f9-b9cc6f8296d5",
   "metadata": {},
   "source": [
    "![vis_2.png](../img/use_vis.gif)"
   ]
  },
  {
   "cell_type": "code",
   "execution_count": 4,
   "id": "019d0ad3-4e24-42c7-ab56-1c621379dfa0",
   "metadata": {
    "atoti": {
     "widget": {
      "mapping": {
       "horizontalSubplots": [
        "[eda].[Education].[Education]"
       ],
       "sliceBy": [
        "[eda].[Sales_Channel].[Sales_Channel]"
       ],
       "values": [
        "[Measures].[contributors.COUNT]"
       ],
       "verticalSubplots": []
      },
      "name": "Sales by price and Sales Channel",
      "query": {
       "mdx": "SELECT NON EMPTY Hierarchize(Descendants({[eda].[Sales_Channel].[AllMember]}, 1, SELF_AND_BEFORE)) ON ROWS, NON EMPTY Crossjoin(Hierarchize(Descendants({[eda].[Education].[AllMember]}, 1, SELF_AND_BEFORE)), {[Measures].[contributors.COUNT]}) ON COLUMNS FROM [eda] CELL PROPERTIES VALUE, FORMATTED_VALUE, BACK_COLOR, FORE_COLOR, FONT_FLAGS",
       "updateMode": "once"
      },
      "serverKey": "default",
      "widgetKey": "plotly-pie-chart"
     }
    },
    "tags": []
   },
   "outputs": [
    {
     "data": {
      "application/vnd.atoti.widget.v0+json": {
       "name": "Sales by Sales Channel",
       "sessionId": "16f41d1f-fdb2-4439-aea5-796e1777b98c",
       "sessionLocation": {
        "https": null,
        "port": 55380
       },
       "widgetCreationCode": "session.visualize()"
      },
      "text/html": [
       "<img src=\"data:image/svg+xml;charset=utf8,%3C%3Fxml%20version%3D%221.0%22%20standalone%3D%22no%22%3F%3E%3Csvg%20xmlns%3D%22http%3A%2F%2Fwww.w3.org%2F2000%2Fsvg%22%20xmlns%3Axlink%3D%22http%3A%2F%2Fwww.w3.org%2F1999%2Fxlink%22%20height%3D%22352%22%20width%3D%221310%22%20viewBox%3D%220%200%201310%20352%22%3E%3Cdefs%20id%3D%22defs-f836a8%22%3E%3Cg%20class%3D%22clips%22%2F%3E%3Cg%20class%3D%22gradients%22%2F%3E%3C%2Fdefs%3E%3Cg%20class%3D%22bglayer%22%2F%3E%3Cg%20class%3D%22draglayer%22%2F%3E%3Cg%20class%3D%22layer-below%22%3E%3Cg%20class%3D%22imagelayer%22%2F%3E%3Cg%20class%3D%22shapelayer%22%2F%3E%3C%2Fg%3E%3Cg%20class%3D%22cartesianlayer%22%2F%3E%3Cg%20class%3D%22polarlayer%22%2F%3E%3Cg%20class%3D%22ternarylayer%22%2F%3E%3Cg%20class%3D%22geolayer%22%2F%3E%3Cg%20class%3D%22funnelarealayer%22%2F%3E%3Cg%20class%3D%22pielayer%22%3E%3Cg%20class%3D%22trace%22%20stroke-linejoin%3D%22round%22%20style%3D%22opacity%3A%201%3B%22%3E%3Cg%20class%3D%22slice%22%3E%3Cpath%20class%3D%22surface%22%20d%3D%22M181.0204081632653%2C142.5l0%2C-101.0204081632653a101.0204081632653%2C101.0204081632653%200%200%201%2098.65525340070819%2C122.75204045158583Z%22%20style%3D%22pointer-events%3A%20all%3B%20stroke-width%3A%200%3B%20fill%3A%20rgb(78%2C%20121%2C%20167)%3B%20fill-opacity%3A%201%3B%20stroke%3A%20rgb(68%2C%2068%2C%2068)%3B%20stroke-opacity%3A%201%3B%22%2F%3E%3C%2Fg%3E%3Cg%20class%3D%22slice%22%3E%3Cpath%20class%3D%22surface%22%20d%3D%22M181.0204081632653%2C142.5l-101.01214367015439%2C1.2921674167109256a101.0204081632653%2C101.0204081632653%200%200%201%20101.01214367015439%2C-102.31257557997623Z%22%20style%3D%22pointer-events%3A%20all%3B%20stroke-width%3A%200%3B%20fill%3A%20rgb(242%2C%20142%2C%2044)%3B%20fill-opacity%3A%201%3B%20stroke%3A%20rgb(68%2C%2068%2C%2068)%3B%20stroke-opacity%3A%201%3B%22%2F%3E%3C%2Fg%3E%3Cg%20class%3D%22slice%22%3E%3Cpath%20class%3D%22surface%22%20d%3D%22M181.0204081632653%2C142.5l-2.648711866290798%2C100.98567814755758a101.0204081632653%2C101.0204081632653%200%200%201%20-98.36343180386359%2C-99.69351073084665Z%22%20style%3D%22pointer-events%3A%20all%3B%20stroke-width%3A%200%3B%20fill%3A%20rgb(225%2C%2087%2C%2089)%3B%20fill-opacity%3A%201%3B%20stroke%3A%20rgb(68%2C%2068%2C%2068)%3B%20stroke-opacity%3A%201%3B%22%2F%3E%3C%2Fg%3E%3Cg%20class%3D%22slice%22%3E%3Cpath%20class%3D%22surface%22%20d%3D%22M181.0204081632653%2C142.5l98.65525340070818%2C21.731632288320586a101.0204081632653%2C101.0204081632653%200%200%201%20-101.30396526699897%2C79.254045859237Z%22%20style%3D%22pointer-events%3A%20all%3B%20stroke-width%3A%200%3B%20fill%3A%20rgb(118%2C%20183%2C%20178)%3B%20fill-opacity%3A%201%3B%20stroke%3A%20rgb(68%2C%2068%2C%2068)%3B%20stroke-opacity%3A%201%3B%22%2F%3E%3C%2Fg%3E%3Cg%20class%3D%22titletext%22%3E%3Ctext%20data-notex%3D%221%22%20class%3D%22titletext%22%20transform%3D%22translate(181.0204081632653%2C243.5204081632653)translate(0%2C12)%22%20text-anchor%3D%22middle%22%20data-unformatted%3D%22Bachelor%22%20data-math%3D%22N%22%20x%3D%220%22%20y%3D%220%22%20style%3D%22font-family%3A%20%26quot%3BOpen%20Sans%26quot%3B%2C%20verdana%2C%20arial%2C%20sans-serif%3B%20font-size%3A%2012px%3B%20fill%3A%20rgb(89%2C%2089%2C%2089)%3B%20fill-opacity%3A%201%3B%20white-space%3A%20pre%3B%22%3EBachelor%3C%2Ftext%3E%3C%2Fg%3E%3C%2Fg%3E%3Cg%20class%3D%22trace%22%20stroke-linejoin%3D%22round%22%20style%3D%22opacity%3A%201%3B%22%3E%3Cg%20class%3D%22slice%22%3E%3Cpath%20class%3D%22surface%22%20d%3D%22M405.51020408163265%2C142.5l0%2C-101.02040816326532a101.02040816326532%2C101.02040816326532%200%200%201%2099.47821836657342%2C118.6046891006553Z%22%20style%3D%22pointer-events%3A%20all%3B%20stroke-width%3A%200%3B%20fill%3A%20rgb(78%2C%20121%2C%20167)%3B%20fill-opacity%3A%201%3B%20stroke%3A%20rgb(68%2C%2068%2C%2068)%3B%20stroke-opacity%3A%201%3B%22%2F%3E%3C%2Fg%3E%3Cg%20class%3D%22slice%22%3E%3Cpath%20class%3D%22surface%22%20d%3D%22M405.51020408163265%2C142.5l-100.56825049901437%2C9.547243426257607a101.02040816326532%2C101.02040816326532%200%200%201%20100.56825049901437%2C-110.56765158952292Z%22%20style%3D%22pointer-events%3A%20all%3B%20stroke-width%3A%200%3B%20fill%3A%20rgb(242%2C%20142%2C%2044)%3B%20fill-opacity%3A%201%3B%20stroke%3A%20rgb(68%2C%2068%2C%2068)%3B%20stroke-opacity%3A%201%3B%22%2F%3E%3C%2Fg%3E%3Cg%20class%3D%22slice%22%3E%3Cpath%20class%3D%22surface%22%20d%3D%22M405.51020408163265%2C142.5l-0.708254431645149%2C101.01792534561763a101.02040816326532%2C101.02040816326532%200%200%201%20-99.85999606736922%2C-91.47068191936002Z%22%20style%3D%22pointer-events%3A%20all%3B%20stroke-width%3A%200%3B%20fill%3A%20rgb(225%2C%2087%2C%2089)%3B%20fill-opacity%3A%201%3B%20stroke%3A%20rgb(68%2C%2068%2C%2068)%3B%20stroke-opacity%3A%201%3B%22%2F%3E%3C%2Fg%3E%3Cg%20class%3D%22slice%22%3E%3Cpath%20class%3D%22surface%22%20d%3D%22M405.51020408163265%2C142.5l99.47821836657342%2C17.584280937390016a101.02040816326532%2C101.02040816326532%200%200%201%20-100.18647279821856%2C83.43364440822761Z%22%20style%3D%22pointer-events%3A%20all%3B%20stroke-width%3A%200%3B%20fill%3A%20rgb(118%2C%20183%2C%20178)%3B%20fill-opacity%3A%201%3B%20stroke%3A%20rgb(68%2C%2068%2C%2068)%3B%20stroke-opacity%3A%201%3B%22%2F%3E%3C%2Fg%3E%3Cg%20class%3D%22titletext%22%3E%3Ctext%20data-notex%3D%221%22%20class%3D%22titletext%22%20transform%3D%22translate(405.51020408163265%2C243.5204081632653)translate(0%2C12)%22%20text-anchor%3D%22middle%22%20data-unformatted%3D%22College%22%20data-math%3D%22N%22%20x%3D%220%22%20y%3D%220%22%20style%3D%22font-family%3A%20%26quot%3BOpen%20Sans%26quot%3B%2C%20verdana%2C%20arial%2C%20sans-serif%3B%20font-size%3A%2012px%3B%20fill%3A%20rgb(89%2C%2089%2C%2089)%3B%20fill-opacity%3A%201%3B%20white-space%3A%20pre%3B%22%3ECollege%3C%2Ftext%3E%3C%2Fg%3E%3C%2Fg%3E%3Cg%20class%3D%22trace%22%20stroke-linejoin%3D%22round%22%20style%3D%22opacity%3A%201%3B%22%3E%3Cg%20class%3D%22slice%22%3E%3Cpath%20class%3D%22surface%22%20d%3D%22M630%2C142.5l0%2C-101.02040816326533a101.02040816326533%2C101.02040816326533%200%200%201%20100.81321411472001%2C107.48714809404514Z%22%20style%3D%22pointer-events%3A%20all%3B%20stroke-width%3A%200%3B%20fill%3A%20rgb(78%2C%20121%2C%20167)%3B%20fill-opacity%3A%201%3B%20stroke%3A%20rgb(68%2C%2068%2C%2068)%3B%20stroke-opacity%3A%201%3B%22%2F%3E%3C%2Fg%3E%3Cg%20class%3D%22slice%22%3E%3Cpath%20class%3D%22surface%22%20d%3D%22M630%2C142.5l-101.00317623216972%2C1.8658125538195434a101.02040816326533%2C101.02040816326533%200%200%201%20101.00317623216972%2C-102.88622071708487Z%22%20style%3D%22pointer-events%3A%20all%3B%20stroke-width%3A%200%3B%20fill%3A%20rgb(225%2C%2087%2C%2089)%3B%20fill-opacity%3A%201%3B%20stroke%3A%20rgb(68%2C%2068%2C%2068)%3B%20stroke-opacity%3A%201%3B%22%2F%3E%3C%2Fg%3E%3Cg%20class%3D%22slice%22%3E%3Cpath%20class%3D%22surface%22%20d%3D%22M630%2C142.5l1.1909843129535782%2C101.01338733969386a101.02040816326533%2C101.02040816326533%200%200%201%20-102.1941605451233%2C-99.14757478587433Z%22%20style%3D%22pointer-events%3A%20all%3B%20stroke-width%3A%200%3B%20fill%3A%20rgb(242%2C%20142%2C%2044)%3B%20fill-opacity%3A%201%3B%20stroke%3A%20rgb(68%2C%2068%2C%2068)%3B%20stroke-opacity%3A%201%3B%22%2F%3E%3C%2Fg%3E%3Cg%20class%3D%22slice%22%3E%3Cpath%20class%3D%22surface%22%20d%3D%22M630%2C142.5l100.81321411472001%2C6.466739930779837a101.02040816326533%2C101.02040816326533%200%200%201%20-99.62222980176644%2C94.54664740891403Z%22%20style%3D%22pointer-events%3A%20all%3B%20stroke-width%3A%200%3B%20fill%3A%20rgb(118%2C%20183%2C%20178)%3B%20fill-opacity%3A%201%3B%20stroke%3A%20rgb(68%2C%2068%2C%2068)%3B%20stroke-opacity%3A%201%3B%22%2F%3E%3C%2Fg%3E%3Cg%20class%3D%22titletext%22%3E%3Ctext%20data-notex%3D%221%22%20class%3D%22titletext%22%20transform%3D%22translate(630%2C243.52040816326533)translate(0%2C12)%22%20text-anchor%3D%22middle%22%20data-unformatted%3D%22Doctor%22%20data-math%3D%22N%22%20x%3D%220%22%20y%3D%220%22%20style%3D%22font-family%3A%20%26quot%3BOpen%20Sans%26quot%3B%2C%20verdana%2C%20arial%2C%20sans-serif%3B%20font-size%3A%2012px%3B%20fill%3A%20rgb(89%2C%2089%2C%2089)%3B%20fill-opacity%3A%201%3B%20white-space%3A%20pre%3B%22%3EDoctor%3C%2Ftext%3E%3C%2Fg%3E%3C%2Fg%3E%3Cg%20class%3D%22trace%22%20stroke-linejoin%3D%22round%22%20style%3D%22opacity%3A%201%3B%22%3E%3Cg%20class%3D%22slice%22%3E%3Cpath%20class%3D%22surface%22%20d%3D%22M854.4897959183672%2C142.5l0%2C-101.0204081632653a101.0204081632653%2C101.0204081632653%200%200%201%2099.72159902115379%2C117.16740646440275Z%22%20style%3D%22pointer-events%3A%20all%3B%20stroke-width%3A%200%3B%20fill%3A%20rgb(78%2C%20121%2C%20167)%3B%20fill-opacity%3A%201%3B%20stroke%3A%20rgb(68%2C%2068%2C%2068)%3B%20stroke-opacity%3A%201%3B%22%2F%3E%3C%2Fg%3E%3Cg%20class%3D%22slice%22%3E%3Cpath%20class%3D%22surface%22%20d%3D%22M854.4897959183672%2C142.5l-101.01959628777207%2C0.4050078126006503a101.0204081632653%2C101.0204081632653%200%200%201%20101.01959628777207%2C-101.42541597586595Z%22%20style%3D%22pointer-events%3A%20all%3B%20stroke-width%3A%200%3B%20fill%3A%20rgb(242%2C%20142%2C%2044)%3B%20fill-opacity%3A%201%3B%20stroke%3A%20rgb(68%2C%2068%2C%2068)%3B%20stroke-opacity%3A%201%3B%22%2F%3E%3C%2Fg%3E%3Cg%20class%3D%22slice%22%3E%3Cpath%20class%3D%22surface%22%20d%3D%22M854.4897959183672%2C142.5l-3.9842538970200367%2C100.94180792098385a101.0204081632653%2C101.0204081632653%200%200%201%20-97.03534239075204%2C-100.5368001083832Z%22%20style%3D%22pointer-events%3A%20all%3B%20stroke-width%3A%200%3B%20fill%3A%20rgb(225%2C%2087%2C%2089)%3B%20fill-opacity%3A%201%3B%20stroke%3A%20rgb(68%2C%2068%2C%2068)%3B%20stroke-opacity%3A%201%3B%22%2F%3E%3C%2Fg%3E%3Cg%20class%3D%22slice%22%3E%3Cpath%20class%3D%22surface%22%20d%3D%22M854.4897959183672%2C142.5l99.72159902115379%2C16.146998301137543a101.0204081632653%2C101.0204081632653%200%200%201%20-103.70585291817383%2C84.7948096198463Z%22%20style%3D%22pointer-events%3A%20all%3B%20stroke-width%3A%200%3B%20fill%3A%20rgb(118%2C%20183%2C%20178)%3B%20fill-opacity%3A%201%3B%20stroke%3A%20rgb(68%2C%2068%2C%2068)%3B%20stroke-opacity%3A%201%3B%22%2F%3E%3C%2Fg%3E%3Cg%20class%3D%22titletext%22%3E%3Ctext%20data-notex%3D%221%22%20class%3D%22titletext%22%20transform%3D%22translate(854.4897959183672%2C243.5204081632653)translate(0%2C12)%22%20text-anchor%3D%22middle%22%20data-unformatted%3D%22High%20School%20or%20Below%22%20data-math%3D%22N%22%20x%3D%220%22%20y%3D%220%22%20style%3D%22font-family%3A%20%26quot%3BOpen%20Sans%26quot%3B%2C%20verdana%2C%20arial%2C%20sans-serif%3B%20font-size%3A%2012px%3B%20fill%3A%20rgb(89%2C%2089%2C%2089)%3B%20fill-opacity%3A%201%3B%20white-space%3A%20pre%3B%22%3EHigh%20School%20or%20Below%3C%2Ftext%3E%3C%2Fg%3E%3C%2Fg%3E%3Cg%20class%3D%22trace%22%20stroke-linejoin%3D%22round%22%20style%3D%22opacity%3A%201%3B%22%3E%3Cg%20class%3D%22slice%22%3E%3Cpath%20class%3D%22surface%22%20d%3D%22M1078.9795918367345%2C142.5l0%2C-101.0204081632653a101.0204081632653%2C101.0204081632653%200%200%201%20100.92491166230994%2C105.41188529831382Z%22%20style%3D%22pointer-events%3A%20all%3B%20stroke-width%3A%200%3B%20fill%3A%20rgb(242%2C%20142%2C%2044)%3B%20fill-opacity%3A%201%3B%20stroke%3A%20rgb(68%2C%2068%2C%2068)%3B%20stroke-opacity%3A%201%3B%22%2F%3E%3C%2Fg%3E%3Cg%20class%3D%22slice%22%3E%3Cpath%20class%3D%22surface%22%20d%3D%22M1078.9795918367345%2C142.5l-100.99215875666103%2C2.388877381133889a101.0204081632653%2C101.0204081632653%200%200%201%20100.99215875666103%2C-103.4092855443992Z%22%20style%3D%22pointer-events%3A%20all%3B%20stroke-width%3A%200%3B%20fill%3A%20rgb(118%2C%20183%2C%20178)%3B%20fill-opacity%3A%201%3B%20stroke%3A%20rgb(68%2C%2068%2C%2068)%3B%20stroke-opacity%3A%201%3B%22%2F%3E%3C%2Fg%3E%3Cg%20class%3D%22slice%22%3E%3Cpath%20class%3D%22surface%22%20d%3D%22M1078.9795918367345%2C142.5l-0.15413542933931196%2C101.02029057442935a101.0204081632653%2C101.0204081632653%200%200%201%20-100.83802332732172%2C-98.63141319329546Z%22%20style%3D%22pointer-events%3A%20all%3B%20stroke-width%3A%200%3B%20fill%3A%20rgb(78%2C%20121%2C%20167)%3B%20fill-opacity%3A%201%3B%20stroke%3A%20rgb(68%2C%2068%2C%2068)%3B%20stroke-opacity%3A%201%3B%22%2F%3E%3C%2Fg%3E%3Cg%20class%3D%22slice%22%3E%3Cpath%20class%3D%22surface%22%20d%3D%22M1078.9795918367345%2C142.5l100.92491166230994%2C4.39147713504855a101.0204081632653%2C101.0204081632653%200%200%201%20-101.07904709164924%2C96.6288134393808Z%22%20style%3D%22pointer-events%3A%20all%3B%20stroke-width%3A%200%3B%20fill%3A%20rgb(225%2C%2087%2C%2089)%3B%20fill-opacity%3A%201%3B%20stroke%3A%20rgb(68%2C%2068%2C%2068)%3B%20stroke-opacity%3A%201%3B%22%2F%3E%3C%2Fg%3E%3Cg%20class%3D%22titletext%22%3E%3Ctext%20data-notex%3D%221%22%20class%3D%22titletext%22%20transform%3D%22translate(1078.9795918367345%2C243.5204081632653)translate(0%2C12)%22%20text-anchor%3D%22middle%22%20data-unformatted%3D%22Master%22%20data-math%3D%22N%22%20x%3D%220%22%20y%3D%220%22%20style%3D%22font-family%3A%20%26quot%3BOpen%20Sans%26quot%3B%2C%20verdana%2C%20arial%2C%20sans-serif%3B%20font-size%3A%2012px%3B%20fill%3A%20rgb(89%2C%2089%2C%2089)%3B%20fill-opacity%3A%201%3B%20white-space%3A%20pre%3B%22%3EMaster%3C%2Ftext%3E%3C%2Fg%3E%3C%2Fg%3E%3C%2Fg%3E%3Cg%20class%3D%22treemaplayer%22%2F%3E%3Cg%20class%3D%22sunburstlayer%22%2F%3E%3Cg%20class%3D%22glimages%22%2F%3E%3Cdefs%20id%3D%22topdefs-f836a8%22%3E%3Cg%20class%3D%22clips%22%2F%3E%3CclipPath%20id%3D%22legendf836a8%22%3E%3Crect%20width%3D%22108%22%20height%3D%2286%22%20x%3D%220%22%20y%3D%220%22%2F%3E%3C%2FclipPath%3E%3C%2Fdefs%3E%3Cg%20class%3D%22indicatorlayer%22%2F%3E%3Cg%20class%3D%22layer-above%22%3E%3Cg%20class%3D%22imagelayer%22%2F%3E%3Cg%20class%3D%22shapelayer%22%2F%3E%3C%2Fg%3E%3Cg%20class%3D%22infolayer%22%3E%3Cg%20class%3D%22legend%22%20pointer-events%3D%22all%22%20transform%3D%22translate(1202%2C30)%22%3E%3Crect%20class%3D%22bg%22%20shape-rendering%3D%22crispEdges%22%20width%3D%22108%22%20height%3D%2286%22%20x%3D%220%22%20y%3D%220%22%20style%3D%22stroke%3A%20rgb(68%2C%2068%2C%2068)%3B%20stroke-opacity%3A%201%3B%20fill%3A%20rgb(255%2C%20255%2C%20255)%3B%20fill-opacity%3A%201%3B%20stroke-width%3A%200px%3B%22%2F%3E%3Cg%20class%3D%22scrollbox%22%20transform%3D%22%22%20clip-path%3D%22url('%23legendf836a8')%22%3E%3Cg%20class%3D%22groups%22%3E%3Cg%20class%3D%22traces%22%20transform%3D%22translate(0%2C14.5)%22%20style%3D%22opacity%3A%201%3B%22%3E%3Ctext%20class%3D%22legendtext%22%20text-anchor%3D%22start%22%20x%3D%2240%22%20y%3D%224.680000000000001%22%20data-unformatted%3D%22Agent%22%20data-math%3D%22N%22%20style%3D%22font-family%3A%20%26quot%3BOpen%20Sans%26quot%3B%2C%20verdana%2C%20arial%2C%20sans-serif%3B%20font-size%3A%2012px%3B%20fill%3A%20rgb(89%2C%2089%2C%2089)%3B%20fill-opacity%3A%201%3B%20white-space%3A%20pre%3B%22%3EAgent%3C%2Ftext%3E%3Cg%20class%3D%22layers%22%20style%3D%22opacity%3A%201%3B%22%3E%3Cg%20class%3D%22legendfill%22%2F%3E%3Cg%20class%3D%22legendlines%22%2F%3E%3Cg%20class%3D%22legendsymbols%22%3E%3Cg%20class%3D%22legendpoints%22%3E%3Cpath%20class%3D%22legendpie%22%20d%3D%22M6%2C6H-6V-6H6Z%22%20transform%3D%22translate(20%2C0)%22%20style%3D%22stroke-width%3A%200%3B%20fill%3A%20rgb(78%2C%20121%2C%20167)%3B%20fill-opacity%3A%201%3B%20stroke%3A%20rgb(68%2C%2068%2C%2068)%3B%20stroke-opacity%3A%201%3B%22%2F%3E%3C%2Fg%3E%3C%2Fg%3E%3C%2Fg%3E%3Crect%20class%3D%22legendtoggle%22%20pointer-events%3D%22all%22%20x%3D%220%22%20y%3D%22-9.5%22%20width%3D%22102.068359375%22%20height%3D%2219%22%20style%3D%22cursor%3A%20pointer%3B%20fill%3A%20rgb(0%2C%200%2C%200)%3B%20fill-opacity%3A%200%3B%22%2F%3E%3C%2Fg%3E%3Cg%20class%3D%22traces%22%20transform%3D%22translate(0%2C33.5)%22%20style%3D%22opacity%3A%201%3B%22%3E%3Ctext%20class%3D%22legendtext%22%20text-anchor%3D%22start%22%20x%3D%2240%22%20y%3D%224.680000000000001%22%20data-unformatted%3D%22Branch%22%20data-math%3D%22N%22%20style%3D%22font-family%3A%20%26quot%3BOpen%20Sans%26quot%3B%2C%20verdana%2C%20arial%2C%20sans-serif%3B%20font-size%3A%2012px%3B%20fill%3A%20rgb(89%2C%2089%2C%2089)%3B%20fill-opacity%3A%201%3B%20white-space%3A%20pre%3B%22%3EBranch%3C%2Ftext%3E%3Cg%20class%3D%22layers%22%20style%3D%22opacity%3A%201%3B%22%3E%3Cg%20class%3D%22legendfill%22%2F%3E%3Cg%20class%3D%22legendlines%22%2F%3E%3Cg%20class%3D%22legendsymbols%22%3E%3Cg%20class%3D%22legendpoints%22%3E%3Cpath%20class%3D%22legendpie%22%20d%3D%22M6%2C6H-6V-6H6Z%22%20transform%3D%22translate(20%2C0)%22%20style%3D%22stroke-width%3A%200%3B%20fill%3A%20rgb(242%2C%20142%2C%2044)%3B%20fill-opacity%3A%201%3B%20stroke%3A%20rgb(68%2C%2068%2C%2068)%3B%20stroke-opacity%3A%201%3B%22%2F%3E%3C%2Fg%3E%3C%2Fg%3E%3C%2Fg%3E%3Crect%20class%3D%22legendtoggle%22%20pointer-events%3D%22all%22%20x%3D%220%22%20y%3D%22-9.5%22%20width%3D%22102.068359375%22%20height%3D%2219%22%20style%3D%22cursor%3A%20pointer%3B%20fill%3A%20rgb(0%2C%200%2C%200)%3B%20fill-opacity%3A%200%3B%22%2F%3E%3C%2Fg%3E%3Cg%20class%3D%22traces%22%20transform%3D%22translate(0%2C52.5)%22%20style%3D%22opacity%3A%201%3B%22%3E%3Ctext%20class%3D%22legendtext%22%20text-anchor%3D%22start%22%20x%3D%2240%22%20y%3D%224.680000000000001%22%20data-unformatted%3D%22Call%20Center%22%20data-math%3D%22N%22%20style%3D%22font-family%3A%20%26quot%3BOpen%20Sans%26quot%3B%2C%20verdana%2C%20arial%2C%20sans-serif%3B%20font-size%3A%2012px%3B%20fill%3A%20rgb(89%2C%2089%2C%2089)%3B%20fill-opacity%3A%201%3B%20white-space%3A%20pre%3B%22%3ECall%20Center%3C%2Ftext%3E%3Cg%20class%3D%22layers%22%20style%3D%22opacity%3A%201%3B%22%3E%3Cg%20class%3D%22legendfill%22%2F%3E%3Cg%20class%3D%22legendlines%22%2F%3E%3Cg%20class%3D%22legendsymbols%22%3E%3Cg%20class%3D%22legendpoints%22%3E%3Cpath%20class%3D%22legendpie%22%20d%3D%22M6%2C6H-6V-6H6Z%22%20transform%3D%22translate(20%2C0)%22%20style%3D%22stroke-width%3A%200%3B%20fill%3A%20rgb(225%2C%2087%2C%2089)%3B%20fill-opacity%3A%201%3B%20stroke%3A%20rgb(68%2C%2068%2C%2068)%3B%20stroke-opacity%3A%201%3B%22%2F%3E%3C%2Fg%3E%3C%2Fg%3E%3C%2Fg%3E%3Crect%20class%3D%22legendtoggle%22%20pointer-events%3D%22all%22%20x%3D%220%22%20y%3D%22-9.5%22%20width%3D%22102.068359375%22%20height%3D%2219%22%20style%3D%22cursor%3A%20pointer%3B%20fill%3A%20rgb(0%2C%200%2C%200)%3B%20fill-opacity%3A%200%3B%22%2F%3E%3C%2Fg%3E%3Cg%20class%3D%22traces%22%20transform%3D%22translate(0%2C71.5)%22%20style%3D%22opacity%3A%201%3B%22%3E%3Ctext%20class%3D%22legendtext%22%20text-anchor%3D%22start%22%20x%3D%2240%22%20y%3D%224.680000000000001%22%20data-unformatted%3D%22Web%22%20data-math%3D%22N%22%20style%3D%22font-family%3A%20%26quot%3BOpen%20Sans%26quot%3B%2C%20verdana%2C%20arial%2C%20sans-serif%3B%20font-size%3A%2012px%3B%20fill%3A%20rgb(89%2C%2089%2C%2089)%3B%20fill-opacity%3A%201%3B%20white-space%3A%20pre%3B%22%3EWeb%3C%2Ftext%3E%3Cg%20class%3D%22layers%22%20style%3D%22opacity%3A%201%3B%22%3E%3Cg%20class%3D%22legendfill%22%2F%3E%3Cg%20class%3D%22legendlines%22%2F%3E%3Cg%20class%3D%22legendsymbols%22%3E%3Cg%20class%3D%22legendpoints%22%3E%3Cpath%20class%3D%22legendpie%22%20d%3D%22M6%2C6H-6V-6H6Z%22%20transform%3D%22translate(20%2C0)%22%20style%3D%22stroke-width%3A%200%3B%20fill%3A%20rgb(118%2C%20183%2C%20178)%3B%20fill-opacity%3A%201%3B%20stroke%3A%20rgb(68%2C%2068%2C%2068)%3B%20stroke-opacity%3A%201%3B%22%2F%3E%3C%2Fg%3E%3C%2Fg%3E%3C%2Fg%3E%3Crect%20class%3D%22legendtoggle%22%20pointer-events%3D%22all%22%20x%3D%220%22%20y%3D%22-9.5%22%20width%3D%22102.068359375%22%20height%3D%2219%22%20style%3D%22cursor%3A%20pointer%3B%20fill%3A%20rgb(0%2C%200%2C%200)%3B%20fill-opacity%3A%200%3B%22%2F%3E%3C%2Fg%3E%3C%2Fg%3E%3C%2Fg%3E%3Crect%20class%3D%22scrollbar%22%20rx%3D%2220%22%20ry%3D%223%22%20width%3D%220%22%20height%3D%220%22%20x%3D%220%22%20y%3D%220%22%20style%3D%22fill%3A%20rgb(128%2C%20139%2C%20164)%3B%20fill-opacity%3A%201%3B%22%2F%3E%3C%2Fg%3E%3Cg%20class%3D%22g-gtitle%22%2F%3E%3C%2Fg%3E%3Cg%20class%3D%22menulayer%22%2F%3E%3Cg%20class%3D%22zoomlayer%22%2F%3E%3Cg%20class%3D%22hoverlayer%22%2F%3E%3C%2Fsvg%3E\">"
      ],
      "text/plain": [
       "Open the notebook in JupyterLab with the atoti extension enabled to build this widget."
      ]
     },
     "metadata": {},
     "output_type": "display_data"
    }
   ],
   "source": [
    "session.visualize(\"Sales by Sales Channel\")"
   ]
  },
  {
   "cell_type": "markdown",
   "id": "3b95893e-9cd6-4c7d-b0b3-61e33d0743bb",
   "metadata": {},
   "source": [
    "当然，BI可以任你发挥，创建各种图表"
   ]
  },
  {
   "cell_type": "code",
   "execution_count": 5,
   "id": "4cc07d45-0418-4225-81a3-dfa89bf94547",
   "metadata": {
    "atoti": {
     "widget": {
      "mapping": {
       "horizontalSubplots": [
        "[eda].[Sales_Channel].[Sales_Channel]"
       ],
       "splitBy": [
        "ALL_MEASURES"
       ],
       "values": [
        "[Measures].[Price.MEAN]",
        "[Measures].[Tax.MEAN]"
       ],
       "verticalSubplots": [],
       "yAxis": [
        "[eda].[Education].[Education]"
       ]
      },
      "name": "Sales by Sales Channel",
      "query": {
       "mdx": "SELECT NON EMPTY Hierarchize(Descendants({[eda].[Education].[AllMember]}, 1, SELF_AND_BEFORE)) ON ROWS, NON EMPTY Crossjoin({[Measures].[Price.MEAN], [Measures].[Tax.MEAN]}, Hierarchize(Descendants({[eda].[Sales_Channel].[AllMember]}, 1, SELF_AND_BEFORE))) ON COLUMNS FROM [eda] CELL PROPERTIES VALUE, FORMATTED_VALUE, BACK_COLOR, FORE_COLOR, FONT_FLAGS",
       "updateMode": "once"
      },
      "serverKey": "default",
      "widgetKey": "plotly-clustered-bar-chart"
     }
    },
    "tags": []
   },
   "outputs": [
    {
     "data": {
      "application/vnd.atoti.widget.v0+json": {
       "name": "bar",
       "sessionId": "16f41d1f-fdb2-4439-aea5-796e1777b98c",
       "sessionLocation": {
        "https": null,
        "port": 55380
       },
       "widgetCreationCode": "session.visualize()"
      },
      "text/html": [
       "<img src=\"data:image/svg+xml;charset=utf8,%3C%3Fxml%20version%3D%221.0%22%20standalone%3D%22no%22%3F%3E%3Csvg%20xmlns%3D%22http%3A%2F%2Fwww.w3.org%2F2000%2Fsvg%22%20xmlns%3Axlink%3D%22http%3A%2F%2Fwww.w3.org%2F1999%2Fxlink%22%20height%3D%22352%22%20width%3D%221310%22%20viewBox%3D%220%200%201310%20352%22%3E%3Cdefs%20id%3D%22defs-1f4f79%22%3E%3Cg%20class%3D%22clips%22%3E%3CclipPath%20id%3D%22clip1f4f79xyplot%22%20class%3D%22plotclip%22%3E%3Crect%20width%3D%22243.92307692307696%22%20height%3D%22242%22%2F%3E%3C%2FclipPath%3E%3CclipPath%20id%3D%22clip1f4f79x2yplot%22%20class%3D%22plotclip%22%3E%3Crect%20width%3D%22243.92307692307693%22%20height%3D%22242%22%2F%3E%3C%2FclipPath%3E%3CclipPath%20id%3D%22clip1f4f79x3yplot%22%20class%3D%22plotclip%22%3E%3Crect%20width%3D%22243.923076923077%22%20height%3D%22242%22%2F%3E%3C%2FclipPath%3E%3CclipPath%20id%3D%22clip1f4f79x4yplot%22%20class%3D%22plotclip%22%3E%3Crect%20width%3D%22243.923076923077%22%20height%3D%22242%22%2F%3E%3C%2FclipPath%3E%3CclipPath%20class%3D%22axesclip%22%20id%3D%22clip1f4f79x%22%3E%3Crect%20x%3D%22122%22%20y%3D%220%22%20width%3D%22243.92307692307696%22%20height%3D%22352%22%2F%3E%3C%2FclipPath%3E%3CclipPath%20class%3D%22axesclip%22%20id%3D%22clip1f4f79y%22%3E%3Crect%20x%3D%220%22%20y%3D%2230%22%20width%3D%221310%22%20height%3D%22242%22%2F%3E%3C%2FclipPath%3E%3CclipPath%20class%3D%22axesclip%22%20id%3D%22clip1f4f79xy%22%3E%3Crect%20x%3D%22122%22%20y%3D%2230%22%20width%3D%22243.92307692307696%22%20height%3D%22242%22%2F%3E%3C%2FclipPath%3E%3CclipPath%20class%3D%22axesclip%22%20id%3D%22clip1f4f79x2%22%3E%3Crect%20x%3D%22393.02564102564105%22%20y%3D%220%22%20width%3D%22243.92307692307693%22%20height%3D%22352%22%2F%3E%3C%2FclipPath%3E%3CclipPath%20class%3D%22axesclip%22%20id%3D%22clip1f4f79x2y%22%3E%3Crect%20x%3D%22393.02564102564105%22%20y%3D%2230%22%20width%3D%22243.92307692307693%22%20height%3D%22242%22%2F%3E%3C%2FclipPath%3E%3CclipPath%20class%3D%22axesclip%22%20id%3D%22clip1f4f79x3%22%3E%3Crect%20x%3D%22664.0512820512821%22%20y%3D%220%22%20width%3D%22243.923076923077%22%20height%3D%22352%22%2F%3E%3C%2FclipPath%3E%3CclipPath%20class%3D%22axesclip%22%20id%3D%22clip1f4f79x3y%22%3E%3Crect%20x%3D%22664.0512820512821%22%20y%3D%2230%22%20width%3D%22243.923076923077%22%20height%3D%22242%22%2F%3E%3C%2FclipPath%3E%3CclipPath%20class%3D%22axesclip%22%20id%3D%22clip1f4f79x4%22%3E%3Crect%20x%3D%22935.0769230769232%22%20y%3D%220%22%20width%3D%22243.923076923077%22%20height%3D%22352%22%2F%3E%3C%2FclipPath%3E%3CclipPath%20class%3D%22axesclip%22%20id%3D%22clip1f4f79x4y%22%3E%3Crect%20x%3D%22935.0769230769232%22%20y%3D%2230%22%20width%3D%22243.923076923077%22%20height%3D%22242%22%2F%3E%3C%2FclipPath%3E%3C%2Fg%3E%3Cg%20class%3D%22gradients%22%2F%3E%3C%2Fdefs%3E%3Cg%20class%3D%22bglayer%22%2F%3E%3Cg%20class%3D%22draglayer%20cursor-crosshair%22%3E%3Cg%20class%3D%22xy%22%3E%3Crect%20class%3D%22nsewdrag%20drag%22%20data-subplot%3D%22xy%22%20x%3D%22122%22%20y%3D%2230%22%20width%3D%22243.92307692307696%22%20height%3D%22242%22%20style%3D%22fill%3A%20transparent%3B%20stroke-width%3A%200%3B%20pointer-events%3A%20all%3B%22%2F%3E%3Crect%20class%3D%22nwdrag%20drag%20cursor-nw-resize%22%20data-subplot%3D%22xy%22%20x%3D%22102%22%20y%3D%2210%22%20width%3D%2220%22%20height%3D%2220%22%20style%3D%22fill%3A%20transparent%3B%20stroke-width%3A%200%3B%20pointer-events%3A%20all%3B%22%2F%3E%3Crect%20class%3D%22nedrag%20drag%20cursor-ne-resize%22%20data-subplot%3D%22xy%22%20x%3D%22365.92307692307696%22%20y%3D%2210%22%20width%3D%2220%22%20height%3D%2220%22%20style%3D%22fill%3A%20transparent%3B%20stroke-width%3A%200%3B%20pointer-events%3A%20all%3B%22%2F%3E%3Crect%20class%3D%22swdrag%20drag%20cursor-sw-resize%22%20data-subplot%3D%22xy%22%20x%3D%22102%22%20y%3D%22272%22%20width%3D%2220%22%20height%3D%2220%22%20style%3D%22fill%3A%20transparent%3B%20stroke-width%3A%200%3B%20pointer-events%3A%20all%3B%22%2F%3E%3Crect%20class%3D%22sedrag%20drag%20cursor-se-resize%22%20data-subplot%3D%22xy%22%20x%3D%22365.92307692307696%22%20y%3D%22272%22%20width%3D%2220%22%20height%3D%2220%22%20style%3D%22fill%3A%20transparent%3B%20stroke-width%3A%200%3B%20pointer-events%3A%20all%3B%22%2F%3E%3Crect%20class%3D%22ewdrag%20drag%20cursor-ew-resize%22%20data-subplot%3D%22xy%22%20x%3D%22146.3923076923077%22%20y%3D%22272.5%22%20width%3D%22195.13846153846157%22%20height%3D%2220%22%20style%3D%22fill%3A%20transparent%3B%20stroke-width%3A%200%3B%20pointer-events%3A%20all%3B%22%2F%3E%3Crect%20class%3D%22wdrag%20drag%20cursor-w-resize%22%20data-subplot%3D%22xy%22%20x%3D%22122%22%20y%3D%22272.5%22%20width%3D%2224.392307692307696%22%20height%3D%2220%22%20style%3D%22fill%3A%20transparent%3B%20stroke-width%3A%200%3B%20pointer-events%3A%20all%3B%22%2F%3E%3Crect%20class%3D%22edrag%20drag%20cursor-e-resize%22%20data-subplot%3D%22xy%22%20x%3D%22341.53076923076924%22%20y%3D%22272.5%22%20width%3D%2224.392307692307696%22%20height%3D%2220%22%20style%3D%22fill%3A%20transparent%3B%20stroke-width%3A%200%3B%20pointer-events%3A%20all%3B%22%2F%3E%3Crect%20class%3D%22nsdrag%20drag%20cursor-ns-resize%22%20data-subplot%3D%22xy%22%20x%3D%22101.5%22%20y%3D%2254.2%22%20width%3D%2220%22%20height%3D%22193.60000000000002%22%20style%3D%22fill%3A%20transparent%3B%20stroke-width%3A%200%3B%20pointer-events%3A%20all%3B%22%2F%3E%3Crect%20class%3D%22sdrag%20drag%20cursor-s-resize%22%20data-subplot%3D%22xy%22%20x%3D%22101.5%22%20y%3D%22247.8%22%20width%3D%2220%22%20height%3D%2224.200000000000003%22%20style%3D%22fill%3A%20transparent%3B%20stroke-width%3A%200%3B%20pointer-events%3A%20all%3B%22%2F%3E%3Crect%20class%3D%22ndrag%20drag%20cursor-n-resize%22%20data-subplot%3D%22xy%22%20x%3D%22101.5%22%20y%3D%2230%22%20width%3D%2220%22%20height%3D%2224.200000000000003%22%20style%3D%22fill%3A%20transparent%3B%20stroke-width%3A%200%3B%20pointer-events%3A%20all%3B%22%2F%3E%3C%2Fg%3E%3Cg%20class%3D%22x2y%22%3E%3Crect%20class%3D%22nsewdrag%20drag%22%20data-subplot%3D%22x2y%22%20x%3D%22393.02564102564105%22%20y%3D%2230%22%20width%3D%22243.92307692307693%22%20height%3D%22242%22%20style%3D%22fill%3A%20transparent%3B%20stroke-width%3A%200%3B%20pointer-events%3A%20all%3B%22%2F%3E%3Crect%20class%3D%22nwdrag%20drag%20cursor-nw-resize%22%20data-subplot%3D%22x2y%22%20x%3D%22373.02564102564105%22%20y%3D%2210%22%20width%3D%2220%22%20height%3D%2220%22%20style%3D%22fill%3A%20transparent%3B%20stroke-width%3A%200%3B%20pointer-events%3A%20all%3B%22%2F%3E%3Crect%20class%3D%22nedrag%20drag%20cursor-ne-resize%22%20data-subplot%3D%22x2y%22%20x%3D%22636.948717948718%22%20y%3D%2210%22%20width%3D%2220%22%20height%3D%2220%22%20style%3D%22fill%3A%20transparent%3B%20stroke-width%3A%200%3B%20pointer-events%3A%20all%3B%22%2F%3E%3Crect%20class%3D%22swdrag%20drag%20cursor-sw-resize%22%20data-subplot%3D%22x2y%22%20x%3D%22373.02564102564105%22%20y%3D%22272%22%20width%3D%2220%22%20height%3D%2220%22%20style%3D%22fill%3A%20transparent%3B%20stroke-width%3A%200%3B%20pointer-events%3A%20all%3B%22%2F%3E%3Crect%20class%3D%22sedrag%20drag%20cursor-se-resize%22%20data-subplot%3D%22x2y%22%20x%3D%22636.948717948718%22%20y%3D%22272%22%20width%3D%2220%22%20height%3D%2220%22%20style%3D%22fill%3A%20transparent%3B%20stroke-width%3A%200%3B%20pointer-events%3A%20all%3B%22%2F%3E%3Crect%20class%3D%22ewdrag%20drag%20cursor-ew-resize%22%20data-subplot%3D%22x2y%22%20x%3D%22417.4179487179488%22%20y%3D%22272.5%22%20width%3D%22195.13846153846157%22%20height%3D%2220%22%20style%3D%22fill%3A%20transparent%3B%20stroke-width%3A%200%3B%20pointer-events%3A%20all%3B%22%2F%3E%3Crect%20class%3D%22wdrag%20drag%20cursor-w-resize%22%20data-subplot%3D%22x2y%22%20x%3D%22393.02564102564105%22%20y%3D%22272.5%22%20width%3D%2224.392307692307696%22%20height%3D%2220%22%20style%3D%22fill%3A%20transparent%3B%20stroke-width%3A%200%3B%20pointer-events%3A%20all%3B%22%2F%3E%3Crect%20class%3D%22edrag%20drag%20cursor-e-resize%22%20data-subplot%3D%22x2y%22%20x%3D%22612.5564102564103%22%20y%3D%22272.5%22%20width%3D%2224.392307692307696%22%20height%3D%2220%22%20style%3D%22fill%3A%20transparent%3B%20stroke-width%3A%200%3B%20pointer-events%3A%20all%3B%22%2F%3E%3C%2Fg%3E%3Cg%20class%3D%22x3y%22%3E%3Crect%20class%3D%22nsewdrag%20drag%22%20data-subplot%3D%22x3y%22%20x%3D%22664.0512820512821%22%20y%3D%2230%22%20width%3D%22243.923076923077%22%20height%3D%22242%22%20style%3D%22fill%3A%20transparent%3B%20stroke-width%3A%200%3B%20pointer-events%3A%20all%3B%22%2F%3E%3Crect%20class%3D%22nwdrag%20drag%20cursor-nw-resize%22%20data-subplot%3D%22x3y%22%20x%3D%22644.0512820512821%22%20y%3D%2210%22%20width%3D%2220%22%20height%3D%2220%22%20style%3D%22fill%3A%20transparent%3B%20stroke-width%3A%200%3B%20pointer-events%3A%20all%3B%22%2F%3E%3Crect%20class%3D%22nedrag%20drag%20cursor-ne-resize%22%20data-subplot%3D%22x3y%22%20x%3D%22907.9743589743591%22%20y%3D%2210%22%20width%3D%2220%22%20height%3D%2220%22%20style%3D%22fill%3A%20transparent%3B%20stroke-width%3A%200%3B%20pointer-events%3A%20all%3B%22%2F%3E%3Crect%20class%3D%22swdrag%20drag%20cursor-sw-resize%22%20data-subplot%3D%22x3y%22%20x%3D%22644.0512820512821%22%20y%3D%22272%22%20width%3D%2220%22%20height%3D%2220%22%20style%3D%22fill%3A%20transparent%3B%20stroke-width%3A%200%3B%20pointer-events%3A%20all%3B%22%2F%3E%3Crect%20class%3D%22sedrag%20drag%20cursor-se-resize%22%20data-subplot%3D%22x3y%22%20x%3D%22907.9743589743591%22%20y%3D%22272%22%20width%3D%2220%22%20height%3D%2220%22%20style%3D%22fill%3A%20transparent%3B%20stroke-width%3A%200%3B%20pointer-events%3A%20all%3B%22%2F%3E%3Crect%20class%3D%22ewdrag%20drag%20cursor-ew-resize%22%20data-subplot%3D%22x3y%22%20x%3D%22688.4435897435898%22%20y%3D%22272.5%22%20width%3D%22195.1384615384616%22%20height%3D%2220%22%20style%3D%22fill%3A%20transparent%3B%20stroke-width%3A%200%3B%20pointer-events%3A%20all%3B%22%2F%3E%3Crect%20class%3D%22wdrag%20drag%20cursor-w-resize%22%20data-subplot%3D%22x3y%22%20x%3D%22664.0512820512821%22%20y%3D%22272.5%22%20width%3D%2224.3923076923077%22%20height%3D%2220%22%20style%3D%22fill%3A%20transparent%3B%20stroke-width%3A%200%3B%20pointer-events%3A%20all%3B%22%2F%3E%3Crect%20class%3D%22edrag%20drag%20cursor-e-resize%22%20data-subplot%3D%22x3y%22%20x%3D%22883.5820512820515%22%20y%3D%22272.5%22%20width%3D%2224.3923076923077%22%20height%3D%2220%22%20style%3D%22fill%3A%20transparent%3B%20stroke-width%3A%200%3B%20pointer-events%3A%20all%3B%22%2F%3E%3C%2Fg%3E%3Cg%20class%3D%22x4y%22%3E%3Crect%20class%3D%22nsewdrag%20drag%22%20data-subplot%3D%22x4y%22%20x%3D%22935.0769230769232%22%20y%3D%2230%22%20width%3D%22243.923076923077%22%20height%3D%22242%22%20style%3D%22fill%3A%20transparent%3B%20stroke-width%3A%200%3B%20pointer-events%3A%20all%3B%22%2F%3E%3Crect%20class%3D%22nwdrag%20drag%20cursor-nw-resize%22%20data-subplot%3D%22x4y%22%20x%3D%22915.0769230769232%22%20y%3D%2210%22%20width%3D%2220%22%20height%3D%2220%22%20style%3D%22fill%3A%20transparent%3B%20stroke-width%3A%200%3B%20pointer-events%3A%20all%3B%22%2F%3E%3Crect%20class%3D%22nedrag%20drag%20cursor-ne-resize%22%20data-subplot%3D%22x4y%22%20x%3D%221179.0000000000002%22%20y%3D%2210%22%20width%3D%2220%22%20height%3D%2220%22%20style%3D%22fill%3A%20transparent%3B%20stroke-width%3A%200%3B%20pointer-events%3A%20all%3B%22%2F%3E%3Crect%20class%3D%22swdrag%20drag%20cursor-sw-resize%22%20data-subplot%3D%22x4y%22%20x%3D%22915.0769230769232%22%20y%3D%22272%22%20width%3D%2220%22%20height%3D%2220%22%20style%3D%22fill%3A%20transparent%3B%20stroke-width%3A%200%3B%20pointer-events%3A%20all%3B%22%2F%3E%3Crect%20class%3D%22sedrag%20drag%20cursor-se-resize%22%20data-subplot%3D%22x4y%22%20x%3D%221179.0000000000002%22%20y%3D%22272%22%20width%3D%2220%22%20height%3D%2220%22%20style%3D%22fill%3A%20transparent%3B%20stroke-width%3A%200%3B%20pointer-events%3A%20all%3B%22%2F%3E%3Crect%20class%3D%22ewdrag%20drag%20cursor-ew-resize%22%20data-subplot%3D%22x4y%22%20x%3D%22959.4692307692309%22%20y%3D%22272.5%22%20width%3D%22195.1384615384616%22%20height%3D%2220%22%20style%3D%22fill%3A%20transparent%3B%20stroke-width%3A%200%3B%20pointer-events%3A%20all%3B%22%2F%3E%3Crect%20class%3D%22wdrag%20drag%20cursor-w-resize%22%20data-subplot%3D%22x4y%22%20x%3D%22935.0769230769232%22%20y%3D%22272.5%22%20width%3D%2224.3923076923077%22%20height%3D%2220%22%20style%3D%22fill%3A%20transparent%3B%20stroke-width%3A%200%3B%20pointer-events%3A%20all%3B%22%2F%3E%3Crect%20class%3D%22edrag%20drag%20cursor-e-resize%22%20data-subplot%3D%22x4y%22%20x%3D%221154.6076923076926%22%20y%3D%22272.5%22%20width%3D%2224.3923076923077%22%20height%3D%2220%22%20style%3D%22fill%3A%20transparent%3B%20stroke-width%3A%200%3B%20pointer-events%3A%20all%3B%22%2F%3E%3C%2Fg%3E%3C%2Fg%3E%3Cg%20class%3D%22layer-below%22%3E%3Cg%20class%3D%22imagelayer%22%2F%3E%3Cg%20class%3D%22shapelayer%22%2F%3E%3C%2Fg%3E%3Cg%20class%3D%22cartesianlayer%22%3E%3Cg%20class%3D%22subplot%20xy%22%3E%3Cg%20class%3D%22layer-subplot%22%3E%3Cg%20class%3D%22shapelayer%22%2F%3E%3Cg%20class%3D%22imagelayer%22%2F%3E%3C%2Fg%3E%3Cg%20class%3D%22gridlayer%22%3E%3Cg%20class%3D%22x%22%3E%3Cpath%20class%3D%22xgrid%20crisp%22%20transform%3D%22translate(204.05%2C0)%22%20d%3D%22M0%2C30v242%22%20style%3D%22stroke%3A%20rgb(0%2C%200%2C%200)%3B%20stroke-opacity%3A%200%3B%20stroke-width%3A%201px%3B%22%2F%3E%3Cpath%20class%3D%22xgrid%20crisp%22%20transform%3D%22translate(286.1%2C0)%22%20d%3D%22M0%2C30v242%22%20style%3D%22stroke%3A%20rgb(0%2C%200%2C%200)%3B%20stroke-opacity%3A%200%3B%20stroke-width%3A%201px%3B%22%2F%3E%3C%2Fg%3E%3Cg%20class%3D%22y%22%3E%3Cpath%20class%3D%22ygrid%20crisp%22%20transform%3D%22translate(0%2C247.8)%22%20d%3D%22M122%2C0h243.92307692307696%22%20style%3D%22stroke%3A%20rgb(89%2C%2089%2C%2089)%3B%20stroke-opacity%3A%200.25%3B%20stroke-width%3A%201px%3B%22%2F%3E%3Cpath%20class%3D%22ygrid%20crisp%22%20transform%3D%22translate(0%2C199.4)%22%20d%3D%22M122%2C0h243.92307692307696%22%20style%3D%22stroke%3A%20rgb(89%2C%2089%2C%2089)%3B%20stroke-opacity%3A%200.25%3B%20stroke-width%3A%201px%3B%22%2F%3E%3Cpath%20class%3D%22ygrid%20crisp%22%20transform%3D%22translate(0%2C151)%22%20d%3D%22M122%2C0h243.92307692307696%22%20style%3D%22stroke%3A%20rgb(89%2C%2089%2C%2089)%3B%20stroke-opacity%3A%200.25%3B%20stroke-width%3A%201px%3B%22%2F%3E%3Cpath%20class%3D%22ygrid%20crisp%22%20transform%3D%22translate(0%2C102.6)%22%20d%3D%22M122%2C0h243.92307692307696%22%20style%3D%22stroke%3A%20rgb(89%2C%2089%2C%2089)%3B%20stroke-opacity%3A%200.25%3B%20stroke-width%3A%201px%3B%22%2F%3E%3Cpath%20class%3D%22ygrid%20crisp%22%20transform%3D%22translate(0%2C54.2)%22%20d%3D%22M122%2C0h243.92307692307696%22%20style%3D%22stroke%3A%20rgb(89%2C%2089%2C%2089)%3B%20stroke-opacity%3A%200.25%3B%20stroke-width%3A%201px%3B%22%2F%3E%3C%2Fg%3E%3C%2Fg%3E%3Cg%20class%3D%22zerolinelayer%22%3E%3Cpath%20class%3D%22xzl%20zl%20crisp%22%20transform%3D%22translate(122%2C0)%22%20d%3D%22M0%2C30v242%22%20style%3D%22stroke%3A%20rgb(89%2C%2089%2C%2089)%3B%20stroke-opacity%3A%200.5%3B%20stroke-width%3A%201px%3B%22%2F%3E%3C%2Fg%3E%3Cpath%20class%3D%22xlines-below%22%2F%3E%3Cpath%20class%3D%22ylines-below%22%2F%3E%3Cg%20class%3D%22overlines-below%22%2F%3E%3Cg%20class%3D%22xaxislayer-below%22%2F%3E%3Cg%20class%3D%22yaxislayer-below%22%2F%3E%3Cg%20class%3D%22overaxes-below%22%2F%3E%3Cg%20class%3D%22plot%22%20transform%3D%22translate(122%2C30)%22%20clip-path%3D%22url('%23clip1f4f79xyplot')%22%3E%3Cg%20class%3D%22barlayer%20mlayer%22%3E%3Cg%20class%3D%22trace%20bars%22%20style%3D%22opacity%3A%201%3B%22%3E%3Cg%20class%3D%22points%22%3E%3Cg%20class%3D%22point%22%3E%3Cpath%20d%3D%22M0%2C237.16V217.8H216.84V237.16Z%22%20style%3D%22vector-effect%3A%20non-scaling-stroke%3B%20opacity%3A%201%3B%20stroke-width%3A%200px%3B%20fill%3A%20rgb(78%2C%20121%2C%20167)%3B%20fill-opacity%3A%201%3B%22%2F%3E%3C%2Fg%3E%3Cg%20class%3D%22point%22%3E%3Cpath%20d%3D%22M0%2C188.76V169.4H218.25V188.76Z%22%20style%3D%22vector-effect%3A%20non-scaling-stroke%3B%20opacity%3A%201%3B%20stroke-width%3A%200px%3B%20fill%3A%20rgb(78%2C%20121%2C%20167)%3B%20fill-opacity%3A%201%3B%22%2F%3E%3C%2Fg%3E%3Cg%20class%3D%22point%22%3E%3Cpath%20d%3D%22M0%2C140.36V121H230.82V140.36Z%22%20style%3D%22vector-effect%3A%20non-scaling-stroke%3B%20opacity%3A%201%3B%20stroke-width%3A%200px%3B%20fill%3A%20rgb(78%2C%20121%2C%20167)%3B%20fill-opacity%3A%201%3B%22%2F%3E%3C%2Fg%3E%3Cg%20class%3D%22point%22%3E%3Cpath%20d%3D%22M0%2C91.96V72.6H215.83V91.96Z%22%20style%3D%22vector-effect%3A%20non-scaling-stroke%3B%20opacity%3A%201%3B%20stroke-width%3A%200px%3B%20fill%3A%20rgb(78%2C%20121%2C%20167)%3B%20fill-opacity%3A%201%3B%22%2F%3E%3C%2Fg%3E%3Cg%20class%3D%22point%22%3E%3Cpath%20d%3D%22M0%2C43.56V24.2H231.73V43.56Z%22%20style%3D%22vector-effect%3A%20non-scaling-stroke%3B%20opacity%3A%201%3B%20stroke-width%3A%200px%3B%20fill%3A%20rgb(78%2C%20121%2C%20167)%3B%20fill-opacity%3A%201%3B%22%2F%3E%3C%2Fg%3E%3C%2Fg%3E%3C%2Fg%3E%3Cg%20class%3D%22trace%20bars%22%20style%3D%22opacity%3A%201%3B%22%3E%3Cg%20class%3D%22points%22%3E%3Cg%20class%3D%22point%22%3E%3Cpath%20d%3D%22M0%2C217.8V198.44H18.92V217.8Z%22%20style%3D%22vector-effect%3A%20non-scaling-stroke%3B%20opacity%3A%201%3B%20stroke-width%3A%200px%3B%20fill%3A%20rgb(242%2C%20142%2C%2044)%3B%20fill-opacity%3A%201%3B%22%2F%3E%3C%2Fg%3E%3Cg%20class%3D%22point%22%3E%3Cpath%20d%3D%22M0%2C169.4V150.04H19.18V169.4Z%22%20style%3D%22vector-effect%3A%20non-scaling-stroke%3B%20opacity%3A%201%3B%20stroke-width%3A%200px%3B%20fill%3A%20rgb(242%2C%20142%2C%2044)%3B%20fill-opacity%3A%201%3B%22%2F%3E%3C%2Fg%3E%3Cg%20class%3D%22point%22%3E%3Cpath%20d%3D%22M0%2C121V101.64H20.58V121Z%22%20style%3D%22vector-effect%3A%20non-scaling-stroke%3B%20opacity%3A%201%3B%20stroke-width%3A%200px%3B%20fill%3A%20rgb(242%2C%20142%2C%2044)%3B%20fill-opacity%3A%201%3B%22%2F%3E%3C%2Fg%3E%3Cg%20class%3D%22point%22%3E%3Cpath%20d%3D%22M0%2C72.6V53.24H18.74V72.6Z%22%20style%3D%22vector-effect%3A%20non-scaling-stroke%3B%20opacity%3A%201%3B%20stroke-width%3A%200px%3B%20fill%3A%20rgb(242%2C%20142%2C%2044)%3B%20fill-opacity%3A%201%3B%22%2F%3E%3C%2Fg%3E%3Cg%20class%3D%22point%22%3E%3Cpath%20d%3D%22M0%2C24.2V4.84H20.49V24.2Z%22%20style%3D%22vector-effect%3A%20non-scaling-stroke%3B%20opacity%3A%201%3B%20stroke-width%3A%200px%3B%20fill%3A%20rgb(242%2C%20142%2C%2044)%3B%20fill-opacity%3A%201%3B%22%2F%3E%3C%2Fg%3E%3C%2Fg%3E%3C%2Fg%3E%3C%2Fg%3E%3C%2Fg%3E%3Cg%20class%3D%22overplot%22%2F%3E%3Cpath%20class%3D%22xlines-above%20crisp%22%20d%3D%22M121%2C272.5H365.92307692307696%22%20style%3D%22fill%3A%20none%3B%20stroke-width%3A%201px%3B%20stroke%3A%20rgb(89%2C%2089%2C%2089)%3B%20stroke-opacity%3A%200.25%3B%22%2F%3E%3Cpath%20class%3D%22ylines-above%20crisp%22%20d%3D%22M121.5%2C30V272%22%20style%3D%22fill%3A%20none%3B%20stroke-width%3A%201px%3B%20stroke%3A%20rgb(89%2C%2089%2C%2089)%3B%20stroke-opacity%3A%200.25%3B%22%2F%3E%3Cg%20class%3D%22overlines-above%22%2F%3E%3Cg%20class%3D%22xaxislayer-above%22%3E%3Cg%20class%3D%22xtick%22%3E%3Ctext%20text-anchor%3D%22middle%22%20x%3D%220%22%20y%3D%22287.4%22%20data-unformatted%3D%220%22%20data-math%3D%22N%22%20transform%3D%22translate(122%2C0)%22%20style%3D%22font-family%3A%20%26quot%3BOpen%20Sans%26quot%3B%2C%20verdana%2C%20arial%2C%20sans-serif%3B%20font-size%3A%2012px%3B%20fill%3A%20rgb(89%2C%2089%2C%2089)%3B%20fill-opacity%3A%201%3B%20white-space%3A%20pre%3B%22%3E0%3C%2Ftext%3E%3C%2Fg%3E%3Cg%20class%3D%22xtick%22%3E%3Ctext%20text-anchor%3D%22middle%22%20x%3D%220%22%20y%3D%22287.4%22%20data-unformatted%3D%22200%22%20data-math%3D%22N%22%20transform%3D%22translate(204.05%2C0)%22%20style%3D%22font-family%3A%20%26quot%3BOpen%20Sans%26quot%3B%2C%20verdana%2C%20arial%2C%20sans-serif%3B%20font-size%3A%2012px%3B%20fill%3A%20rgb(89%2C%2089%2C%2089)%3B%20fill-opacity%3A%201%3B%20white-space%3A%20pre%3B%22%3E200%3C%2Ftext%3E%3C%2Fg%3E%3Cg%20class%3D%22xtick%22%3E%3Ctext%20text-anchor%3D%22middle%22%20x%3D%220%22%20y%3D%22287.4%22%20data-unformatted%3D%22400%22%20data-math%3D%22N%22%20transform%3D%22translate(286.1%2C0)%22%20style%3D%22font-family%3A%20%26quot%3BOpen%20Sans%26quot%3B%2C%20verdana%2C%20arial%2C%20sans-serif%3B%20font-size%3A%2012px%3B%20fill%3A%20rgb(89%2C%2089%2C%2089)%3B%20fill-opacity%3A%201%3B%20white-space%3A%20pre%3B%22%3E400%3C%2Ftext%3E%3C%2Fg%3E%3C%2Fg%3E%3Cg%20class%3D%22yaxislayer-above%22%3E%3Cg%20class%3D%22ytick%22%3E%3Ctext%20text-anchor%3D%22end%22%20x%3D%22118.6%22%20y%3D%224.199999999999999%22%20data-unformatted%3D%22Bachelor%22%20data-math%3D%22N%22%20transform%3D%22translate(0%2C247.8)%22%20style%3D%22font-family%3A%20%26quot%3BOpen%20Sans%26quot%3B%2C%20verdana%2C%20arial%2C%20sans-serif%3B%20font-size%3A%2012px%3B%20fill%3A%20rgb(89%2C%2089%2C%2089)%3B%20fill-opacity%3A%201%3B%20white-space%3A%20pre%3B%22%3EBachelor%3C%2Ftext%3E%3C%2Fg%3E%3Cg%20class%3D%22ytick%22%3E%3Ctext%20text-anchor%3D%22end%22%20x%3D%22118.6%22%20y%3D%224.199999999999999%22%20data-unformatted%3D%22College%22%20data-math%3D%22N%22%20transform%3D%22translate(0%2C199.4)%22%20style%3D%22font-family%3A%20%26quot%3BOpen%20Sans%26quot%3B%2C%20verdana%2C%20arial%2C%20sans-serif%3B%20font-size%3A%2012px%3B%20fill%3A%20rgb(89%2C%2089%2C%2089)%3B%20fill-opacity%3A%201%3B%20white-space%3A%20pre%3B%22%3ECollege%3C%2Ftext%3E%3C%2Fg%3E%3Cg%20class%3D%22ytick%22%3E%3Ctext%20text-anchor%3D%22end%22%20x%3D%22118.6%22%20y%3D%224.199999999999999%22%20data-unformatted%3D%22Doctor%22%20data-math%3D%22N%22%20transform%3D%22translate(0%2C151)%22%20style%3D%22font-family%3A%20%26quot%3BOpen%20Sans%26quot%3B%2C%20verdana%2C%20arial%2C%20sans-serif%3B%20font-size%3A%2012px%3B%20fill%3A%20rgb(89%2C%2089%2C%2089)%3B%20fill-opacity%3A%201%3B%20white-space%3A%20pre%3B%22%3EDoctor%3C%2Ftext%3E%3C%2Fg%3E%3Cg%20class%3D%22ytick%22%3E%3Ctext%20text-anchor%3D%22end%22%20x%3D%22118.6%22%20y%3D%224.199999999999999%22%20data-unformatted%3D%22High%20School%20or%20Below%22%20data-math%3D%22N%22%20transform%3D%22translate(0%2C102.6)%22%20style%3D%22font-family%3A%20%26quot%3BOpen%20Sans%26quot%3B%2C%20verdana%2C%20arial%2C%20sans-serif%3B%20font-size%3A%2012px%3B%20fill%3A%20rgb(89%2C%2089%2C%2089)%3B%20fill-opacity%3A%201%3B%20white-space%3A%20pre%3B%22%3EHigh%20School%20or%20Below%3C%2Ftext%3E%3C%2Fg%3E%3Cg%20class%3D%22ytick%22%3E%3Ctext%20text-anchor%3D%22end%22%20x%3D%22118.6%22%20y%3D%224.199999999999999%22%20data-unformatted%3D%22Master%22%20data-math%3D%22N%22%20transform%3D%22translate(0%2C54.2)%22%20style%3D%22font-family%3A%20%26quot%3BOpen%20Sans%26quot%3B%2C%20verdana%2C%20arial%2C%20sans-serif%3B%20font-size%3A%2012px%3B%20fill%3A%20rgb(89%2C%2089%2C%2089)%3B%20fill-opacity%3A%201%3B%20white-space%3A%20pre%3B%22%3EMaster%3C%2Ftext%3E%3C%2Fg%3E%3C%2Fg%3E%3Cg%20class%3D%22overaxes-above%22%2F%3E%3C%2Fg%3E%3Cg%20class%3D%22subplot%20x2y%22%3E%3Cg%20class%3D%22layer-subplot%22%3E%3Cg%20class%3D%22shapelayer%22%2F%3E%3Cg%20class%3D%22imagelayer%22%2F%3E%3C%2Fg%3E%3Cg%20class%3D%22gridlayer%22%3E%3Cg%20class%3D%22x2%22%3E%3Cpath%20class%3D%22x2grid%20crisp%22%20transform%3D%22translate(474.01564102564106%2C0)%22%20d%3D%22M0%2C30v242%22%20style%3D%22stroke%3A%20rgb(238%2C%20238%2C%20238)%3B%20stroke-opacity%3A%201%3B%20stroke-width%3A%201px%3B%22%2F%3E%3Cpath%20class%3D%22x2grid%20crisp%22%20transform%3D%22translate(555.005641025641%2C0)%22%20d%3D%22M0%2C30v242%22%20style%3D%22stroke%3A%20rgb(238%2C%20238%2C%20238)%3B%20stroke-opacity%3A%201%3B%20stroke-width%3A%201px%3B%22%2F%3E%3C%2Fg%3E%3Cg%20class%3D%22y%22%3E%3Cpath%20class%3D%22ygrid%20crisp%22%20transform%3D%22translate(0%2C247.8)%22%20d%3D%22M393.02564102564105%2C0h243.92307692307693%22%20style%3D%22stroke%3A%20rgb(89%2C%2089%2C%2089)%3B%20stroke-opacity%3A%200.25%3B%20stroke-width%3A%201px%3B%22%2F%3E%3Cpath%20class%3D%22ygrid%20crisp%22%20transform%3D%22translate(0%2C199.4)%22%20d%3D%22M393.02564102564105%2C0h243.92307692307693%22%20style%3D%22stroke%3A%20rgb(89%2C%2089%2C%2089)%3B%20stroke-opacity%3A%200.25%3B%20stroke-width%3A%201px%3B%22%2F%3E%3Cpath%20class%3D%22ygrid%20crisp%22%20transform%3D%22translate(0%2C151)%22%20d%3D%22M393.02564102564105%2C0h243.92307692307693%22%20style%3D%22stroke%3A%20rgb(89%2C%2089%2C%2089)%3B%20stroke-opacity%3A%200.25%3B%20stroke-width%3A%201px%3B%22%2F%3E%3Cpath%20class%3D%22ygrid%20crisp%22%20transform%3D%22translate(0%2C102.6)%22%20d%3D%22M393.02564102564105%2C0h243.92307692307693%22%20style%3D%22stroke%3A%20rgb(89%2C%2089%2C%2089)%3B%20stroke-opacity%3A%200.25%3B%20stroke-width%3A%201px%3B%22%2F%3E%3Cpath%20class%3D%22ygrid%20crisp%22%20transform%3D%22translate(0%2C54.2)%22%20d%3D%22M393.02564102564105%2C0h243.92307692307693%22%20style%3D%22stroke%3A%20rgb(89%2C%2089%2C%2089)%3B%20stroke-opacity%3A%200.25%3B%20stroke-width%3A%201px%3B%22%2F%3E%3C%2Fg%3E%3C%2Fg%3E%3Cg%20class%3D%22zerolinelayer%22%3E%3Cpath%20class%3D%22x2zl%20zl%20crisp%22%20transform%3D%22translate(393.02564102564105%2C0)%22%20d%3D%22M0%2C30v242%22%20style%3D%22stroke%3A%20rgb(68%2C%2068%2C%2068)%3B%20stroke-opacity%3A%201%3B%20stroke-width%3A%201px%3B%22%2F%3E%3C%2Fg%3E%3Cpath%20class%3D%22xlines-below%22%2F%3E%3Cpath%20class%3D%22ylines-below%22%2F%3E%3Cg%20class%3D%22overlines-below%22%2F%3E%3Cg%20class%3D%22xaxislayer-below%22%2F%3E%3Cg%20class%3D%22yaxislayer-below%22%2F%3E%3Cg%20class%3D%22overaxes-below%22%2F%3E%3Cg%20class%3D%22plot%22%20transform%3D%22translate(393.02564102564105%2C30)%22%20clip-path%3D%22url('%23clip1f4f79x2yplot')%22%3E%3Cg%20class%3D%22barlayer%20mlayer%22%3E%3Cg%20class%3D%22trace%20bars%22%20style%3D%22opacity%3A%201%3B%22%3E%3Cg%20class%3D%22points%22%3E%3Cg%20class%3D%22point%22%3E%3Cpath%20d%3D%22M0%2C237.16V217.8H218.82V237.16Z%22%20style%3D%22vector-effect%3A%20non-scaling-stroke%3B%20opacity%3A%201%3B%20stroke-width%3A%200px%3B%20fill%3A%20rgb(78%2C%20121%2C%20167)%3B%20fill-opacity%3A%201%3B%22%2F%3E%3C%2Fg%3E%3Cg%20class%3D%22point%22%3E%3Cpath%20d%3D%22M0%2C188.76V169.4H216.15V188.76Z%22%20style%3D%22vector-effect%3A%20non-scaling-stroke%3B%20opacity%3A%201%3B%20stroke-width%3A%200px%3B%20fill%3A%20rgb(78%2C%20121%2C%20167)%3B%20fill-opacity%3A%201%3B%22%2F%3E%3C%2Fg%3E%3Cg%20class%3D%22point%22%3E%3Cpath%20d%3D%22M0%2C140.36V121H231.73V140.36Z%22%20style%3D%22vector-effect%3A%20non-scaling-stroke%3B%20opacity%3A%201%3B%20stroke-width%3A%200px%3B%20fill%3A%20rgb(78%2C%20121%2C%20167)%3B%20fill-opacity%3A%201%3B%22%2F%3E%3C%2Fg%3E%3Cg%20class%3D%22point%22%3E%3Cpath%20d%3D%22M0%2C91.96V72.6H219.14V91.96Z%22%20style%3D%22vector-effect%3A%20non-scaling-stroke%3B%20opacity%3A%201%3B%20stroke-width%3A%200px%3B%20fill%3A%20rgb(78%2C%20121%2C%20167)%3B%20fill-opacity%3A%201%3B%22%2F%3E%3C%2Fg%3E%3Cg%20class%3D%22point%22%3E%3Cpath%20d%3D%22M0%2C43.56V24.2H229.09V43.56Z%22%20style%3D%22vector-effect%3A%20non-scaling-stroke%3B%20opacity%3A%201%3B%20stroke-width%3A%200px%3B%20fill%3A%20rgb(78%2C%20121%2C%20167)%3B%20fill-opacity%3A%201%3B%22%2F%3E%3C%2Fg%3E%3C%2Fg%3E%3C%2Fg%3E%3Cg%20class%3D%22trace%20bars%22%20style%3D%22opacity%3A%201%3B%22%3E%3Cg%20class%3D%22points%22%3E%3Cg%20class%3D%22point%22%3E%3Cpath%20d%3D%22M0%2C217.8V198.44H19.11V217.8Z%22%20style%3D%22vector-effect%3A%20non-scaling-stroke%3B%20opacity%3A%201%3B%20stroke-width%3A%200px%3B%20fill%3A%20rgb(242%2C%20142%2C%2044)%3B%20fill-opacity%3A%201%3B%22%2F%3E%3C%2Fg%3E%3Cg%20class%3D%22point%22%3E%3Cpath%20d%3D%22M0%2C169.4V150.04H19.05V169.4Z%22%20style%3D%22vector-effect%3A%20non-scaling-stroke%3B%20opacity%3A%201%3B%20stroke-width%3A%200px%3B%20fill%3A%20rgb(242%2C%20142%2C%2044)%3B%20fill-opacity%3A%201%3B%22%2F%3E%3C%2Fg%3E%3Cg%20class%3D%22point%22%3E%3Cpath%20d%3D%22M0%2C121V101.64H20.39V121Z%22%20style%3D%22vector-effect%3A%20non-scaling-stroke%3B%20opacity%3A%201%3B%20stroke-width%3A%200px%3B%20fill%3A%20rgb(242%2C%20142%2C%2044)%3B%20fill-opacity%3A%201%3B%22%2F%3E%3C%2Fg%3E%3Cg%20class%3D%22point%22%3E%3Cpath%20d%3D%22M0%2C72.6V53.24H19.34V72.6Z%22%20style%3D%22vector-effect%3A%20non-scaling-stroke%3B%20opacity%3A%201%3B%20stroke-width%3A%200px%3B%20fill%3A%20rgb(242%2C%20142%2C%2044)%3B%20fill-opacity%3A%201%3B%22%2F%3E%3C%2Fg%3E%3Cg%20class%3D%22point%22%3E%3Cpath%20d%3D%22M0%2C24.2V4.84H20.43V24.2Z%22%20style%3D%22vector-effect%3A%20non-scaling-stroke%3B%20opacity%3A%201%3B%20stroke-width%3A%200px%3B%20fill%3A%20rgb(242%2C%20142%2C%2044)%3B%20fill-opacity%3A%201%3B%22%2F%3E%3C%2Fg%3E%3C%2Fg%3E%3C%2Fg%3E%3C%2Fg%3E%3C%2Fg%3E%3Cg%20class%3D%22overplot%22%2F%3E%3Cpath%20class%3D%22xlines-above%20crisp%22%20d%3D%22M0%2C0%22%20style%3D%22fill%3A%20none%3B%22%2F%3E%3Cpath%20class%3D%22ylines-above%20crisp%22%20d%3D%22M0%2C0%22%20style%3D%22fill%3A%20none%3B%22%2F%3E%3Cg%20class%3D%22overlines-above%22%2F%3E%3Cg%20class%3D%22xaxislayer-above%22%3E%3Cg%20class%3D%22x2tick%22%3E%3Ctext%20text-anchor%3D%22middle%22%20x%3D%220%22%20y%3D%22285%22%20data-unformatted%3D%220%22%20data-math%3D%22N%22%20transform%3D%22translate(393.02564102564105%2C0)%22%20style%3D%22font-family%3A%20%26quot%3BOpen%20Sans%26quot%3B%2C%20verdana%2C%20arial%2C%20sans-serif%3B%20font-size%3A%2012px%3B%20fill%3A%20rgb(89%2C%2089%2C%2089)%3B%20fill-opacity%3A%201%3B%20white-space%3A%20pre%3B%22%3E0%3C%2Ftext%3E%3C%2Fg%3E%3Cg%20class%3D%22x2tick%22%3E%3Ctext%20text-anchor%3D%22middle%22%20x%3D%220%22%20y%3D%22285%22%20data-unformatted%3D%22200%22%20data-math%3D%22N%22%20transform%3D%22translate(474.01564102564106%2C0)%22%20style%3D%22font-family%3A%20%26quot%3BOpen%20Sans%26quot%3B%2C%20verdana%2C%20arial%2C%20sans-serif%3B%20font-size%3A%2012px%3B%20fill%3A%20rgb(89%2C%2089%2C%2089)%3B%20fill-opacity%3A%201%3B%20white-space%3A%20pre%3B%22%3E200%3C%2Ftext%3E%3C%2Fg%3E%3Cg%20class%3D%22x2tick%22%3E%3Ctext%20text-anchor%3D%22middle%22%20x%3D%220%22%20y%3D%22285%22%20data-unformatted%3D%22400%22%20data-math%3D%22N%22%20transform%3D%22translate(555.005641025641%2C0)%22%20style%3D%22font-family%3A%20%26quot%3BOpen%20Sans%26quot%3B%2C%20verdana%2C%20arial%2C%20sans-serif%3B%20font-size%3A%2012px%3B%20fill%3A%20rgb(89%2C%2089%2C%2089)%3B%20fill-opacity%3A%201%3B%20white-space%3A%20pre%3B%22%3E400%3C%2Ftext%3E%3C%2Fg%3E%3Cg%20class%3D%22x2tick%22%3E%3Ctext%20text-anchor%3D%22middle%22%20x%3D%220%22%20y%3D%22285%22%20data-unformatted%3D%22600%22%20data-math%3D%22N%22%20transform%3D%22translate(635.985641025641%2C0)%22%20style%3D%22font-family%3A%20%26quot%3BOpen%20Sans%26quot%3B%2C%20verdana%2C%20arial%2C%20sans-serif%3B%20font-size%3A%2012px%3B%20fill%3A%20rgb(89%2C%2089%2C%2089)%3B%20fill-opacity%3A%201%3B%20white-space%3A%20pre%3B%22%3E600%3C%2Ftext%3E%3C%2Fg%3E%3C%2Fg%3E%3Cg%20class%3D%22yaxislayer-above%22%2F%3E%3Cg%20class%3D%22overaxes-above%22%2F%3E%3C%2Fg%3E%3Cg%20class%3D%22subplot%20x3y%22%3E%3Cg%20class%3D%22layer-subplot%22%3E%3Cg%20class%3D%22shapelayer%22%2F%3E%3Cg%20class%3D%22imagelayer%22%2F%3E%3C%2Fg%3E%3Cg%20class%3D%22gridlayer%22%3E%3Cg%20class%3D%22x3%22%3E%3Cpath%20class%3D%22x3grid%20crisp%22%20transform%3D%22translate(744.2812820512821%2C0)%22%20d%3D%22M0%2C30v242%22%20style%3D%22stroke%3A%20rgb(238%2C%20238%2C%20238)%3B%20stroke-opacity%3A%201%3B%20stroke-width%3A%201px%3B%22%2F%3E%3Cpath%20class%3D%22x3grid%20crisp%22%20transform%3D%22translate(824.5112820512821%2C0)%22%20d%3D%22M0%2C30v242%22%20style%3D%22stroke%3A%20rgb(238%2C%20238%2C%20238)%3B%20stroke-opacity%3A%201%3B%20stroke-width%3A%201px%3B%22%2F%3E%3Cpath%20class%3D%22x3grid%20crisp%22%20transform%3D%22translate(904.741282051282%2C0)%22%20d%3D%22M0%2C30v242%22%20style%3D%22stroke%3A%20rgb(238%2C%20238%2C%20238)%3B%20stroke-opacity%3A%201%3B%20stroke-width%3A%201px%3B%22%2F%3E%3C%2Fg%3E%3Cg%20class%3D%22y%22%3E%3Cpath%20class%3D%22ygrid%20crisp%22%20transform%3D%22translate(0%2C247.8)%22%20d%3D%22M664.0512820512821%2C0h243.923076923077%22%20style%3D%22stroke%3A%20rgb(89%2C%2089%2C%2089)%3B%20stroke-opacity%3A%200.25%3B%20stroke-width%3A%201px%3B%22%2F%3E%3Cpath%20class%3D%22ygrid%20crisp%22%20transform%3D%22translate(0%2C199.4)%22%20d%3D%22M664.0512820512821%2C0h243.923076923077%22%20style%3D%22stroke%3A%20rgb(89%2C%2089%2C%2089)%3B%20stroke-opacity%3A%200.25%3B%20stroke-width%3A%201px%3B%22%2F%3E%3Cpath%20class%3D%22ygrid%20crisp%22%20transform%3D%22translate(0%2C151)%22%20d%3D%22M664.0512820512821%2C0h243.923076923077%22%20style%3D%22stroke%3A%20rgb(89%2C%2089%2C%2089)%3B%20stroke-opacity%3A%200.25%3B%20stroke-width%3A%201px%3B%22%2F%3E%3Cpath%20class%3D%22ygrid%20crisp%22%20transform%3D%22translate(0%2C102.6)%22%20d%3D%22M664.0512820512821%2C0h243.923076923077%22%20style%3D%22stroke%3A%20rgb(89%2C%2089%2C%2089)%3B%20stroke-opacity%3A%200.25%3B%20stroke-width%3A%201px%3B%22%2F%3E%3Cpath%20class%3D%22ygrid%20crisp%22%20transform%3D%22translate(0%2C54.2)%22%20d%3D%22M664.0512820512821%2C0h243.923076923077%22%20style%3D%22stroke%3A%20rgb(89%2C%2089%2C%2089)%3B%20stroke-opacity%3A%200.25%3B%20stroke-width%3A%201px%3B%22%2F%3E%3C%2Fg%3E%3C%2Fg%3E%3Cg%20class%3D%22zerolinelayer%22%3E%3Cpath%20class%3D%22x3zl%20zl%20crisp%22%20transform%3D%22translate(664.0512820512821%2C0)%22%20d%3D%22M0%2C30v242%22%20style%3D%22stroke%3A%20rgb(68%2C%2068%2C%2068)%3B%20stroke-opacity%3A%201%3B%20stroke-width%3A%201px%3B%22%2F%3E%3C%2Fg%3E%3Cpath%20class%3D%22xlines-below%22%2F%3E%3Cpath%20class%3D%22ylines-below%22%2F%3E%3Cg%20class%3D%22overlines-below%22%2F%3E%3Cg%20class%3D%22xaxislayer-below%22%2F%3E%3Cg%20class%3D%22yaxislayer-below%22%2F%3E%3Cg%20class%3D%22overaxes-below%22%2F%3E%3Cg%20class%3D%22plot%22%20transform%3D%22translate(664.0512820512821%2C30)%22%20clip-path%3D%22url('%23clip1f4f79x3yplot')%22%3E%3Cg%20class%3D%22barlayer%20mlayer%22%3E%3Cg%20class%3D%22trace%20bars%22%20style%3D%22opacity%3A%201%3B%22%3E%3Cg%20class%3D%22points%22%3E%3Cg%20class%3D%22point%22%3E%3Cpath%20d%3D%22M0%2C237.16V217.8H218.76V237.16Z%22%20style%3D%22vector-effect%3A%20non-scaling-stroke%3B%20opacity%3A%201%3B%20stroke-width%3A%200px%3B%20fill%3A%20rgb(78%2C%20121%2C%20167)%3B%20fill-opacity%3A%201%3B%22%2F%3E%3C%2Fg%3E%3Cg%20class%3D%22point%22%3E%3Cpath%20d%3D%22M0%2C188.76V169.4H222.01V188.76Z%22%20style%3D%22vector-effect%3A%20non-scaling-stroke%3B%20opacity%3A%201%3B%20stroke-width%3A%200px%3B%20fill%3A%20rgb(78%2C%20121%2C%20167)%3B%20fill-opacity%3A%201%3B%22%2F%3E%3C%2Fg%3E%3Cg%20class%3D%22point%22%3E%3Cpath%20d%3D%22M0%2C140.36V121H231.73V140.36Z%22%20style%3D%22vector-effect%3A%20non-scaling-stroke%3B%20opacity%3A%201%3B%20stroke-width%3A%200px%3B%20fill%3A%20rgb(78%2C%20121%2C%20167)%3B%20fill-opacity%3A%201%3B%22%2F%3E%3C%2Fg%3E%3Cg%20class%3D%22point%22%3E%3Cpath%20d%3D%22M0%2C91.96V72.6H220.92V91.96Z%22%20style%3D%22vector-effect%3A%20non-scaling-stroke%3B%20opacity%3A%201%3B%20stroke-width%3A%200px%3B%20fill%3A%20rgb(78%2C%20121%2C%20167)%3B%20fill-opacity%3A%201%3B%22%2F%3E%3C%2Fg%3E%3Cg%20class%3D%22point%22%3E%3Cpath%20d%3D%22M0%2C43.56V24.2H231.69V43.56Z%22%20style%3D%22vector-effect%3A%20non-scaling-stroke%3B%20opacity%3A%201%3B%20stroke-width%3A%200px%3B%20fill%3A%20rgb(78%2C%20121%2C%20167)%3B%20fill-opacity%3A%201%3B%22%2F%3E%3C%2Fg%3E%3C%2Fg%3E%3C%2Fg%3E%3Cg%20class%3D%22trace%20bars%22%20style%3D%22opacity%3A%201%3B%22%3E%3Cg%20class%3D%22points%22%3E%3Cg%20class%3D%22point%22%3E%3Cpath%20d%3D%22M0%2C217.8V198.44H19.29V217.8Z%22%20style%3D%22vector-effect%3A%20non-scaling-stroke%3B%20opacity%3A%201%3B%20stroke-width%3A%200px%3B%20fill%3A%20rgb(242%2C%20142%2C%2044)%3B%20fill-opacity%3A%201%3B%22%2F%3E%3C%2Fg%3E%3Cg%20class%3D%22point%22%3E%3Cpath%20d%3D%22M0%2C169.4V150.04H19.83V169.4Z%22%20style%3D%22vector-effect%3A%20non-scaling-stroke%3B%20opacity%3A%201%3B%20stroke-width%3A%200px%3B%20fill%3A%20rgb(242%2C%20142%2C%2044)%3B%20fill-opacity%3A%201%3B%22%2F%3E%3C%2Fg%3E%3Cg%20class%3D%22point%22%3E%3Cpath%20d%3D%22M0%2C121V101.64H20.65V121Z%22%20style%3D%22vector-effect%3A%20non-scaling-stroke%3B%20opacity%3A%201%3B%20stroke-width%3A%200px%3B%20fill%3A%20rgb(242%2C%20142%2C%2044)%3B%20fill-opacity%3A%201%3B%22%2F%3E%3C%2Fg%3E%3Cg%20class%3D%22point%22%3E%3Cpath%20d%3D%22M0%2C72.6V53.24H19.44V72.6Z%22%20style%3D%22vector-effect%3A%20non-scaling-stroke%3B%20opacity%3A%201%3B%20stroke-width%3A%200px%3B%20fill%3A%20rgb(242%2C%20142%2C%2044)%3B%20fill-opacity%3A%201%3B%22%2F%3E%3C%2Fg%3E%3Cg%20class%3D%22point%22%3E%3Cpath%20d%3D%22M0%2C24.2V4.84H20.43V24.2Z%22%20style%3D%22vector-effect%3A%20non-scaling-stroke%3B%20opacity%3A%201%3B%20stroke-width%3A%200px%3B%20fill%3A%20rgb(242%2C%20142%2C%2044)%3B%20fill-opacity%3A%201%3B%22%2F%3E%3C%2Fg%3E%3C%2Fg%3E%3C%2Fg%3E%3C%2Fg%3E%3C%2Fg%3E%3Cg%20class%3D%22overplot%22%2F%3E%3Cpath%20class%3D%22xlines-above%20crisp%22%20d%3D%22M0%2C0%22%20style%3D%22fill%3A%20none%3B%22%2F%3E%3Cpath%20class%3D%22ylines-above%20crisp%22%20d%3D%22M0%2C0%22%20style%3D%22fill%3A%20none%3B%22%2F%3E%3Cg%20class%3D%22overlines-above%22%2F%3E%3Cg%20class%3D%22xaxislayer-above%22%3E%3Cg%20class%3D%22x3tick%22%3E%3Ctext%20text-anchor%3D%22middle%22%20x%3D%220%22%20y%3D%22285%22%20data-unformatted%3D%220%22%20data-math%3D%22N%22%20transform%3D%22translate(664.0512820512821%2C0)%22%20style%3D%22font-family%3A%20%26quot%3BOpen%20Sans%26quot%3B%2C%20verdana%2C%20arial%2C%20sans-serif%3B%20font-size%3A%2012px%3B%20fill%3A%20rgb(89%2C%2089%2C%2089)%3B%20fill-opacity%3A%201%3B%20white-space%3A%20pre%3B%22%3E0%3C%2Ftext%3E%3C%2Fg%3E%3Cg%20class%3D%22x3tick%22%3E%3Ctext%20text-anchor%3D%22middle%22%20x%3D%220%22%20y%3D%22285%22%20data-unformatted%3D%22200%22%20data-math%3D%22N%22%20transform%3D%22translate(744.2812820512821%2C0)%22%20style%3D%22font-family%3A%20%26quot%3BOpen%20Sans%26quot%3B%2C%20verdana%2C%20arial%2C%20sans-serif%3B%20font-size%3A%2012px%3B%20fill%3A%20rgb(89%2C%2089%2C%2089)%3B%20fill-opacity%3A%201%3B%20white-space%3A%20pre%3B%22%3E200%3C%2Ftext%3E%3C%2Fg%3E%3Cg%20class%3D%22x3tick%22%3E%3Ctext%20text-anchor%3D%22middle%22%20x%3D%220%22%20y%3D%22285%22%20data-unformatted%3D%22400%22%20data-math%3D%22N%22%20transform%3D%22translate(824.5112820512821%2C0)%22%20style%3D%22font-family%3A%20%26quot%3BOpen%20Sans%26quot%3B%2C%20verdana%2C%20arial%2C%20sans-serif%3B%20font-size%3A%2012px%3B%20fill%3A%20rgb(89%2C%2089%2C%2089)%3B%20fill-opacity%3A%201%3B%20white-space%3A%20pre%3B%22%3E400%3C%2Ftext%3E%3C%2Fg%3E%3Cg%20class%3D%22x3tick%22%3E%3Ctext%20text-anchor%3D%22middle%22%20x%3D%220%22%20y%3D%22285%22%20data-unformatted%3D%22600%22%20data-math%3D%22N%22%20transform%3D%22translate(904.741282051282%2C0)%22%20style%3D%22font-family%3A%20%26quot%3BOpen%20Sans%26quot%3B%2C%20verdana%2C%20arial%2C%20sans-serif%3B%20font-size%3A%2012px%3B%20fill%3A%20rgb(89%2C%2089%2C%2089)%3B%20fill-opacity%3A%201%3B%20white-space%3A%20pre%3B%22%3E600%3C%2Ftext%3E%3C%2Fg%3E%3C%2Fg%3E%3Cg%20class%3D%22yaxislayer-above%22%2F%3E%3Cg%20class%3D%22overaxes-above%22%2F%3E%3C%2Fg%3E%3Cg%20class%3D%22subplot%20x4y%22%3E%3Cg%20class%3D%22layer-subplot%22%3E%3Cg%20class%3D%22shapelayer%22%2F%3E%3Cg%20class%3D%22imagelayer%22%2F%3E%3C%2Fg%3E%3Cg%20class%3D%22gridlayer%22%3E%3Cg%20class%3D%22x4%22%3E%3Cpath%20class%3D%22x4grid%20crisp%22%20transform%3D%22translate(1015.3169230769232%2C0)%22%20d%3D%22M0%2C30v242%22%20style%3D%22stroke%3A%20rgb(238%2C%20238%2C%20238)%3B%20stroke-opacity%3A%201%3B%20stroke-width%3A%201px%3B%22%2F%3E%3Cpath%20class%3D%22x4grid%20crisp%22%20transform%3D%22translate(1095.556923076923%2C0)%22%20d%3D%22M0%2C30v242%22%20style%3D%22stroke%3A%20rgb(238%2C%20238%2C%20238)%3B%20stroke-opacity%3A%201%3B%20stroke-width%3A%201px%3B%22%2F%3E%3Cpath%20class%3D%22x4grid%20crisp%22%20transform%3D%22translate(1175.7969230769231%2C0)%22%20d%3D%22M0%2C30v242%22%20style%3D%22stroke%3A%20rgb(238%2C%20238%2C%20238)%3B%20stroke-opacity%3A%201%3B%20stroke-width%3A%201px%3B%22%2F%3E%3C%2Fg%3E%3Cg%20class%3D%22y%22%3E%3Cpath%20class%3D%22ygrid%20crisp%22%20transform%3D%22translate(0%2C247.8)%22%20d%3D%22M935.0769230769232%2C0h243.923076923077%22%20style%3D%22stroke%3A%20rgb(89%2C%2089%2C%2089)%3B%20stroke-opacity%3A%200.25%3B%20stroke-width%3A%201px%3B%22%2F%3E%3Cpath%20class%3D%22ygrid%20crisp%22%20transform%3D%22translate(0%2C199.4)%22%20d%3D%22M935.0769230769232%2C0h243.923076923077%22%20style%3D%22stroke%3A%20rgb(89%2C%2089%2C%2089)%3B%20stroke-opacity%3A%200.25%3B%20stroke-width%3A%201px%3B%22%2F%3E%3Cpath%20class%3D%22ygrid%20crisp%22%20transform%3D%22translate(0%2C151)%22%20d%3D%22M935.0769230769232%2C0h243.923076923077%22%20style%3D%22stroke%3A%20rgb(89%2C%2089%2C%2089)%3B%20stroke-opacity%3A%200.25%3B%20stroke-width%3A%201px%3B%22%2F%3E%3Cpath%20class%3D%22ygrid%20crisp%22%20transform%3D%22translate(0%2C102.6)%22%20d%3D%22M935.0769230769232%2C0h243.923076923077%22%20style%3D%22stroke%3A%20rgb(89%2C%2089%2C%2089)%3B%20stroke-opacity%3A%200.25%3B%20stroke-width%3A%201px%3B%22%2F%3E%3Cpath%20class%3D%22ygrid%20crisp%22%20transform%3D%22translate(0%2C54.2)%22%20d%3D%22M935.0769230769232%2C0h243.923076923077%22%20style%3D%22stroke%3A%20rgb(89%2C%2089%2C%2089)%3B%20stroke-opacity%3A%200.25%3B%20stroke-width%3A%201px%3B%22%2F%3E%3C%2Fg%3E%3C%2Fg%3E%3Cg%20class%3D%22zerolinelayer%22%3E%3Cpath%20class%3D%22x4zl%20zl%20crisp%22%20transform%3D%22translate(935.0769230769232%2C0)%22%20d%3D%22M0%2C30v242%22%20style%3D%22stroke%3A%20rgb(68%2C%2068%2C%2068)%3B%20stroke-opacity%3A%201%3B%20stroke-width%3A%201px%3B%22%2F%3E%3C%2Fg%3E%3Cpath%20class%3D%22xlines-below%22%2F%3E%3Cpath%20class%3D%22ylines-below%22%2F%3E%3Cg%20class%3D%22overlines-below%22%2F%3E%3Cg%20class%3D%22xaxislayer-below%22%2F%3E%3Cg%20class%3D%22yaxislayer-below%22%2F%3E%3Cg%20class%3D%22overaxes-below%22%2F%3E%3Cg%20class%3D%22plot%22%20transform%3D%22translate(935.0769230769232%2C30)%22%20clip-path%3D%22url('%23clip1f4f79x4yplot')%22%3E%3Cg%20class%3D%22barlayer%20mlayer%22%3E%3Cg%20class%3D%22trace%20bars%22%20style%3D%22opacity%3A%201%3B%22%3E%3Cg%20class%3D%22points%22%3E%3Cg%20class%3D%22point%22%3E%3Cpath%20d%3D%22M0%2C237.16V217.8H220.56V237.16Z%22%20style%3D%22vector-effect%3A%20non-scaling-stroke%3B%20opacity%3A%201%3B%20stroke-width%3A%200px%3B%20fill%3A%20rgb(78%2C%20121%2C%20167)%3B%20fill-opacity%3A%201%3B%22%2F%3E%3C%2Fg%3E%3Cg%20class%3D%22point%22%3E%3Cpath%20d%3D%22M0%2C188.76V169.4H223.93V188.76Z%22%20style%3D%22vector-effect%3A%20non-scaling-stroke%3B%20opacity%3A%201%3B%20stroke-width%3A%200px%3B%20fill%3A%20rgb(78%2C%20121%2C%20167)%3B%20fill-opacity%3A%201%3B%22%2F%3E%3C%2Fg%3E%3Cg%20class%3D%22point%22%3E%3Cpath%20d%3D%22M0%2C140.36V121H231.73V140.36Z%22%20style%3D%22vector-effect%3A%20non-scaling-stroke%3B%20opacity%3A%201%3B%20stroke-width%3A%200px%3B%20fill%3A%20rgb(78%2C%20121%2C%20167)%3B%20fill-opacity%3A%201%3B%22%2F%3E%3C%2Fg%3E%3Cg%20class%3D%22point%22%3E%3Cpath%20d%3D%22M0%2C91.96V72.6H224.19V91.96Z%22%20style%3D%22vector-effect%3A%20non-scaling-stroke%3B%20opacity%3A%201%3B%20stroke-width%3A%200px%3B%20fill%3A%20rgb(78%2C%20121%2C%20167)%3B%20fill-opacity%3A%201%3B%22%2F%3E%3C%2Fg%3E%3Cg%20class%3D%22point%22%3E%3Cpath%20d%3D%22M0%2C43.56V24.2H228.07V43.56Z%22%20style%3D%22vector-effect%3A%20non-scaling-stroke%3B%20opacity%3A%201%3B%20stroke-width%3A%200px%3B%20fill%3A%20rgb(78%2C%20121%2C%20167)%3B%20fill-opacity%3A%201%3B%22%2F%3E%3C%2Fg%3E%3C%2Fg%3E%3C%2Fg%3E%3Cg%20class%3D%22trace%20bars%22%20style%3D%22opacity%3A%201%3B%22%3E%3Cg%20class%3D%22points%22%3E%3Cg%20class%3D%22point%22%3E%3Cpath%20d%3D%22M0%2C217.8V198.44H19.43V217.8Z%22%20style%3D%22vector-effect%3A%20non-scaling-stroke%3B%20opacity%3A%201%3B%20stroke-width%3A%200px%3B%20fill%3A%20rgb(242%2C%20142%2C%2044)%3B%20fill-opacity%3A%201%3B%22%2F%3E%3C%2Fg%3E%3Cg%20class%3D%22point%22%3E%3Cpath%20d%3D%22M0%2C169.4V150.04H19.46V169.4Z%22%20style%3D%22vector-effect%3A%20non-scaling-stroke%3B%20opacity%3A%201%3B%20stroke-width%3A%200px%3B%20fill%3A%20rgb(242%2C%20142%2C%2044)%3B%20fill-opacity%3A%201%3B%22%2F%3E%3C%2Fg%3E%3Cg%20class%3D%22point%22%3E%3Cpath%20d%3D%22M0%2C121V101.64H20.77V121Z%22%20style%3D%22vector-effect%3A%20non-scaling-stroke%3B%20opacity%3A%201%3B%20stroke-width%3A%200px%3B%20fill%3A%20rgb(242%2C%20142%2C%2044)%3B%20fill-opacity%3A%201%3B%22%2F%3E%3C%2Fg%3E%3Cg%20class%3D%22point%22%3E%3Cpath%20d%3D%22M0%2C72.6V53.24H19.9V72.6Z%22%20style%3D%22vector-effect%3A%20non-scaling-stroke%3B%20opacity%3A%201%3B%20stroke-width%3A%200px%3B%20fill%3A%20rgb(242%2C%20142%2C%2044)%3B%20fill-opacity%3A%201%3B%22%2F%3E%3C%2Fg%3E%3Cg%20class%3D%22point%22%3E%3Cpath%20d%3D%22M0%2C24.2V4.84H20.21V24.2Z%22%20style%3D%22vector-effect%3A%20non-scaling-stroke%3B%20opacity%3A%201%3B%20stroke-width%3A%200px%3B%20fill%3A%20rgb(242%2C%20142%2C%2044)%3B%20fill-opacity%3A%201%3B%22%2F%3E%3C%2Fg%3E%3C%2Fg%3E%3C%2Fg%3E%3C%2Fg%3E%3C%2Fg%3E%3Cg%20class%3D%22overplot%22%2F%3E%3Cpath%20class%3D%22xlines-above%20crisp%22%20d%3D%22M0%2C0%22%20style%3D%22fill%3A%20none%3B%22%2F%3E%3Cpath%20class%3D%22ylines-above%20crisp%22%20d%3D%22M0%2C0%22%20style%3D%22fill%3A%20none%3B%22%2F%3E%3Cg%20class%3D%22overlines-above%22%2F%3E%3Cg%20class%3D%22xaxislayer-above%22%3E%3Cg%20class%3D%22x4tick%22%3E%3Ctext%20text-anchor%3D%22middle%22%20x%3D%220%22%20y%3D%22285%22%20data-unformatted%3D%220%22%20data-math%3D%22N%22%20transform%3D%22translate(935.0769230769232%2C0)%22%20style%3D%22font-family%3A%20%26quot%3BOpen%20Sans%26quot%3B%2C%20verdana%2C%20arial%2C%20sans-serif%3B%20font-size%3A%2012px%3B%20fill%3A%20rgb(89%2C%2089%2C%2089)%3B%20fill-opacity%3A%201%3B%20white-space%3A%20pre%3B%22%3E0%3C%2Ftext%3E%3C%2Fg%3E%3Cg%20class%3D%22x4tick%22%3E%3Ctext%20text-anchor%3D%22middle%22%20x%3D%220%22%20y%3D%22285%22%20data-unformatted%3D%22200%22%20data-math%3D%22N%22%20transform%3D%22translate(1015.3169230769232%2C0)%22%20style%3D%22font-family%3A%20%26quot%3BOpen%20Sans%26quot%3B%2C%20verdana%2C%20arial%2C%20sans-serif%3B%20font-size%3A%2012px%3B%20fill%3A%20rgb(89%2C%2089%2C%2089)%3B%20fill-opacity%3A%201%3B%20white-space%3A%20pre%3B%22%3E200%3C%2Ftext%3E%3C%2Fg%3E%3Cg%20class%3D%22x4tick%22%3E%3Ctext%20text-anchor%3D%22middle%22%20x%3D%220%22%20y%3D%22285%22%20data-unformatted%3D%22400%22%20data-math%3D%22N%22%20transform%3D%22translate(1095.556923076923%2C0)%22%20style%3D%22font-family%3A%20%26quot%3BOpen%20Sans%26quot%3B%2C%20verdana%2C%20arial%2C%20sans-serif%3B%20font-size%3A%2012px%3B%20fill%3A%20rgb(89%2C%2089%2C%2089)%3B%20fill-opacity%3A%201%3B%20white-space%3A%20pre%3B%22%3E400%3C%2Ftext%3E%3C%2Fg%3E%3Cg%20class%3D%22x4tick%22%3E%3Ctext%20text-anchor%3D%22middle%22%20x%3D%220%22%20y%3D%22285%22%20data-unformatted%3D%22600%22%20data-math%3D%22N%22%20transform%3D%22translate(1175.7969230769231%2C0)%22%20style%3D%22font-family%3A%20%26quot%3BOpen%20Sans%26quot%3B%2C%20verdana%2C%20arial%2C%20sans-serif%3B%20font-size%3A%2012px%3B%20fill%3A%20rgb(89%2C%2089%2C%2089)%3B%20fill-opacity%3A%201%3B%20white-space%3A%20pre%3B%22%3E600%3C%2Ftext%3E%3C%2Fg%3E%3C%2Fg%3E%3Cg%20class%3D%22yaxislayer-above%22%2F%3E%3Cg%20class%3D%22overaxes-above%22%2F%3E%3C%2Fg%3E%3C%2Fg%3E%3Cg%20class%3D%22polarlayer%22%2F%3E%3Cg%20class%3D%22ternarylayer%22%2F%3E%3Cg%20class%3D%22geolayer%22%2F%3E%3Cg%20class%3D%22funnelarealayer%22%2F%3E%3Cg%20class%3D%22pielayer%22%2F%3E%3Cg%20class%3D%22treemaplayer%22%2F%3E%3Cg%20class%3D%22sunburstlayer%22%2F%3E%3Cg%20class%3D%22glimages%22%2F%3E%3Cdefs%20id%3D%22topdefs-1f4f79%22%3E%3Cg%20class%3D%22clips%22%2F%3E%3CclipPath%20id%3D%22legend1f4f79%22%3E%3Crect%20width%3D%22110%22%20height%3D%2258%22%20x%3D%220%22%20y%3D%220%22%2F%3E%3C%2FclipPath%3E%3C%2Fdefs%3E%3Cg%20class%3D%22indicatorlayer%22%2F%3E%3Cg%20class%3D%22layer-above%22%3E%3Cg%20class%3D%22imagelayer%22%2F%3E%3Cg%20class%3D%22shapelayer%22%2F%3E%3C%2Fg%3E%3Cg%20class%3D%22infolayer%22%3E%3Cg%20class%3D%22legend%22%20pointer-events%3D%22all%22%20transform%3D%22translate(1200%2C30)%22%3E%3Crect%20class%3D%22bg%22%20shape-rendering%3D%22crispEdges%22%20width%3D%22110%22%20height%3D%2258%22%20x%3D%220%22%20y%3D%220%22%20style%3D%22stroke%3A%20rgb(68%2C%2068%2C%2068)%3B%20stroke-opacity%3A%201%3B%20fill%3A%20rgb(255%2C%20255%2C%20255)%3B%20fill-opacity%3A%201%3B%20stroke-width%3A%200px%3B%22%2F%3E%3Cg%20class%3D%22scrollbox%22%20transform%3D%22%22%20clip-path%3D%22url('%23legend1f4f79')%22%3E%3Cg%20class%3D%22groups%22%20transform%3D%22%22%3E%3Cg%20class%3D%22traces%22%20transform%3D%22translate(0%2C14.5)%22%20style%3D%22opacity%3A%201%3B%22%3E%3Ctext%20class%3D%22legendtext%22%20text-anchor%3D%22start%22%20x%3D%2240%22%20y%3D%224.680000000000001%22%20data-unformatted%3D%22Price.MEAN%22%20data-math%3D%22N%22%20style%3D%22font-family%3A%20%26quot%3BOpen%20Sans%26quot%3B%2C%20verdana%2C%20arial%2C%20sans-serif%3B%20font-size%3A%2012px%3B%20fill%3A%20rgb(89%2C%2089%2C%2089)%3B%20fill-opacity%3A%201%3B%20white-space%3A%20pre%3B%22%3EPrice.MEAN%3C%2Ftext%3E%3Cg%20class%3D%22layers%22%20style%3D%22opacity%3A%201%3B%22%3E%3Cg%20class%3D%22legendfill%22%2F%3E%3Cg%20class%3D%22legendlines%22%2F%3E%3Cg%20class%3D%22legendsymbols%22%3E%3Cg%20class%3D%22legendpoints%22%3E%3Cpath%20class%3D%22legendundefined%22%20d%3D%22M6%2C6H-6V-6H6Z%22%20transform%3D%22translate(20%2C0)%22%20style%3D%22stroke-width%3A%200px%3B%20fill%3A%20rgb(78%2C%20121%2C%20167)%3B%20fill-opacity%3A%201%3B%22%2F%3E%3C%2Fg%3E%3C%2Fg%3E%3C%2Fg%3E%3Crect%20class%3D%22legendtoggle%22%20pointer-events%3D%22all%22%20x%3D%220%22%20y%3D%22-9.5%22%20width%3D%22104.953125%22%20height%3D%2219%22%20style%3D%22cursor%3A%20pointer%3B%20fill%3A%20rgb(0%2C%200%2C%200)%3B%20fill-opacity%3A%200%3B%22%2F%3E%3C%2Fg%3E%3C%2Fg%3E%3Cg%20class%3D%22groups%22%20transform%3D%22translate(0%2C10)%22%3E%3Cg%20class%3D%22traces%22%20transform%3D%22translate(0%2C33.5)%22%20style%3D%22opacity%3A%201%3B%22%3E%3Ctext%20class%3D%22legendtext%22%20text-anchor%3D%22start%22%20x%3D%2240%22%20y%3D%224.680000000000001%22%20data-unformatted%3D%22Tax.MEAN%22%20data-math%3D%22N%22%20style%3D%22font-family%3A%20%26quot%3BOpen%20Sans%26quot%3B%2C%20verdana%2C%20arial%2C%20sans-serif%3B%20font-size%3A%2012px%3B%20fill%3A%20rgb(89%2C%2089%2C%2089)%3B%20fill-opacity%3A%201%3B%20white-space%3A%20pre%3B%22%3ETax.MEAN%3C%2Ftext%3E%3Cg%20class%3D%22layers%22%20style%3D%22opacity%3A%201%3B%22%3E%3Cg%20class%3D%22legendfill%22%2F%3E%3Cg%20class%3D%22legendlines%22%2F%3E%3Cg%20class%3D%22legendsymbols%22%3E%3Cg%20class%3D%22legendpoints%22%3E%3Cpath%20class%3D%22legendundefined%22%20d%3D%22M6%2C6H-6V-6H6Z%22%20transform%3D%22translate(20%2C0)%22%20style%3D%22stroke-width%3A%200px%3B%20fill%3A%20rgb(242%2C%20142%2C%2044)%3B%20fill-opacity%3A%201%3B%22%2F%3E%3C%2Fg%3E%3C%2Fg%3E%3C%2Fg%3E%3Crect%20class%3D%22legendtoggle%22%20pointer-events%3D%22all%22%20x%3D%220%22%20y%3D%22-9.5%22%20width%3D%22104.953125%22%20height%3D%2219%22%20style%3D%22cursor%3A%20pointer%3B%20fill%3A%20rgb(0%2C%200%2C%200)%3B%20fill-opacity%3A%200%3B%22%2F%3E%3C%2Fg%3E%3C%2Fg%3E%3C%2Fg%3E%3Crect%20class%3D%22scrollbar%22%20rx%3D%2220%22%20ry%3D%223%22%20width%3D%220%22%20height%3D%220%22%20x%3D%220%22%20y%3D%220%22%20style%3D%22fill%3A%20rgb(128%2C%20139%2C%20164)%3B%20fill-opacity%3A%201%3B%22%2F%3E%3C%2Fg%3E%3Cg%20class%3D%22g-gtitle%22%2F%3E%3Cg%20class%3D%22g-xtitle%22%3E%3Ctext%20class%3D%22xtitle%22%20x%3D%22243.96153846153848%22%20y%3D%22324%22%20text-anchor%3D%22middle%22%20data-unformatted%3D%22Agent%22%20data-math%3D%22N%22%20style%3D%22font-family%3A%20%26quot%3BOpen%20Sans%26quot%3B%2C%20verdana%2C%20arial%2C%20sans-serif%3B%20font-size%3A%2014px%3B%20fill%3A%20rgb(89%2C%2089%2C%2089)%3B%20opacity%3A%201%3B%20font-weight%3A%20normal%3B%20white-space%3A%20pre%3B%22%3EAgent%3C%2Ftext%3E%3C%2Fg%3E%3Cg%20class%3D%22g-x2title%22%3E%3Ctext%20class%3D%22x2title%22%20x%3D%22514.9871794871796%22%20y%3D%22324%22%20text-anchor%3D%22middle%22%20data-unformatted%3D%22Branch%22%20data-math%3D%22N%22%20style%3D%22font-family%3A%20%26quot%3BOpen%20Sans%26quot%3B%2C%20verdana%2C%20arial%2C%20sans-serif%3B%20font-size%3A%2014px%3B%20fill%3A%20rgb(89%2C%2089%2C%2089)%3B%20opacity%3A%201%3B%20font-weight%3A%20normal%3B%20white-space%3A%20pre%3B%22%3EBranch%3C%2Ftext%3E%3C%2Fg%3E%3Cg%20class%3D%22g-x3title%22%3E%3Ctext%20class%3D%22x3title%22%20x%3D%22786.0128205128206%22%20y%3D%22324%22%20text-anchor%3D%22middle%22%20data-unformatted%3D%22Call%20Center%22%20data-math%3D%22N%22%20style%3D%22font-family%3A%20%26quot%3BOpen%20Sans%26quot%3B%2C%20verdana%2C%20arial%2C%20sans-serif%3B%20font-size%3A%2014px%3B%20fill%3A%20rgb(89%2C%2089%2C%2089)%3B%20opacity%3A%201%3B%20font-weight%3A%20normal%3B%20white-space%3A%20pre%3B%22%3ECall%20Center%3C%2Ftext%3E%3C%2Fg%3E%3Cg%20class%3D%22g-x4title%22%3E%3Ctext%20class%3D%22x4title%22%20x%3D%221057.0384615384617%22%20y%3D%22324%22%20text-anchor%3D%22middle%22%20data-unformatted%3D%22Web%22%20data-math%3D%22N%22%20style%3D%22font-family%3A%20%26quot%3BOpen%20Sans%26quot%3B%2C%20verdana%2C%20arial%2C%20sans-serif%3B%20font-size%3A%2014px%3B%20fill%3A%20rgb(89%2C%2089%2C%2089)%3B%20opacity%3A%201%3B%20font-weight%3A%20normal%3B%20white-space%3A%20pre%3B%22%3EWeb%3C%2Ftext%3E%3C%2Fg%3E%3Cg%20class%3D%22g-ytitle%22%2F%3E%3C%2Fg%3E%3Cg%20class%3D%22menulayer%22%2F%3E%3Cg%20class%3D%22zoomlayer%22%2F%3E%3Cg%20class%3D%22hoverlayer%22%2F%3E%3C%2Fsvg%3E\">"
      ],
      "text/plain": [
       "Open the notebook in JupyterLab with the atoti extension enabled to build this widget."
      ]
     },
     "metadata": {},
     "output_type": "display_data"
    }
   ],
   "source": [
    "session.visualize(\"bar\")"
   ]
  },
  {
   "cell_type": "code",
   "execution_count": 6,
   "id": "c42dee05-6798-4561-8919-f893fe2c4da5",
   "metadata": {
    "atoti": {
     "widget": {
      "mapping": {
       "groupBy": [
        "[eda].[Sales_Channel].[Sales_Channel]"
       ],
       "horizontalSubplots": [],
       "splitBy": [
        "[eda].[Education].[Education]"
       ],
       "values": [
        "[Measures].[Tax.MEAN]"
       ],
       "verticalSubplots": []
      },
      "name": "treemap",
      "query": {
       "mdx": "SELECT NON EMPTY Crossjoin(Hierarchize(Descendants({[eda].[Sales_Channel].[AllMember]}, 1, SELF_AND_BEFORE)), Hierarchize(Descendants({[eda].[Education].[AllMember]}, 1, SELF_AND_BEFORE))) ON ROWS, NON EMPTY {[Measures].[Tax.MEAN]} ON COLUMNS FROM [eda] CELL PROPERTIES VALUE, FORMATTED_VALUE, BACK_COLOR, FORE_COLOR, FONT_FLAGS",
       "updateMode": "once"
      },
      "serverKey": "default",
      "widgetKey": "plotly-tree-map"
     }
    },
    "tags": []
   },
   "outputs": [
    {
     "data": {
      "application/vnd.atoti.widget.v0+json": {
       "name": "treemap",
       "sessionId": "16f41d1f-fdb2-4439-aea5-796e1777b98c",
       "sessionLocation": {
        "https": null,
        "port": 55380
       },
       "widgetCreationCode": "session.visualize()"
      },
      "text/html": [
       "<img src=\"data:image/svg+xml;charset=utf8,%3C%3Fxml%20version%3D%221.0%22%20standalone%3D%22no%22%3F%3E%3Csvg%20xmlns%3D%22http%3A%2F%2Fwww.w3.org%2F2000%2Fsvg%22%20height%3D%22352%22%20width%3D%221310%22%3E%3CforeignObject%20width%3D%22100%25%22%20height%3D%22100%25%22%20x%3D%220%22%20y%3D%220%22%3E%3Cstyle%20xmlns%3D%22http%3A%2F%2Fwww.w3.org%2F1999%2Fxhtml%22%20type%3D%22text%2Fcss%22%3E*%2C%20%3A%3Abefore%2C%20%3A%3Aafter%20%7Bbox-sizing%3A%20unset%7D%0Aa%20%7Bcolor%3A%20unset%3B%20text-decoration-line%3A%20unset%3B%20text-decoration-thickness%3A%20unset%3B%20text-decoration-style%3A%20unset%3B%20text-decoration-color%3A%20unset%7D%0A.ant-root%20%5Bclass%5E%3D%22ant-%22%5D%2C%20.ant-root%20%5Bclass*%3D%22ant-%22%5D%2C%20.ant-root%20%5Bclass%5E%3D%22ant-%22%5D%20*%2C%20.ant-root%20%5Bclass*%3D%22ant-%22%5D%20*%2C%20.ant-root%20%5Bclass%5E%3D%22ant-%22%5D%20%3A%3Abefore%2C%20.ant-root%20%5Bclass*%3D%22ant-%22%5D%20%3A%3Abefore%2C%20.ant-root%20%5Bclass%5E%3D%22ant-%22%5D%20%3A%3Aafter%2C%20.ant-root%20%5Bclass*%3D%22ant-%22%5D%20%3A%3Aafter%20%7Bbox-sizing%3A%20border-box%7D%0A.ant-root%20html%2C%20.ant-root%20%7Bwidth%3A%20100%25%3B%20height%3A%20100%25%7D%0A.ant-root%20*%2C%20.ant-root%20%3A%3Abefore%2C%20.ant-root%20%3A%3Aafter%20%7Bbox-sizing%3A%20border-box%7D%0A.ant-root%20%7Bmargin-top%3A%200px%3B%20margin-right%3A%200px%3B%20margin-bottom%3A%200px%3B%20margin-left%3A%200px%3B%20color%3A%20rgb(89%2C%2089%2C%2089)%3B%20font-size%3A%2012px%3B%20font-family%3A%20-apple-system%2C%20BlinkMacSystemFont%2C%20%22Segoe%20UI%22%2C%20Roboto%2C%20%22Helvetica%20Neue%22%2C%20Arial%2C%20%22Noto%20Sans%22%2C%20sans-serif%2C%20%22Apple%20Color%20Emoji%22%2C%20%22Segoe%20UI%20Emoji%22%2C%20%22Segoe%20UI%20Symbol%22%2C%20%22Noto%20Color%20Emoji%22%3B%20font-variant-ligatures%3A%20normal%3B%20font-variant-numeric%3A%20tabular-nums%3B%20font-variant-east-asian%3A%20normal%3B%20font-variant-caps%3A%20normal%3B%20line-height%3A%201.66667%3B%20background-color%3A%20rgb(255%2C%20255%2C%20255)%3B%20--antd-wave-shadow-color%3A%20%20%231890FF%3B%20--scroll-bar%3A%20%200%7D%0A.ant-root%20a%20%7Bcolor%3A%20rgb(24%2C%20144%2C%20255)%3B%20text-decoration-line%3A%20none%3B%20text-decoration-thickness%3A%20initial%3B%20text-decoration-style%3A%20initial%3B%20text-decoration-color%3A%20initial%3B%20background-color%3A%20transparent%3B%20outline-color%3A%20initial%3B%20outline-style%3A%20none%3B%20outline-width%3A%20initial%3B%20cursor%3A%20pointer%3B%20transition-duration%3A%200.3s%3B%20transition-timing-function%3A%20ease%3B%20transition-delay%3A%200s%3B%20transition-property%3A%20color%7D%0A.ant-root%20svg%3Anot(%3Aroot)%20%7Boverflow-x%3A%20hidden%3B%20overflow-y%3A%20hidden%7D%0A.ant-root%20a%2C%20.ant-root%20area%2C%20.ant-root%20button%2C%20.ant-root%20%5Brole%3D%22button%22%5D%2C%20.ant-root%20input%3Anot(%5Btype%3D%22range%22%5D)%2C%20.ant-root%20label%2C%20.ant-root%20select%2C%20.ant-root%20summary%2C%20.ant-root%20textarea%20%7Btouch-action%3A%20manipulation%7D%0A.ant-root%20.ant-spin%20%7Bbox-sizing%3A%20border-box%3B%20margin-top%3A%200px%3B%20margin-right%3A%200px%3B%20margin-bottom%3A%200px%3B%20margin-left%3A%200px%3B%20padding-top%3A%200px%3B%20padding-right%3A%200px%3B%20padding-bottom%3A%200px%3B%20padding-left%3A%200px%3B%20font-size%3A%2012px%3B%20font-variant-ligatures%3A%20normal%3B%20font-variant-numeric%3A%20tabular-nums%3B%20font-variant-east-asian%3A%20normal%3B%20font-variant-caps%3A%20normal%3B%20line-height%3A%201.66667%3B%20list-style-position%3A%20initial%3B%20list-style-image%3A%20initial%3B%20list-style-type%3A%20none%3B%20position%3A%20absolute%3B%20display%3A%20none%3B%20color%3A%20rgb(24%2C%20144%2C%20255)%3B%20text-align%3A%20center%3B%20vertical-align%3A%20middle%3B%20opacity%3A%200%3B%20transition-duration%3A%200.3s%3B%20transition-timing-function%3A%20cubic-bezier(0.78%2C%200.14%2C%200.15%2C%200.86)%3B%20transition-delay%3A%200s%3B%20transition-property%3A%20transform%7D%0A.ant-root%20.ant-spin-spinning%20%7Bposition%3A%20static%3B%20display%3A%20inline-block%3B%20opacity%3A%201%7D%0A.ant-root%20.ant-spin-dot%20%7Bposition%3A%20relative%3B%20display%3A%20inline-block%3B%20font-size%3A%2020px%3B%20width%3A%201em%3B%20height%3A%201em%7D%0A.ant-root%20.ant-spin-dot-item%20%7Bposition%3A%20absolute%3B%20display%3A%20block%3B%20width%3A%209px%3B%20height%3A%209px%3B%20background-color%3A%20rgb(24%2C%20144%2C%20255)%3B%20border-top-left-radius%3A%20100%25%3B%20border-top-right-radius%3A%20100%25%3B%20border-bottom-right-radius%3A%20100%25%3B%20border-bottom-left-radius%3A%20100%25%3B%20transform%3A%20scale(0.75)%3B%20transform-origin%3A%2050%25%2050%25%3B%20opacity%3A%200.3%3B%20animation-duration%3A%201s%3B%20animation-timing-function%3A%20linear%3B%20animation-delay%3A%200s%3B%20animation-iteration-count%3A%20infinite%3B%20animation-direction%3A%20alternate%3B%20animation-fill-mode%3A%20none%3B%20animation-play-state%3A%20running%3B%20animation-name%3A%20antSpinMove%7D%0A.ant-root%20.ant-spin-dot-item%3Anth-child(1)%20%7Btop%3A%200px%3B%20left%3A%200px%7D%0A.ant-root%20.ant-spin-dot-item%3Anth-child(2)%20%7Btop%3A%200px%3B%20right%3A%200px%3B%20animation-delay%3A%200.4s%7D%0A.ant-root%20.ant-spin-dot-item%3Anth-child(3)%20%7Bright%3A%200px%3B%20bottom%3A%200px%3B%20animation-delay%3A%200.8s%7D%0A.ant-root%20.ant-spin-dot-item%3Anth-child(4)%20%7Bbottom%3A%200px%3B%20left%3A%200px%3B%20animation-delay%3A%201.2s%7D%0A.ant-root%20.ant-spin-dot-spin%20%7Btransform%3A%20rotate(45deg)%3B%20animation-duration%3A%201.2s%3B%20animation-timing-function%3A%20linear%3B%20animation-delay%3A%200s%3B%20animation-iteration-count%3A%20infinite%3B%20animation-direction%3A%20normal%3B%20animation-fill-mode%3A%20none%3B%20animation-play-state%3A%20running%3B%20animation-name%3A%20antRotate%7D%0A.ant-root%20.ant-spin-lg%20.ant-spin-dot%20%7Bfont-size%3A%2032px%7D%0A.ant-root%20.ant-spin-lg%20.ant-spin-dot%20i%20%7Bwidth%3A%2014px%3B%20height%3A%2014px%7D%0A.css-12ebr42-AWidget%20%7Bheight%3A%20100%25%7D%0A.css-ck2xzt-Spinner%20%7B-webkit-box-align%3A%20center%3B%20align-items%3A%20center%3B%20background-image%3A%20initial%3B%20background-position-x%3A%20initial%3B%20background-position-y%3A%20initial%3B%20background-size%3A%20initial%3B%20background-repeat-x%3A%20initial%3B%20background-repeat-y%3A%20initial%3B%20background-attachment%3A%20initial%3B%20background-origin%3A%20initial%3B%20background-clip%3A%20initial%3B%20background-color%3A%20transparent%3B%20display%3A%20flex%3B%20height%3A%20100%25%3B%20-webkit-box-pack%3A%20center%3B%20justify-content%3A%20center%3B%20position%3A%20absolute%3B%20transition-duration%3A%20300ms%3B%20transition-timing-function%3A%20ease%3B%20transition-delay%3A%200s%3B%20transition-property%3A%20opacity%3B%20width%3A%20100%25%3B%20opacity%3A%200%3B%20pointer-events%3A%20none%3B%20z-index%3A%202%7D%0A.css-6bqf7m-Spinner-ChartWithSpinner%20%7Bposition%3A%20relative%3B%20height%3A%20100%25%7D%0A.css-1u8fyhz-ChartWithMetaData%20%7Bheight%3A%20100%25%7D%0A.css-znpfyj-Plot%20%7Bheight%3A%20100%25%3B%20position%3A%20relative%3B%20width%3A%20100%25%7D%0A.css-mb8m0v-Plot%20%7Bposition%3A%20absolute%3B%20top%3A%200px%3B%20bottom%3A%200px%3B%20left%3A%200px%3B%20right%3A%200px%7D%0A.css-mb8m0v-Plot%20.js-plotly-plot%20%7Bheight%3A%20100%25%7D%0A.js-plotly-plot%20.plotly%20.modebar-btn%20svg%20%7Bposition%3A%20relative%3B%20top%3A%202px%7D%0A.js-plotly-plot%20.plotly%20.modebar-btn%20%7Bposition%3A%20relative%3B%20font-size%3A%2016px%3B%20padding-top%3A%203px%3B%20padding-right%3A%204px%3B%20padding-bottom%3A%203px%3B%20padding-left%3A%204px%3B%20height%3A%2022px%3B%20cursor%3A%20pointer%3B%20line-height%3A%20normal%3B%20box-sizing%3A%20border-box%7D%0A.js-plotly-plot%20.plotly%20.modebar-group%20%7Bfloat%3A%20left%3B%20display%3A%20inline-block%3B%20box-sizing%3A%20border-box%3B%20padding-left%3A%208px%3B%20position%3A%20relative%3B%20vertical-align%3A%20middle%3B%20white-space%3A%20nowrap%7D%0A.js-plotly-plot%20.plotly%20.modebar--hover%20%26gt%3B%20%3Anot(.watermark)%20%7Bopacity%3A%200%3B%20transition-duration%3A%200.3s%3B%20transition-timing-function%3A%20ease%3B%20transition-delay%3A%200s%3B%20transition-property%3A%20opacity%7D%0A.js-plotly-plot%20.plotly%20.ease-bg%20%7Btransition-duration%3A%200.3s%3B%20transition-timing-function%3A%20ease%3B%20transition-delay%3A%200s%3B%20transition-property%3A%20background-color%7D%0A.js-plotly-plot%20.plotly%20.modebar%20%7Bposition%3A%20absolute%3B%20top%3A%202px%3B%20right%3A%202px%7D%0A.js-plotly-plot%20.plotly%20.cursor-pointer%20%7Bcursor%3A%20pointer%7D%0A.js-plotly-plot%20.plotly%20.main-svg%20.draglayer%20%7Bpointer-events%3A%20all%7D%0A.js-plotly-plot%20.plotly%20.main-svg%20%7Bposition%3A%20absolute%3B%20top%3A%200px%3B%20left%3A%200px%3B%20pointer-events%3A%20none%7D%0A.js-plotly-plot%20.plotly%20svg%20%7Boverflow-x%3A%20hidden%3B%20overflow-y%3A%20hidden%7D%0A.js-plotly-plot%20.plotly%20.user-select-none%20%7Buser-select%3A%20none%7D%0A.js-plotly-plot%20.plotly%20a%20%7Btext-decoration-line%3A%20none%3B%20text-decoration-thickness%3A%20initial%3B%20text-decoration-style%3A%20initial%3B%20text-decoration-color%3A%20initial%7D%0A.js-plotly-plot%20.plotly%2C%20.js-plotly-plot%20.plotly%20div%20%7Bdirection%3A%20ltr%3B%20font-family%3A%20%22Open%20Sans%22%2C%20verdana%2C%20arial%2C%20sans-serif%3B%20margin-top%3A%200px%3B%20margin-right%3A%200px%3B%20margin-bottom%3A%200px%3B%20margin-left%3A%200px%3B%20padding-top%3A%200px%3B%20padding-right%3A%200px%3B%20padding-bottom%3A%200px%3B%20padding-left%3A%200px%7D%0A%23modebar-baecf7%20.modebar-btn%20.icon%20path%20%7Bfill%3A%20rgba(68%2C%2068%2C%2068%2C%200.3)%7D%0A*%20%7B-ms-overflow-style%3A%20none%3B%20scrollbar-width%3A%20none%7D%0A*%3A%3A-webkit-scrollbar%20%7Bdisplay%3A%20none%7D%0A.atoti-hidden-in-snapshot%20%7Bdisplay%3A%20none%7D%3C%2Fstyle%3E%3Cdiv%20xmlns%3D%22http%3A%2F%2Fwww.w3.org%2F1999%2Fxhtml%22%20style%3D%22height%3A%20352px%3B%20width%3A%201310px%3B%22%3E%3Cdiv%20class%3D%22ant-root%20css-0%22%3E%3Cdiv%20class%3D%22ant-dropdown-trigger%20css-12ebr42-AWidget%22%3E%3Cdiv%20class%3D%22css-6bqf7m-Spinner-ChartWithSpinner%22%3E%3Cdiv%20class%3D%22css-ck2xzt-Spinner%22%3E%3Cdiv%20class%3D%22ant-spin%20ant-spin-lg%20ant-spin-spinning%22%3E%3Cspan%20class%3D%22ant-spin-dot%20ant-spin-dot-spin%22%3E%3Ci%20class%3D%22ant-spin-dot-item%22%3E%3C%2Fi%3E%3Ci%20class%3D%22ant-spin-dot-item%22%3E%3C%2Fi%3E%3Ci%20class%3D%22ant-spin-dot-item%22%3E%3C%2Fi%3E%3Ci%20class%3D%22ant-spin-dot-item%22%3E%3C%2Fi%3E%3C%2Fspan%3E%3C%2Fdiv%3E%3C%2Fdiv%3E%3Cdiv%20class%3D%22css-1u8fyhz-ChartWithMetaData%22%3E%3Cdiv%20tabindex%3D%220%22%20class%3D%22css-znpfyj-Plot%22%3E%3Cdiv%20class%3D%22css-mb8m0v-Plot%22%3E%3Cdiv%20class%3D%22js-plotly-plot%22%20style%3D%22position%3A%20relative%3B%20display%3A%20inline-block%3B%22%3E%3Cdiv%20class%3D%22plot-container%20plotly%22%3E%3Cdiv%20class%3D%22user-select-none%20svg-container%22%20style%3D%22position%3A%20relative%3B%20width%3A%201310px%3B%20height%3A%20352px%3B%22%3E%3Csvg%20class%3D%22main-svg%22%20xmlns%3D%22http%3A%2F%2Fwww.w3.org%2F2000%2Fsvg%22%20xmlns%3Axlink%3D%22http%3A%2F%2Fwww.w3.org%2F1999%2Fxlink%22%20width%3D%221310%22%20height%3D%22352%22%20style%3D%22background%3A%20rgb(255%2C%20255%2C%20255)%3B%22%3E%3Cdefs%20id%3D%22defs-baecf7%22%3E%3Cg%20class%3D%22clips%22%2F%3E%3Cg%20class%3D%22gradients%22%2F%3E%3C%2Fdefs%3E%3Cg%20class%3D%22bglayer%22%2F%3E%3Cg%20class%3D%22draglayer%22%2F%3E%3Cg%20class%3D%22layer-below%22%3E%3Cg%20class%3D%22imagelayer%22%2F%3E%3Cg%20class%3D%22shapelayer%22%2F%3E%3C%2Fg%3E%3Cg%20class%3D%22cartesianlayer%22%2F%3E%3Cg%20class%3D%22polarlayer%22%2F%3E%3Cg%20class%3D%22ternarylayer%22%2F%3E%3Cg%20class%3D%22geolayer%22%2F%3E%3Cg%20class%3D%22funnelarealayer%22%2F%3E%3Cg%20class%3D%22pielayer%22%2F%3E%3Cg%20class%3D%22treemaplayer%22%3E%3Cg%20class%3D%22trace%20treemap%22%20style%3D%22opacity%3A%201%3B%22%3E%3Cg%20class%3D%22slice%20cursor-pointer%22%3E%3Cpath%20class%3D%22surface%22%20d%3D%22M80%2C30L1310%2C30L1310%2C272L80%2C272Z%22%20style%3D%22pointer-events%3A%20all%3B%20stroke-width%3A%200%3B%20fill%3A%20rgb(0%2C%200%2C%200)%3B%20fill-opacity%3A%200%3B%20stroke%3A%20rgb(0%2C%200%2C%200)%3B%20stroke-opacity%3A%200%3B%20opacity%3A%20100%3B%22%2F%3E%3Cg%20class%3D%22slicetext%22%3E%3Ctext%20data-notex%3D%221%22%20class%3D%22slicetext%22%20text-anchor%3D%22start%22%20data-unformatted%3D%22%20%22%20data-math%3D%22N%22%20x%3D%220%22%20y%3D%220%22%20style%3D%22font-family%3A%20%26quot%3BOpen%20Sans%26quot%3B%2C%20verdana%2C%20arial%2C%20sans-serif%3B%20font-size%3A%2012px%3B%20fill%3A%20rgb(89%2C%2089%2C%2089)%3B%20fill-opacity%3A%201%3B%20white-space%3A%20pre%3B%22%20transform%3D%22translate(86%2C46)%22%3E%20%3C%2Ftext%3E%3C%2Fg%3E%3C%2Fg%3E%3Cg%20class%3D%22slice%20cursor-pointer%22%3E%3Cpath%20class%3D%22surface%22%20d%3D%22M86%2C54L393.30507709425484%2C54L393.30507709425484%2C266L86%2C266Z%22%20style%3D%22pointer-events%3A%20all%3B%20stroke-width%3A%201%3B%20fill%3A%20rgb(111%2C%20146%2C%20184)%3B%20fill-opacity%3A%201%3B%20stroke%3A%20rgb(255%2C%20255%2C%20255)%3B%20stroke-opacity%3A%201%3B%20opacity%3A%201%3B%22%2F%3E%3Cg%20class%3D%22slicetext%22%3E%3Ctext%20data-notex%3D%221%22%20class%3D%22slicetext%22%20text-anchor%3D%22start%22%20data-unformatted%3D%22Web%22%20data-math%3D%22N%22%20x%3D%220%22%20y%3D%220%22%20style%3D%22font-family%3A%20%26quot%3BOpen%20Sans%26quot%3B%2C%20verdana%2C%20arial%2C%20sans-serif%3B%20font-size%3A%2012px%3B%20fill%3A%20rgb(255%2C%20255%2C%20255)%3B%20fill-opacity%3A%201%3B%20white-space%3A%20pre%3B%22%20transform%3D%22translate(93%2C70)%22%3EWeb%3C%2Ftext%3E%3C%2Fg%3E%3C%2Fg%3E%3Cg%20class%3D%22slice%20cursor-pointer%22%3E%3Cpath%20class%3D%22surface%22%20d%3D%22M396.30507709425484%2C54L703.2368064040023%2C54L703.2368064040023%2C266L396.30507709425484%2C266Z%22%20style%3D%22pointer-events%3A%20all%3B%20stroke-width%3A%201%3B%20fill%3A%20rgb(245%2C%20163%2C%2084)%3B%20fill-opacity%3A%201%3B%20stroke%3A%20rgb(255%2C%20255%2C%20255)%3B%20stroke-opacity%3A%201%3B%20opacity%3A%201%3B%22%2F%3E%3Cg%20class%3D%22slicetext%22%3E%3Ctext%20data-notex%3D%221%22%20class%3D%22slicetext%22%20text-anchor%3D%22start%22%20data-unformatted%3D%22Call%20Center%22%20data-math%3D%22N%22%20x%3D%220%22%20y%3D%220%22%20style%3D%22font-family%3A%20%26quot%3BOpen%20Sans%26quot%3B%2C%20verdana%2C%20arial%2C%20sans-serif%3B%20font-size%3A%2012px%3B%20fill%3A%20rgb(68%2C%2068%2C%2068)%3B%20fill-opacity%3A%201%3B%20white-space%3A%20pre%3B%22%20transform%3D%22translate(402.30507709425484%2C70)%22%3ECall%20Center%3C%2Ftext%3E%3C%2Fg%3E%3C%2Fg%3E%3Cg%20class%3D%22slice%20cursor-pointer%22%3E%3Cpath%20class%3D%22surface%22%20d%3D%22M706.2368064040023%2C54L1006.1894314016156%2C54L1006.1894314016156%2C266L706.2368064040023%2C266Z%22%20style%3D%22pointer-events%3A%20all%3B%20stroke-width%3A%201%3B%20fill%3A%20rgb(231%2C%20119%2C%20120)%3B%20fill-opacity%3A%201%3B%20stroke%3A%20rgb(255%2C%20255%2C%20255)%3B%20stroke-opacity%3A%201%3B%20opacity%3A%201%3B%22%2F%3E%3Cg%20class%3D%22slicetext%22%3E%3Ctext%20data-notex%3D%221%22%20class%3D%22slicetext%22%20text-anchor%3D%22start%22%20data-unformatted%3D%22Branch%22%20data-math%3D%22N%22%20x%3D%220%22%20y%3D%220%22%20style%3D%22font-family%3A%20%26quot%3BOpen%20Sans%26quot%3B%2C%20verdana%2C%20arial%2C%20sans-serif%3B%20font-size%3A%2012px%3B%20fill%3A%20rgb(68%2C%2068%2C%2068)%3B%20fill-opacity%3A%201%3B%20white-space%3A%20pre%3B%22%20transform%3D%22translate(712.2368064040023%2C70)%22%3EBranch%3C%2Ftext%3E%3C%2Fg%3E%3C%2Fg%3E%3Cg%20class%3D%22slice%20cursor-pointer%22%3E%3Cpath%20class%3D%22surface%22%20d%3D%22M1009.1894314016156%2C54L1304%2C54L1304%2C266L1009.1894314016156%2C266Z%22%20style%3D%22pointer-events%3A%20all%3B%20stroke-width%3A%201%3B%20fill%3A%20rgb(144%2C%20197%2C%20193)%3B%20fill-opacity%3A%201%3B%20stroke%3A%20rgb(255%2C%20255%2C%20255)%3B%20stroke-opacity%3A%201%3B%20opacity%3A%201%3B%22%2F%3E%3Cg%20class%3D%22slicetext%22%3E%3Ctext%20data-notex%3D%221%22%20class%3D%22slicetext%22%20text-anchor%3D%22start%22%20data-unformatted%3D%22Agent%22%20data-math%3D%22N%22%20x%3D%220%22%20y%3D%220%22%20style%3D%22font-family%3A%20%26quot%3BOpen%20Sans%26quot%3B%2C%20verdana%2C%20arial%2C%20sans-serif%3B%20font-size%3A%2012px%3B%20fill%3A%20rgb(68%2C%2068%2C%2068)%3B%20fill-opacity%3A%201%3B%20white-space%3A%20pre%3B%22%20transform%3D%22translate(1016.1894314016156%2C70)%22%3EAgent%3C%2Ftext%3E%3C%2Fg%3E%3C%2Fg%3E%3Cg%20class%3D%22slice%20cursor-pointer%22%3E%3Cpath%20class%3D%22surface%22%20d%3D%22M92%2C78L211.5136151926534%2C78L211.5136151926534%2C168.7649339969309L92%2C168.7649339969309Z%22%20style%3D%22pointer-events%3A%20all%3B%20stroke-width%3A%201%3B%20fill%3A%20rgb(78%2C%20121%2C%20167)%3B%20fill-opacity%3A%201%3B%20stroke%3A%20rgb(255%2C%20255%2C%20255)%3B%20stroke-opacity%3A%201%3B%20opacity%3A%201%3B%22%2F%3E%3Cg%20class%3D%22slicetext%22%3E%3Ctext%20data-notex%3D%221%22%20class%3D%22slicetext%22%20text-anchor%3D%22start%22%20data-unformatted%3D%22Doctor%22%20data-math%3D%22N%22%20x%3D%220%22%20y%3D%220%22%20style%3D%22font-family%3A%20%26quot%3BOpen%20Sans%26quot%3B%2C%20verdana%2C%20arial%2C%20sans-serif%3B%20font-size%3A%2012px%3B%20fill%3A%20rgb(255%2C%20255%2C%20255)%3B%20fill-opacity%3A%201%3B%20white-space%3A%20pre%3B%22%20transform%3D%22translate(95%2C94)%22%3EDoctor%3C%2Ftext%3E%3C%2Fg%3E%3C%2Fg%3E%3Cg%20class%3D%22slice%20cursor-pointer%22%3E%3Cpath%20class%3D%22surface%22%20d%3D%22M92%2C171.7649339969309L211.5136151926534%2C171.7649339969309L211.5136151926534%2C260L92%2C260Z%22%20style%3D%22pointer-events%3A%20all%3B%20stroke-width%3A%201%3B%20fill%3A%20rgb(78%2C%20121%2C%20167)%3B%20fill-opacity%3A%201%3B%20stroke%3A%20rgb(255%2C%20255%2C%20255)%3B%20stroke-opacity%3A%201%3B%20opacity%3A%201%3B%22%2F%3E%3Cg%20class%3D%22slicetext%22%3E%3Ctext%20data-notex%3D%221%22%20class%3D%22slicetext%22%20text-anchor%3D%22start%22%20data-unformatted%3D%22Master%22%20data-math%3D%22N%22%20x%3D%220%22%20y%3D%220%22%20style%3D%22font-family%3A%20%26quot%3BOpen%20Sans%26quot%3B%2C%20verdana%2C%20arial%2C%20sans-serif%3B%20font-size%3A%2012px%3B%20fill%3A%20rgb(255%2C%20255%2C%20255)%3B%20fill-opacity%3A%201%3B%20white-space%3A%20pre%3B%22%20transform%3D%22translate(95%2C187.7649339969309)%22%3EMaster%3C%2Ftext%3E%3C%2Fg%3E%3C%2Fg%3E%3Cg%20class%3D%22slice%20cursor-pointer%22%3E%3Cpath%20class%3D%22surface%22%20d%3D%22M214.5136151926534%2C78L300.3856215433045%2C78L300.3856215433045%2C198.85894922751254L214.5136151926534%2C198.85894922751254Z%22%20style%3D%22pointer-events%3A%20all%3B%20stroke-width%3A%201%3B%20fill%3A%20rgb(78%2C%20121%2C%20167)%3B%20fill-opacity%3A%201%3B%20stroke%3A%20rgb(255%2C%20255%2C%20255)%3B%20stroke-opacity%3A%201%3B%20opacity%3A%201%3B%22%2F%3E%3Cg%20class%3D%22slicetext%22%3E%3Ctext%20data-notex%3D%221%22%20class%3D%22slicetext%22%20text-anchor%3D%22start%22%20data-unformatted%3D%22High%20School%20or%20Below%22%20data-math%3D%22N%22%20x%3D%220%22%20y%3D%220%22%20style%3D%22font-family%3A%20%26quot%3BOpen%20Sans%26quot%3B%2C%20verdana%2C%20arial%2C%20sans-serif%3B%20font-size%3A%2012px%3B%20fill%3A%20rgb(255%2C%20255%2C%20255)%3B%20fill-opacity%3A%201%3B%20white-space%3A%20pre%3B%22%20transform%3D%22translate(217.5136151926534%2C89.72021773591297)scale(0.6707859796856129)%22%3EHigh%20School%20or%20Below%3C%2Ftext%3E%3C%2Fg%3E%3C%2Fg%3E%3Cg%20class%3D%22slice%20cursor-pointer%22%3E%3Cpath%20class%3D%22surface%22%20d%3D%22M303.3856215433045%2C78L387.30507709425484%2C78L387.30507709425484%2C198.85894922751254L303.3856215433045%2C198.85894922751254Z%22%20style%3D%22pointer-events%3A%20all%3B%20stroke-width%3A%201%3B%20fill%3A%20rgb(78%2C%20121%2C%20167)%3B%20fill-opacity%3A%201%3B%20stroke%3A%20rgb(255%2C%20255%2C%20255)%3B%20stroke-opacity%3A%201%3B%20opacity%3A%201%3B%22%2F%3E%3Cg%20class%3D%22slicetext%22%3E%3Ctext%20data-notex%3D%221%22%20class%3D%22slicetext%22%20text-anchor%3D%22start%22%20data-unformatted%3D%22College%22%20data-math%3D%22N%22%20x%3D%220%22%20y%3D%220%22%20style%3D%22font-family%3A%20%26quot%3BOpen%20Sans%26quot%3B%2C%20verdana%2C%20arial%2C%20sans-serif%3B%20font-size%3A%2012px%3B%20fill%3A%20rgb(255%2C%20255%2C%20255)%3B%20fill-opacity%3A%201%3B%20white-space%3A%20pre%3B%22%20transform%3D%22translate(306.3856215433045%2C94)%22%3ECollege%3C%2Ftext%3E%3C%2Fg%3E%3C%2Fg%3E%3Cg%20class%3D%22slice%20cursor-pointer%22%3E%3Cpath%20class%3D%22surface%22%20d%3D%22M214.5136151926534%2C201.85894922751254L387.3050770942548%2C201.85894922751254L387.3050770942548%2C260L214.5136151926534%2C260Z%22%20style%3D%22pointer-events%3A%20all%3B%20stroke-width%3A%201%3B%20fill%3A%20rgb(78%2C%20121%2C%20167)%3B%20fill-opacity%3A%201%3B%20stroke%3A%20rgb(255%2C%20255%2C%20255)%3B%20stroke-opacity%3A%201%3B%20opacity%3A%201%3B%22%2F%3E%3Cg%20class%3D%22slicetext%22%3E%3Ctext%20data-notex%3D%221%22%20class%3D%22slicetext%22%20text-anchor%3D%22start%22%20data-unformatted%3D%22Bachelor%22%20data-math%3D%22N%22%20x%3D%220%22%20y%3D%220%22%20style%3D%22font-family%3A%20%26quot%3BOpen%20Sans%26quot%3B%2C%20verdana%2C%20arial%2C%20sans-serif%3B%20font-size%3A%2012px%3B%20fill%3A%20rgb(255%2C%20255%2C%20255)%3B%20fill-opacity%3A%201%3B%20white-space%3A%20pre%3B%22%20transform%3D%22translate(217.5136151926534%2C217.85894922751254)%22%3EBachelor%3C%2Ftext%3E%3C%2Fg%3E%3C%2Fg%3E%3Cg%20class%3D%22slice%20cursor-pointer%22%3E%3Cpath%20class%3D%22surface%22%20d%3D%22M402.30507709425484%2C78L522.1510748430001%2C78L522.1510748430001%2C167.98335778099002L402.30507709425484%2C167.98335778099002Z%22%20style%3D%22pointer-events%3A%20all%3B%20stroke-width%3A%201%3B%20fill%3A%20rgb(242%2C%20142%2C%2044)%3B%20fill-opacity%3A%201%3B%20stroke%3A%20rgb(255%2C%20255%2C%20255)%3B%20stroke-opacity%3A%201%3B%20opacity%3A%201%3B%22%2F%3E%3Cg%20class%3D%22slicetext%22%3E%3Ctext%20data-notex%3D%221%22%20class%3D%22slicetext%22%20text-anchor%3D%22start%22%20data-unformatted%3D%22Doctor%22%20data-math%3D%22N%22%20x%3D%220%22%20y%3D%220%22%20style%3D%22font-family%3A%20%26quot%3BOpen%20Sans%26quot%3B%2C%20verdana%2C%20arial%2C%20sans-serif%3B%20font-size%3A%2012px%3B%20fill%3A%20rgb(68%2C%2068%2C%2068)%3B%20fill-opacity%3A%201%3B%20white-space%3A%20pre%3B%22%20transform%3D%22translate(405.30507709425484%2C94)%22%3EDoctor%3C%2Ftext%3E%3C%2Fg%3E%3C%2Fg%3E%3Cg%20class%3D%22slice%20cursor-pointer%22%3E%3Cpath%20class%3D%22surface%22%20d%3D%22M402.30507709425484%2C170.98335778099002L522.1510748430001%2C170.98335778099002L522.1510748430001%2C260L402.30507709425484%2C260Z%22%20style%3D%22pointer-events%3A%20all%3B%20stroke-width%3A%201%3B%20fill%3A%20rgb(242%2C%20142%2C%2044)%3B%20fill-opacity%3A%201%3B%20stroke%3A%20rgb(255%2C%20255%2C%20255)%3B%20stroke-opacity%3A%201%3B%20opacity%3A%201%3B%22%2F%3E%3Cg%20class%3D%22slicetext%22%3E%3Ctext%20data-notex%3D%221%22%20class%3D%22slicetext%22%20text-anchor%3D%22start%22%20data-unformatted%3D%22Master%22%20data-math%3D%22N%22%20x%3D%220%22%20y%3D%220%22%20style%3D%22font-family%3A%20%26quot%3BOpen%20Sans%26quot%3B%2C%20verdana%2C%20arial%2C%20sans-serif%3B%20font-size%3A%2012px%3B%20fill%3A%20rgb(68%2C%2068%2C%2068)%3B%20fill-opacity%3A%201%3B%20white-space%3A%20pre%3B%22%20transform%3D%22translate(405.30507709425484%2C186.98335778099002)%22%3EMaster%3C%2Ftext%3E%3C%2Fg%3E%3C%2Fg%3E%3Cg%20class%3D%22slice%20cursor-pointer%22%3E%3Cpath%20class%3D%22surface%22%20d%3D%22M525.1510748430001%2C78L610.5587838424539%2C78L610.5587838424539%2C199.05471951530046L525.1510748430001%2C199.05471951530046Z%22%20style%3D%22pointer-events%3A%20all%3B%20stroke-width%3A%201%3B%20fill%3A%20rgb(242%2C%20142%2C%2044)%3B%20fill-opacity%3A%201%3B%20stroke%3A%20rgb(255%2C%20255%2C%20255)%3B%20stroke-opacity%3A%201%3B%20opacity%3A%201%3B%22%2F%3E%3Cg%20class%3D%22slicetext%22%3E%3Ctext%20data-notex%3D%221%22%20class%3D%22slicetext%22%20text-anchor%3D%22start%22%20data-unformatted%3D%22College%22%20data-math%3D%22N%22%20x%3D%220%22%20y%3D%220%22%20style%3D%22font-family%3A%20%26quot%3BOpen%20Sans%26quot%3B%2C%20verdana%2C%20arial%2C%20sans-serif%3B%20font-size%3A%2012px%3B%20fill%3A%20rgb(68%2C%2068%2C%2068)%3B%20fill-opacity%3A%201%3B%20white-space%3A%20pre%3B%22%20transform%3D%22translate(528.1510748430001%2C94)%22%3ECollege%3C%2Ftext%3E%3C%2Fg%3E%3C%2Fg%3E%3Cg%20class%3D%22slice%20cursor-pointer%22%3E%3Cpath%20class%3D%22surface%22%20d%3D%22M613.5587838424539%2C78L697.2368064040023%2C78L697.2368064040023%2C199.05471951530046L613.5587838424539%2C199.05471951530046Z%22%20style%3D%22pointer-events%3A%20all%3B%20stroke-width%3A%201%3B%20fill%3A%20rgb(242%2C%20142%2C%2044)%3B%20fill-opacity%3A%201%3B%20stroke%3A%20rgb(255%2C%20255%2C%20255)%3B%20stroke-opacity%3A%201%3B%20opacity%3A%201%3B%22%2F%3E%3Cg%20class%3D%22slicetext%22%3E%3Ctext%20data-notex%3D%221%22%20class%3D%22slicetext%22%20text-anchor%3D%22start%22%20data-unformatted%3D%22High%20School%20or%20Below%22%20data-math%3D%22N%22%20x%3D%220%22%20y%3D%220%22%20style%3D%22font-family%3A%20%26quot%3BOpen%20Sans%26quot%3B%2C%20verdana%2C%20arial%2C%20sans-serif%3B%20font-size%3A%2012px%3B%20fill%3A%20rgb(68%2C%2068%2C%2068)%3B%20fill-opacity%3A%201%3B%20white-space%3A%20pre%3B%22%20transform%3D%22translate(616.5587838424539%2C89.48068429705022)scale(0.6523603305423245)%22%3EHigh%20School%20or%20Below%3C%2Ftext%3E%3C%2Fg%3E%3C%2Fg%3E%3Cg%20class%3D%22slice%20cursor-pointer%22%3E%3Cpath%20class%3D%22surface%22%20d%3D%22M525.1510748430001%2C202.05471951530046L697.2368064040024%2C202.05471951530046L697.2368064040024%2C260L525.1510748430001%2C260Z%22%20style%3D%22pointer-events%3A%20all%3B%20stroke-width%3A%201%3B%20fill%3A%20rgb(242%2C%20142%2C%2044)%3B%20fill-opacity%3A%201%3B%20stroke%3A%20rgb(255%2C%20255%2C%20255)%3B%20stroke-opacity%3A%201%3B%20opacity%3A%201%3B%22%2F%3E%3Cg%20class%3D%22slicetext%22%3E%3Ctext%20data-notex%3D%221%22%20class%3D%22slicetext%22%20text-anchor%3D%22start%22%20data-unformatted%3D%22Bachelor%22%20data-math%3D%22N%22%20x%3D%220%22%20y%3D%220%22%20style%3D%22font-family%3A%20%26quot%3BOpen%20Sans%26quot%3B%2C%20verdana%2C%20arial%2C%20sans-serif%3B%20font-size%3A%2012px%3B%20fill%3A%20rgb(68%2C%2068%2C%2068)%3B%20fill-opacity%3A%201%3B%20white-space%3A%20pre%3B%22%20transform%3D%22translate(528.1510748430001%2C218.05471951530046)%22%3EBachelor%3C%2Ftext%3E%3C%2Fg%3E%3C%2Fg%3E%3Cg%20class%3D%22slice%20cursor-pointer%22%3E%3Cpath%20class%3D%22surface%22%20d%3D%22M712.2368064040023%2C78L830.0148905875918%2C78L830.0148905875918%2C167.58678383618368L712.2368064040023%2C167.58678383618368Z%22%20style%3D%22pointer-events%3A%20all%3B%20stroke-width%3A%201%3B%20fill%3A%20rgb(225%2C%2087%2C%2089)%3B%20fill-opacity%3A%201%3B%20stroke%3A%20rgb(255%2C%20255%2C%20255)%3B%20stroke-opacity%3A%201%3B%20opacity%3A%201%3B%22%2F%3E%3Cg%20class%3D%22slicetext%22%3E%3Ctext%20data-notex%3D%221%22%20class%3D%22slicetext%22%20text-anchor%3D%22start%22%20data-unformatted%3D%22Master%22%20data-math%3D%22N%22%20x%3D%220%22%20y%3D%220%22%20style%3D%22font-family%3A%20%26quot%3BOpen%20Sans%26quot%3B%2C%20verdana%2C%20arial%2C%20sans-serif%3B%20font-size%3A%2012px%3B%20fill%3A%20rgb(68%2C%2068%2C%2068)%3B%20fill-opacity%3A%201%3B%20white-space%3A%20pre%3B%22%20transform%3D%22translate(715.2368064040023%2C94)%22%3EMaster%3C%2Ftext%3E%3C%2Fg%3E%3C%2Fg%3E%3Cg%20class%3D%22slice%20cursor-pointer%22%3E%3Cpath%20class%3D%22surface%22%20d%3D%22M712.2368064040023%2C170.58678383618368L830.0148905875918%2C170.58678383618368L830.0148905875918%2C260L712.2368064040023%2C260Z%22%20style%3D%22pointer-events%3A%20all%3B%20stroke-width%3A%201%3B%20fill%3A%20rgb(225%2C%2087%2C%2089)%3B%20fill-opacity%3A%201%3B%20stroke%3A%20rgb(255%2C%20255%2C%20255)%3B%20stroke-opacity%3A%201%3B%20opacity%3A%201%3B%22%2F%3E%3Cg%20class%3D%22slicetext%22%3E%3Ctext%20data-notex%3D%221%22%20class%3D%22slicetext%22%20text-anchor%3D%22start%22%20data-unformatted%3D%22Doctor%22%20data-math%3D%22N%22%20x%3D%220%22%20y%3D%220%22%20style%3D%22font-family%3A%20%26quot%3BOpen%20Sans%26quot%3B%2C%20verdana%2C%20arial%2C%20sans-serif%3B%20font-size%3A%2012px%3B%20fill%3A%20rgb(68%2C%2068%2C%2068)%3B%20fill-opacity%3A%201%3B%20white-space%3A%20pre%3B%22%20transform%3D%22translate(715.2368064040023%2C186.58678383618368)%22%3EDoctor%3C%2Ftext%3E%3C%2Fg%3E%3C%2Fg%3E%3Cg%20class%3D%22slice%20cursor-pointer%22%3E%3Cpath%20class%3D%22surface%22%20d%3D%22M833.0148905875918%2C78L915.598455574211%2C78L915.598455574211%2C198.7092392359894L833.0148905875918%2C198.7092392359894Z%22%20style%3D%22pointer-events%3A%20all%3B%20stroke-width%3A%201%3B%20fill%3A%20rgb(225%2C%2087%2C%2089)%3B%20fill-opacity%3A%201%3B%20stroke%3A%20rgb(255%2C%20255%2C%20255)%3B%20stroke-opacity%3A%201%3B%20opacity%3A%201%3B%22%2F%3E%3Cg%20class%3D%22slicetext%22%3E%3Ctext%20data-notex%3D%221%22%20class%3D%22slicetext%22%20text-anchor%3D%22start%22%20data-unformatted%3D%22High%20School%20or%20Below%22%20data-math%3D%22N%22%20x%3D%220%22%20y%3D%220%22%20style%3D%22font-family%3A%20%26quot%3BOpen%20Sans%26quot%3B%2C%20verdana%2C%20arial%2C%20sans-serif%3B%20font-size%3A%2012px%3B%20fill%3A%20rgb(68%2C%2068%2C%2068)%3B%20fill-opacity%3A%201%3B%20white-space%3A%20pre%3B%22%20transform%3D%22translate(836.0148905875918%2C89.361194268038)scale(0.6431687898490778)%22%3EHigh%20School%20or%20Below%3C%2Ftext%3E%3C%2Fg%3E%3C%2Fg%3E%3Cg%20class%3D%22slice%20cursor-pointer%22%3E%3Cpath%20class%3D%22surface%22%20d%3D%22M918.598455574211%2C78L1000.1894314016156%2C78L1000.1894314016156%2C198.7092392359894L918.598455574211%2C198.7092392359894Z%22%20style%3D%22pointer-events%3A%20all%3B%20stroke-width%3A%201%3B%20fill%3A%20rgb(225%2C%2087%2C%2089)%3B%20fill-opacity%3A%201%3B%20stroke%3A%20rgb(255%2C%20255%2C%20255)%3B%20stroke-opacity%3A%201%3B%20opacity%3A%201%3B%22%2F%3E%3Cg%20class%3D%22slicetext%22%3E%3Ctext%20data-notex%3D%221%22%20class%3D%22slicetext%22%20text-anchor%3D%22start%22%20data-unformatted%3D%22Bachelor%22%20data-math%3D%22N%22%20x%3D%220%22%20y%3D%220%22%20style%3D%22font-family%3A%20%26quot%3BOpen%20Sans%26quot%3B%2C%20verdana%2C%20arial%2C%20sans-serif%3B%20font-size%3A%2012px%3B%20fill%3A%20rgb(68%2C%2068%2C%2068)%3B%20fill-opacity%3A%201%3B%20white-space%3A%20pre%3B%22%20transform%3D%22translate(921.598455574211%2C94)%22%3EBachelor%3C%2Ftext%3E%3C%2Fg%3E%3C%2Fg%3E%3Cg%20class%3D%22slice%20cursor-pointer%22%3E%3Cpath%20class%3D%22surface%22%20d%3D%22M833.0148905875918%2C201.7092392359894L1000.1894314016157%2C201.7092392359894L1000.1894314016157%2C260L833.0148905875918%2C260Z%22%20style%3D%22pointer-events%3A%20all%3B%20stroke-width%3A%201%3B%20fill%3A%20rgb(225%2C%2087%2C%2089)%3B%20fill-opacity%3A%201%3B%20stroke%3A%20rgb(255%2C%20255%2C%20255)%3B%20stroke-opacity%3A%201%3B%20opacity%3A%201%3B%22%2F%3E%3Cg%20class%3D%22slicetext%22%3E%3Ctext%20data-notex%3D%221%22%20class%3D%22slicetext%22%20text-anchor%3D%22start%22%20data-unformatted%3D%22College%22%20data-math%3D%22N%22%20x%3D%220%22%20y%3D%220%22%20style%3D%22font-family%3A%20%26quot%3BOpen%20Sans%26quot%3B%2C%20verdana%2C%20arial%2C%20sans-serif%3B%20font-size%3A%2012px%3B%20fill%3A%20rgb(68%2C%2068%2C%2068)%3B%20fill-opacity%3A%201%3B%20white-space%3A%20pre%3B%22%20transform%3D%22translate(836.0148905875918%2C217.7092392359894)%22%3ECollege%3C%2Ftext%3E%3C%2Fg%3E%3C%2Fg%3E%3Cg%20class%3D%22slice%20cursor-pointer%22%3E%3Cpath%20class%3D%22surface%22%20d%3D%22M1015.1894314016156%2C78L1132.083609206166%2C78L1132.083609206166%2C167.693648232774L1015.1894314016156%2C167.693648232774Z%22%20style%3D%22pointer-events%3A%20all%3B%20stroke-width%3A%201%3B%20fill%3A%20rgb(118%2C%20183%2C%20178)%3B%20fill-opacity%3A%201%3B%20stroke%3A%20rgb(255%2C%20255%2C%20255)%3B%20stroke-opacity%3A%201%3B%20opacity%3A%201%3B%22%2F%3E%3Cg%20class%3D%22slicetext%22%3E%3Ctext%20data-notex%3D%221%22%20class%3D%22slicetext%22%20text-anchor%3D%22start%22%20data-unformatted%3D%22Doctor%22%20data-math%3D%22N%22%20x%3D%220%22%20y%3D%220%22%20style%3D%22font-family%3A%20%26quot%3BOpen%20Sans%26quot%3B%2C%20verdana%2C%20arial%2C%20sans-serif%3B%20font-size%3A%2012px%3B%20fill%3A%20rgb(68%2C%2068%2C%2068)%3B%20fill-opacity%3A%201%3B%20white-space%3A%20pre%3B%22%20transform%3D%22translate(1018.1894314016156%2C94)%22%3EDoctor%3C%2Ftext%3E%3C%2Fg%3E%3C%2Fg%3E%3Cg%20class%3D%22slice%20cursor-pointer%22%3E%3Cpath%20class%3D%22surface%22%20d%3D%22M1015.1894314016156%2C170.693648232774L1132.083609206166%2C170.693648232774L1132.083609206166%2C260L1015.1894314016156%2C260Z%22%20style%3D%22pointer-events%3A%20all%3B%20stroke-width%3A%201%3B%20fill%3A%20rgb(118%2C%20183%2C%20178)%3B%20fill-opacity%3A%201%3B%20stroke%3A%20rgb(255%2C%20255%2C%20255)%3B%20stroke-opacity%3A%201%3B%20opacity%3A%201%3B%22%2F%3E%3Cg%20class%3D%22slicetext%22%3E%3Ctext%20data-notex%3D%221%22%20class%3D%22slicetext%22%20text-anchor%3D%22start%22%20data-unformatted%3D%22Master%22%20data-math%3D%22N%22%20x%3D%220%22%20y%3D%220%22%20style%3D%22font-family%3A%20%26quot%3BOpen%20Sans%26quot%3B%2C%20verdana%2C%20arial%2C%20sans-serif%3B%20font-size%3A%2012px%3B%20fill%3A%20rgb(68%2C%2068%2C%2068)%3B%20fill-opacity%3A%201%3B%20white-space%3A%20pre%3B%22%20transform%3D%22translate(1018.1894314016156%2C186.693648232774)%22%3EMaster%3C%2Ftext%3E%3C%2Fg%3E%3C%2Fg%3E%3Cg%20class%3D%22slice%20cursor-pointer%22%3E%3Cpath%20class%3D%22surface%22%20d%3D%22M1135.083609206166%2C78L1215.5959816609816%2C78L1215.5959816609816%2C199.00132256154808L1135.083609206166%2C199.00132256154808Z%22%20style%3D%22pointer-events%3A%20all%3B%20stroke-width%3A%201%3B%20fill%3A%20rgb(118%2C%20183%2C%20178)%3B%20fill-opacity%3A%201%3B%20stroke%3A%20rgb(255%2C%20255%2C%20255)%3B%20stroke-opacity%3A%201%3B%20opacity%3A%201%3B%22%2F%3E%3Cg%20class%3D%22slicetext%22%3E%3Ctext%20data-notex%3D%221%22%20class%3D%22slicetext%22%20text-anchor%3D%22start%22%20data-unformatted%3D%22College%22%20data-math%3D%22N%22%20x%3D%220%22%20y%3D%220%22%20style%3D%22font-family%3A%20%26quot%3BOpen%20Sans%26quot%3B%2C%20verdana%2C%20arial%2C%20sans-serif%3B%20font-size%3A%2012px%3B%20fill%3A%20rgb(68%2C%2068%2C%2068)%3B%20fill-opacity%3A%201%3B%20white-space%3A%20pre%3B%22%20transform%3D%22translate(1138.083609206166%2C94)%22%3ECollege%3C%2Ftext%3E%3C%2Fg%3E%3C%2Fg%3E%3Cg%20class%3D%22slice%20cursor-pointer%22%3E%3Cpath%20class%3D%22surface%22%20d%3D%22M1218.5959816609816%2C78L1298%2C78L1298%2C199.00132256154808L1218.5959816609816%2C199.00132256154808Z%22%20style%3D%22pointer-events%3A%20all%3B%20stroke-width%3A%201%3B%20fill%3A%20rgb(118%2C%20183%2C%20178)%3B%20fill-opacity%3A%201%3B%20stroke%3A%20rgb(255%2C%20255%2C%20255)%3B%20stroke-opacity%3A%201%3B%20opacity%3A%201%3B%22%2F%3E%3Cg%20class%3D%22slicetext%22%3E%3Ctext%20data-notex%3D%221%22%20class%3D%22slicetext%22%20text-anchor%3D%22start%22%20data-unformatted%3D%22Bachelor%22%20data-math%3D%22N%22%20x%3D%220%22%20y%3D%220%22%20style%3D%22font-family%3A%20%26quot%3BOpen%20Sans%26quot%3B%2C%20verdana%2C%20arial%2C%20sans-serif%3B%20font-size%3A%2012px%3B%20fill%3A%20rgb(68%2C%2068%2C%2068)%3B%20fill-opacity%3A%201%3B%20white-space%3A%20pre%3B%22%20transform%3D%22translate(1221.5959816609816%2C94)%22%3EBachelor%3C%2Ftext%3E%3C%2Fg%3E%3C%2Fg%3E%3Cg%20class%3D%22slice%20cursor-pointer%22%3E%3Cpath%20class%3D%22surface%22%20d%3D%22M1135.083609206166%2C202.00132256154808L1298%2C202.00132256154808L1298%2C260L1135.083609206166%2C260Z%22%20style%3D%22pointer-events%3A%20all%3B%20stroke-width%3A%201%3B%20fill%3A%20rgb(118%2C%20183%2C%20178)%3B%20fill-opacity%3A%201%3B%20stroke%3A%20rgb(255%2C%20255%2C%20255)%3B%20stroke-opacity%3A%201%3B%20opacity%3A%201%3B%22%2F%3E%3Cg%20class%3D%22slicetext%22%3E%3Ctext%20data-notex%3D%221%22%20class%3D%22slicetext%22%20text-anchor%3D%22start%22%20data-unformatted%3D%22High%20School%20or%20Below%22%20data-math%3D%22N%22%20x%3D%220%22%20y%3D%220%22%20style%3D%22font-family%3A%20%26quot%3BOpen%20Sans%26quot%3B%2C%20verdana%2C%20arial%2C%20sans-serif%3B%20font-size%3A%2012px%3B%20fill%3A%20rgb(68%2C%2068%2C%2068)%3B%20fill-opacity%3A%201%3B%20white-space%3A%20pre%3B%22%20transform%3D%22translate(1138.083609206166%2C218.00132256154808)%22%3EHigh%20School%20or%20Below%3C%2Ftext%3E%3C%2Fg%3E%3C%2Fg%3E%3C%2Fg%3E%3C%2Fg%3E%3Cg%20class%3D%22sunburstlayer%22%2F%3E%3Cg%20class%3D%22glimages%22%2F%3E%3C%2Fsvg%3E%3Cdiv%20class%3D%22gl-container%22%3E%3C%2Fdiv%3E%3Csvg%20class%3D%22main-svg%22%20xmlns%3D%22http%3A%2F%2Fwww.w3.org%2F2000%2Fsvg%22%20xmlns%3Axlink%3D%22http%3A%2F%2Fwww.w3.org%2F1999%2Fxlink%22%20width%3D%221310%22%20height%3D%22352%22%3E%3Cdefs%20id%3D%22topdefs-baecf7%22%3E%3Cg%20class%3D%22clips%22%2F%3E%3C%2Fdefs%3E%3Cg%20class%3D%22indicatorlayer%22%2F%3E%3Cg%20class%3D%22layer-above%22%3E%3Cg%20class%3D%22imagelayer%22%2F%3E%3Cg%20class%3D%22shapelayer%22%2F%3E%3C%2Fg%3E%3Cg%20class%3D%22infolayer%22%3E%3Cg%20class%3D%22g-gtitle%22%2F%3E%3C%2Fg%3E%3Cg%20class%3D%22menulayer%22%2F%3E%3Cg%20class%3D%22zoomlayer%22%2F%3E%3C%2Fsvg%3E%3Cdiv%20class%3D%22modebar-container%22%20style%3D%22position%3A%20absolute%3B%20top%3A%200px%3B%20right%3A%200px%3B%20width%3A%20100%25%3B%22%3E%3Cdiv%20id%3D%22modebar-baecf7%22%20class%3D%22modebar%20modebar--hover%20ease-bg%22%3E%3Cdiv%20class%3D%22modebar-group%22%3E%3Ca%20rel%3D%22tooltip%22%20class%3D%22modebar-btn%22%20data-title%3D%22Download%20plot%20as%20a%20png%22%20data-toggle%3D%22false%22%20data-gravity%3D%22n%22%3E%3Csvg%20xmlns%3D%22http%3A%2F%2Fwww.w3.org%2F2000%2Fsvg%22%20viewBox%3D%220%200%201000%201000%22%20class%3D%22icon%22%20height%3D%221em%22%20width%3D%221em%22%3E%3Cpath%20d%3D%22m500%20450c-83%200-150-67-150-150%200-83%2067-150%20150-150%2083%200%20150%2067%20150%20150%200%2083-67%20150-150%20150z%20m400%20150h-120c-16%200-34%2013-39%2029l-31%2093c-6%2015-23%2028-40%2028h-340c-16%200-34-13-39-28l-31-94c-6-15-23-28-40-28h-120c-55%200-100-45-100-100v-450c0-55%2045-100%20100-100h800c55%200%20100%2045%20100%20100v450c0%2055-45%20100-100%20100z%20m-400-550c-138%200-250%20112-250%20250%200%20138%20112%20250%20250%20250%20138%200%20250-112%20250-250%200-138-112-250-250-250z%20m365%20380c-19%200-35%2016-35%2035%200%2019%2016%2035%2035%2035%2019%200%2035-16%2035-35%200-19-16-35-35-35z%22%20transform%3D%22matrix(1%200%200%20-1%200%20850)%22%2F%3E%3C%2Fsvg%3E%3C%2Fa%3E%3C%2Fdiv%3E%3Cdiv%20class%3D%22modebar-group%22%3E%3C%2Fdiv%3E%3C%2Fdiv%3E%3C%2Fdiv%3E%3Csvg%20class%3D%22main-svg%22%20xmlns%3D%22http%3A%2F%2Fwww.w3.org%2F2000%2Fsvg%22%20xmlns%3Axlink%3D%22http%3A%2F%2Fwww.w3.org%2F1999%2Fxlink%22%20width%3D%221310%22%20height%3D%22352%22%3E%3Cg%20class%3D%22hoverlayer%22%2F%3E%3C%2Fsvg%3E%3C%2Fdiv%3E%3C%2Fdiv%3E%3C%2Fdiv%3E%3C%2Fdiv%3E%3C%2Fdiv%3E%3C%2Fdiv%3E%3C%2Fdiv%3E%3C%2Fdiv%3E%3C%2Fdiv%3E%3C%2Fdiv%3E%3C%2FforeignObject%3E%3C%2Fsvg%3E\">"
      ],
      "text/plain": [
       "Open the notebook in JupyterLab with the atoti extension enabled to build this widget."
      ]
     },
     "metadata": {},
     "output_type": "display_data"
    }
   ],
   "source": [
    "session.visualize(\"treemap\")"
   ]
  },
  {
   "cell_type": "markdown",
   "id": "2e9e3e21-5bd5-473b-ad5a-a8650068d379",
   "metadata": {},
   "source": [
    "## 创建模型进行模拟\n",
    "\n",
    "首先是常规操作，选择你喜欢的模型，预测各种数值。"
   ]
  },
  {
   "cell_type": "code",
   "execution_count": 7,
   "id": "a5d37b06-659d-4ab3-bb3e-f6914c98da76",
   "metadata": {},
   "outputs": [],
   "source": [
    "df['Sale']= df['Sale'].astype(int)\n",
    "\n",
    "\n",
    "\n",
    "train_df, val_df = train_test_split(df, test_size=0.1, random_state=36)\n",
    "\n",
    "train_df = train_df.dropna()\n",
    "val_df = val_df.dropna()\n",
    "test_df = test_df.dropna()\n",
    "\n",
    "# Training data\n",
    "X_train = train_df.iloc[:, 2:]\n",
    "Y_train = train_df.iloc[:, 1]\n",
    "\n",
    "# Validation data\n",
    "X_val = val_df.iloc[:, 2:]\n",
    "Y_val = val_df.iloc[:, 1]\n",
    "\n",
    "# Test data\n",
    "X_test = test_df.iloc[:, 2:]\n",
    "Y_test = test_df.iloc[:, 1]\n",
    "# split data into the features (X) and labels (y)\n",
    "features_to_encode = X_train.columns[X_train.dtypes==object].tolist()  \n",
    "from sklearn.preprocessing import OneHotEncoder\n",
    "from sklearn.compose import make_column_transformer\n",
    "col_trans = make_column_transformer(\n",
    "                        (OneHotEncoder(),features_to_encode),\n",
    "                        remainder = \"passthrough\"\n",
    "                        )\n",
    "\n",
    "\n",
    "\n"
   ]
  },
  {
   "cell_type": "code",
   "execution_count": 8,
   "id": "ffdc7789-2e80-4b16-840f-837778d381b2",
   "metadata": {},
   "outputs": [],
   "source": [
    "rf = RandomForestClassifier()\n",
    "from sklearn.pipeline import make_pipeline\n",
    "pipe = make_pipeline(col_trans, rf)\n",
    "pipe.fit(X_train, Y_train)\n",
    "test_result = pipe.predict(X_test)\n"
   ]
  },
  {
   "cell_type": "markdown",
   "id": "94bf4ac4-92d1-441d-840d-3a416fab7bce",
   "metadata": {},
   "source": [
    "## 创建预测副本"
   ]
  },
  {
   "cell_type": "code",
   "execution_count": 9,
   "id": "bad51bd6-d3b3-4bd1-8c83-9d5d84c82f66",
   "metadata": {},
   "outputs": [],
   "source": [
    "prediction_df = test_df.copy()\n",
    "prediction_df.drop(\"Sale\", axis=1, inplace=True)\n",
    "prediction_df[\"Sales_prediction\"] = test_result.tolist()\n",
    "\n",
    "rf_predictions = pipe.predict_proba(X_test)\n",
    "probability = []\n",
    "for i in range(len(rf_predictions)):\n",
    "    probability.append(rf_predictions[i][1])\n",
    "    \n",
    "prediction_df[\"sales_prediction_probability\"] = probability\n"
   ]
  },
  {
   "cell_type": "code",
   "execution_count": 10,
   "id": "77f13db6-e4e9-4dc3-8578-b742b9c6760d",
   "metadata": {},
   "outputs": [
    {
     "data": {
      "text/html": [
       "<div>\n",
       "<style scoped>\n",
       "    .dataframe tbody tr th:only-of-type {\n",
       "        vertical-align: middle;\n",
       "    }\n",
       "\n",
       "    .dataframe tbody tr th {\n",
       "        vertical-align: top;\n",
       "    }\n",
       "\n",
       "    .dataframe thead th {\n",
       "        text-align: right;\n",
       "    }\n",
       "</style>\n",
       "<table border=\"1\" class=\"dataframe\">\n",
       "  <thead>\n",
       "    <tr style=\"text-align: right;\">\n",
       "      <th></th>\n",
       "      <th>Driver_Age</th>\n",
       "      <th>Vehicle_Value</th>\n",
       "      <th>Price</th>\n",
       "      <th>Vehicle_Mileage</th>\n",
       "      <th>Credit_Score</th>\n",
       "      <th>Licence_Length_Years</th>\n",
       "      <th>Marital_Status</th>\n",
       "      <th>Tax</th>\n",
       "      <th>State</th>\n",
       "      <th>CLTV</th>\n",
       "      <th>Coverage_Type</th>\n",
       "      <th>Education</th>\n",
       "      <th>Employment_Status</th>\n",
       "      <th>Location_Code</th>\n",
       "      <th>Sales_Channel</th>\n",
       "      <th>Months_Policy_Inception</th>\n",
       "      <th>Policy_Type</th>\n",
       "      <th>Sales_prediction</th>\n",
       "      <th>sales_prediction_probability</th>\n",
       "    </tr>\n",
       "    <tr>\n",
       "      <th>cust_id</th>\n",
       "      <th></th>\n",
       "      <th></th>\n",
       "      <th></th>\n",
       "      <th></th>\n",
       "      <th></th>\n",
       "      <th></th>\n",
       "      <th></th>\n",
       "      <th></th>\n",
       "      <th></th>\n",
       "      <th></th>\n",
       "      <th></th>\n",
       "      <th></th>\n",
       "      <th></th>\n",
       "      <th></th>\n",
       "      <th></th>\n",
       "      <th></th>\n",
       "      <th></th>\n",
       "      <th></th>\n",
       "      <th></th>\n",
       "    </tr>\n",
       "  </thead>\n",
       "  <tbody>\n",
       "    <tr>\n",
       "      <th>1123349069299</th>\n",
       "      <td>37.0</td>\n",
       "      <td>6000.0</td>\n",
       "      <td>252.39</td>\n",
       "      <td>5000.0</td>\n",
       "      <td>359.11</td>\n",
       "      <td>4.42</td>\n",
       "      <td>M</td>\n",
       "      <td>25.24</td>\n",
       "      <td>California</td>\n",
       "      <td>9890.2</td>\n",
       "      <td>Extended</td>\n",
       "      <td>Bachelor</td>\n",
       "      <td>Employed</td>\n",
       "      <td>Rural</td>\n",
       "      <td>Agent</td>\n",
       "      <td>12</td>\n",
       "      <td>Personal Auto</td>\n",
       "      <td>0</td>\n",
       "      <td>0.03</td>\n",
       "    </tr>\n",
       "    <tr>\n",
       "      <th>4467098784674</th>\n",
       "      <td>27.0</td>\n",
       "      <td>10000.0</td>\n",
       "      <td>477.80</td>\n",
       "      <td>6000.0</td>\n",
       "      <td>401.06</td>\n",
       "      <td>0.68</td>\n",
       "      <td>S</td>\n",
       "      <td>47.78</td>\n",
       "      <td>Arizona</td>\n",
       "      <td>6297.0</td>\n",
       "      <td>Premium</td>\n",
       "      <td>Master</td>\n",
       "      <td>Disabled</td>\n",
       "      <td>Urban</td>\n",
       "      <td>Branch</td>\n",
       "      <td>65</td>\n",
       "      <td>Corporate Auto</td>\n",
       "      <td>1</td>\n",
       "      <td>0.71</td>\n",
       "    </tr>\n",
       "    <tr>\n",
       "      <th>869569892903</th>\n",
       "      <td>27.0</td>\n",
       "      <td>10000.0</td>\n",
       "      <td>340.29</td>\n",
       "      <td>6000.0</td>\n",
       "      <td>304.35</td>\n",
       "      <td>7.19</td>\n",
       "      <td>M</td>\n",
       "      <td>34.03</td>\n",
       "      <td>Washington</td>\n",
       "      <td>8709.8</td>\n",
       "      <td>Premium</td>\n",
       "      <td>Bachelor</td>\n",
       "      <td>Employed</td>\n",
       "      <td>Rural</td>\n",
       "      <td>Call Center</td>\n",
       "      <td>47</td>\n",
       "      <td>Corporate Auto</td>\n",
       "      <td>0</td>\n",
       "      <td>0.20</td>\n",
       "    </tr>\n",
       "    <tr>\n",
       "      <th>2237607703548</th>\n",
       "      <td>18.0</td>\n",
       "      <td>8000.0</td>\n",
       "      <td>645.61</td>\n",
       "      <td>7000.0</td>\n",
       "      <td>345.25</td>\n",
       "      <td>0.43</td>\n",
       "      <td>M</td>\n",
       "      <td>64.56</td>\n",
       "      <td>Oregon</td>\n",
       "      <td>16675.9</td>\n",
       "      <td>Extended</td>\n",
       "      <td>Bachelor</td>\n",
       "      <td>Medical Leave</td>\n",
       "      <td>Urban</td>\n",
       "      <td>Web</td>\n",
       "      <td>89</td>\n",
       "      <td>Personal Auto</td>\n",
       "      <td>1</td>\n",
       "      <td>0.98</td>\n",
       "    </tr>\n",
       "    <tr>\n",
       "      <th>2354445725997</th>\n",
       "      <td>25.0</td>\n",
       "      <td>5000.0</td>\n",
       "      <td>384.88</td>\n",
       "      <td>8000.0</td>\n",
       "      <td>353.73</td>\n",
       "      <td>5.17</td>\n",
       "      <td>M</td>\n",
       "      <td>19.24</td>\n",
       "      <td>Washington</td>\n",
       "      <td>7163.8</td>\n",
       "      <td>Extended</td>\n",
       "      <td>Doctor</td>\n",
       "      <td>Disabled</td>\n",
       "      <td>Urban</td>\n",
       "      <td>Web</td>\n",
       "      <td>51</td>\n",
       "      <td>Corporate Auto</td>\n",
       "      <td>0</td>\n",
       "      <td>0.30</td>\n",
       "    </tr>\n",
       "  </tbody>\n",
       "</table>\n",
       "</div>"
      ],
      "text/plain": [
       "               Driver_Age  Vehicle_Value   Price  Vehicle_Mileage  \\\n",
       "cust_id                                                             \n",
       "1123349069299        37.0         6000.0  252.39           5000.0   \n",
       "4467098784674        27.0        10000.0  477.80           6000.0   \n",
       "869569892903         27.0        10000.0  340.29           6000.0   \n",
       "2237607703548        18.0         8000.0  645.61           7000.0   \n",
       "2354445725997        25.0         5000.0  384.88           8000.0   \n",
       "\n",
       "               Credit_Score  Licence_Length_Years Marital_Status    Tax  \\\n",
       "cust_id                                                                   \n",
       "1123349069299        359.11                  4.42              M  25.24   \n",
       "4467098784674        401.06                  0.68              S  47.78   \n",
       "869569892903         304.35                  7.19              M  34.03   \n",
       "2237607703548        345.25                  0.43              M  64.56   \n",
       "2354445725997        353.73                  5.17              M  19.24   \n",
       "\n",
       "                    State     CLTV Coverage_Type Education Employment_Status  \\\n",
       "cust_id                                                                        \n",
       "1123349069299  California   9890.2      Extended  Bachelor          Employed   \n",
       "4467098784674     Arizona   6297.0       Premium    Master          Disabled   \n",
       "869569892903   Washington   8709.8       Premium  Bachelor          Employed   \n",
       "2237607703548      Oregon  16675.9      Extended  Bachelor     Medical Leave   \n",
       "2354445725997  Washington   7163.8      Extended    Doctor          Disabled   \n",
       "\n",
       "              Location_Code Sales_Channel  Months_Policy_Inception  \\\n",
       "cust_id                                                              \n",
       "1123349069299         Rural         Agent                       12   \n",
       "4467098784674         Urban        Branch                       65   \n",
       "869569892903          Rural   Call Center                       47   \n",
       "2237607703548         Urban           Web                       89   \n",
       "2354445725997         Urban           Web                       51   \n",
       "\n",
       "                  Policy_Type  Sales_prediction  sales_prediction_probability  \n",
       "cust_id                                                                        \n",
       "1123349069299   Personal Auto                 0                          0.03  \n",
       "4467098784674  Corporate Auto                 1                          0.71  \n",
       "869569892903   Corporate Auto                 0                          0.20  \n",
       "2237607703548   Personal Auto                 1                          0.98  \n",
       "2354445725997  Corporate Auto                 0                          0.30  "
      ]
     },
     "execution_count": 10,
     "metadata": {},
     "output_type": "execute_result"
    }
   ],
   "source": [
    "predictions = session.read_pandas(\n",
    "    prediction_df, table_name=\"scenarios\", keys=[\"cust_id\"]\n",
    ")\n",
    "predict_cube = session.create_cube(predictions, name=\"scenarios\")\n",
    "\n",
    "predictions.head()"
   ]
  },
  {
   "cell_type": "markdown",
   "id": "c1fc9929-511b-447b-9be0-dba0a9944f2c",
   "metadata": {},
   "source": [
    "## 模拟降价调整\n",
    "我们模拟一下杀熟拉新的手段，也就是对于购买概率比较高的客户提高价格，对于购买意愿比较低的人降低价格。\n",
    "\n",
    "然后对于调整后的数据，进行重新预测，之后将结果保存在```scenarios```里面。"
   ]
  },
  {
   "cell_type": "code",
   "execution_count": 11,
   "id": "546e2ac8-c048-4d02-bc6b-5cdef1f25c3f",
   "metadata": {},
   "outputs": [],
   "source": [
    "# updating the pricing based on above pareto simulation\n",
    "\n",
    "prediction_df_pareto = prediction_df.copy()\n",
    "\n",
    "prediction_df_pareto.loc[\n",
    "    (prediction_df_pareto.sales_prediction_probability > 0.8), \"Price\"\n",
    "] = prediction_df_pareto[\"Price\"].apply(lambda x: x * 1.2)\n",
    "\n",
    "prediction_df_pareto.loc[\n",
    "    (prediction_df_pareto.sales_prediction_probability < 0.2), \"Price\"\n",
    "] = prediction_df_pareto[\"Price\"].apply(lambda x: x * 0.8)\n",
    "\n",
    "#\n",
    "X_test_pareto = X_test.copy()\n",
    "X_test_pareto[\"Price\"] = prediction_df_pareto[\"Price\"]\n",
    "\n",
    "test_result_pareto = pipe.predict(X_test_pareto)\n",
    "\n",
    "prediction_df_pareto[\"Sales_prediction\"] = test_result_pareto.tolist()"
   ]
  },
  {
   "cell_type": "code",
   "execution_count": 12,
   "id": "8d6f31ac-bec8-45db-9324-1e089716b902",
   "metadata": {},
   "outputs": [],
   "source": [
    "predictions.scenarios[\"Pareto price change\"].load_pandas(prediction_df_pareto)\n"
   ]
  },
  {
   "cell_type": "markdown",
   "id": "f93ab031-7281-40f8-91af-1146632cfd07",
   "metadata": {},
   "source": [
    "或者，你可以对特定的用户进行价格调整，比如只买基本保险的人，提高价格。或者非个人用户降低价格等。"
   ]
  },
  {
   "cell_type": "code",
   "execution_count": 13,
   "id": "2b7c936c-50a1-4c61-b484-5ff427ebaadb",
   "metadata": {},
   "outputs": [],
   "source": [
    "# updating the pricingi\n",
    "prediction_df_personal_auto = prediction_df.copy()\n",
    "\n",
    "prediction_df_personal_auto.loc[\n",
    "    (prediction_df_personal_auto.Policy_Type != \"Personal Auto\"), \"Price\"\n",
    "] = prediction_df_personal_auto[\"Price\"].apply(lambda x: x * 1.25)\n",
    "\n",
    "prediction_df_personal_auto.loc[\n",
    "    (prediction_df_personal_auto.Coverage_Type == \"Basic\"), \"Price\"\n",
    "] = prediction_df_personal_auto[\"Price\"].apply(lambda x: x * 1.15)"
   ]
  },
  {
   "cell_type": "code",
   "execution_count": 14,
   "id": "12222628-cab4-48fe-ac0f-c8fc9a93f52e",
   "metadata": {},
   "outputs": [],
   "source": [
    "X_test_personal_auto = X_test.copy()\n",
    "X_test_personal_auto[\"Price\"] = prediction_df_personal_auto[\"Price\"]\n",
    "\n",
    "test_result_personal_auto = pipe.predict(X_test_personal_auto)\n",
    "prediction_df_personal_auto[\"Sales_prediction\"] = test_result_personal_auto.tolist()"
   ]
  },
  {
   "cell_type": "code",
   "execution_count": 15,
   "id": "1e69d7a0-4a6d-465c-b628-1c8241e67549",
   "metadata": {},
   "outputs": [],
   "source": [
    "predictions.scenarios[\"Policy Change\"].load_pandas(prediction_df_personal_auto)"
   ]
  },
  {
   "cell_type": "markdown",
   "id": "4f495f17-1fae-4bcb-bcca-c32a96327567",
   "metadata": {},
   "source": [
    "## 对比模拟结果\n",
    "同样的可视化，只不过，这里我们有多个scenarios副本信息，这些scenarios信息可以轻松加入图表。\n",
    "在这之前，我们可以再做一些统计，比如利润的计算，我们可以采用pandas 单独算好每个副本。也可以使用atoti对所有副本同时计算。"
   ]
  },
  {
   "cell_type": "code",
   "execution_count": 16,
   "id": "a4be589e-bf9f-44fc-ad4e-5b7aa9bcc30b",
   "metadata": {},
   "outputs": [],
   "source": [
    "# this is sum of quotes from the predicted sales\n",
    "predict_cube.measures[\"revenue_realised\"] = tt.agg.sum(\n",
    "    predict_cube.measures[\"sales_prediction_probability.SUM\"] * predict_cube.measures[\"Price.SUM\"],\n",
    "    scope=tt.scope.origin(predict_cube.levels[\"cust_id\"]),\n",
    ")"
   ]
  },
  {
   "cell_type": "code",
   "execution_count": 17,
   "id": "7fadfe92-f295-4674-9788-e848cb4d1521",
   "metadata": {
    "atoti": {
     "widget": {
      "mapping": {
       "horizontalSubplots": [],
       "splitBy": [
        "ALL_MEASURES",
        "[Epoch].[Epoch].[Branch]"
       ],
       "values": [
        "[Measures].[revenue_realised]"
       ],
       "verticalSubplots": [],
       "xAxis": [
        "[scenarios].[Coverage_Type].[Coverage_Type]"
       ]
      },
      "query": {
       "mdx": "SELECT NON EMPTY Crossjoin({[Measures].[revenue_realised]}, [Epoch].[Epoch].[Branch].Members) ON COLUMNS, NON EMPTY Hierarchize(Descendants({[scenarios].[Coverage_Type].[AllMember]}, 1, SELF_AND_BEFORE)) ON ROWS FROM [scenarios] CELL PROPERTIES VALUE, FORMATTED_VALUE, BACK_COLOR, FORE_COLOR, FONT_FLAGS",
       "updateMode": "once"
      },
      "serverKey": "default",
      "widgetKey": "plotly-clustered-column-chart"
     }
    },
    "tags": []
   },
   "outputs": [
    {
     "data": {
      "application/vnd.atoti.widget.v0+json": {
       "name": null,
       "sessionId": "16f41d1f-fdb2-4439-aea5-796e1777b98c",
       "sessionLocation": {
        "https": null,
        "port": 55380
       },
       "widgetCreationCode": "session.visualize()"
      },
      "text/html": [
       "<img src=\"data:image/svg+xml;charset=utf8,%3C%3Fxml%20version%3D%221.0%22%20standalone%3D%22no%22%3F%3E%3Csvg%20xmlns%3D%22http%3A%2F%2Fwww.w3.org%2F2000%2Fsvg%22%20xmlns%3Axlink%3D%22http%3A%2F%2Fwww.w3.org%2F1999%2Fxlink%22%20height%3D%22352%22%20width%3D%221310%22%20viewBox%3D%220%200%201310%20352%22%3E%3Cdefs%20id%3D%22defs-66beeb%22%3E%3Cg%20class%3D%22clips%22%3E%3CclipPath%20id%3D%22clip66beebxyplot%22%20class%3D%22plotclip%22%3E%3Crect%20width%3D%221052%22%20height%3D%22242%22%2F%3E%3C%2FclipPath%3E%3CclipPath%20class%3D%22axesclip%22%20id%3D%22clip66beebx%22%3E%3Crect%20x%3D%2280%22%20y%3D%220%22%20width%3D%221052%22%20height%3D%22352%22%2F%3E%3C%2FclipPath%3E%3CclipPath%20class%3D%22axesclip%22%20id%3D%22clip66beeby%22%3E%3Crect%20x%3D%220%22%20y%3D%2230%22%20width%3D%221310%22%20height%3D%22242%22%2F%3E%3C%2FclipPath%3E%3CclipPath%20class%3D%22axesclip%22%20id%3D%22clip66beebxy%22%3E%3Crect%20x%3D%2280%22%20y%3D%2230%22%20width%3D%221052%22%20height%3D%22242%22%2F%3E%3C%2FclipPath%3E%3C%2Fg%3E%3Cg%20class%3D%22gradients%22%2F%3E%3C%2Fdefs%3E%3Cg%20class%3D%22bglayer%22%2F%3E%3Cg%20class%3D%22draglayer%20cursor-crosshair%22%3E%3Cg%20class%3D%22xy%22%3E%3Crect%20class%3D%22nsewdrag%20drag%22%20data-subplot%3D%22xy%22%20x%3D%2280%22%20y%3D%2230%22%20width%3D%221052%22%20height%3D%22242%22%20style%3D%22fill%3A%20transparent%3B%20stroke-width%3A%200%3B%20pointer-events%3A%20all%3B%22%2F%3E%3Crect%20class%3D%22nwdrag%20drag%20cursor-nw-resize%22%20data-subplot%3D%22xy%22%20x%3D%2260%22%20y%3D%2210%22%20width%3D%2220%22%20height%3D%2220%22%20style%3D%22fill%3A%20transparent%3B%20stroke-width%3A%200%3B%20pointer-events%3A%20all%3B%22%2F%3E%3Crect%20class%3D%22nedrag%20drag%20cursor-ne-resize%22%20data-subplot%3D%22xy%22%20x%3D%221132%22%20y%3D%2210%22%20width%3D%2220%22%20height%3D%2220%22%20style%3D%22fill%3A%20transparent%3B%20stroke-width%3A%200%3B%20pointer-events%3A%20all%3B%22%2F%3E%3Crect%20class%3D%22swdrag%20drag%20cursor-sw-resize%22%20data-subplot%3D%22xy%22%20x%3D%2260%22%20y%3D%22272%22%20width%3D%2220%22%20height%3D%2220%22%20style%3D%22fill%3A%20transparent%3B%20stroke-width%3A%200%3B%20pointer-events%3A%20all%3B%22%2F%3E%3Crect%20class%3D%22sedrag%20drag%20cursor-se-resize%22%20data-subplot%3D%22xy%22%20x%3D%221132%22%20y%3D%22272%22%20width%3D%2220%22%20height%3D%2220%22%20style%3D%22fill%3A%20transparent%3B%20stroke-width%3A%200%3B%20pointer-events%3A%20all%3B%22%2F%3E%3Crect%20class%3D%22ewdrag%20drag%20cursor-ew-resize%22%20data-subplot%3D%22xy%22%20x%3D%22185.2%22%20y%3D%22272.5%22%20width%3D%22841.6%22%20height%3D%2220%22%20style%3D%22fill%3A%20transparent%3B%20stroke-width%3A%200%3B%20pointer-events%3A%20all%3B%22%2F%3E%3Crect%20class%3D%22wdrag%20drag%20cursor-w-resize%22%20data-subplot%3D%22xy%22%20x%3D%2280%22%20y%3D%22272.5%22%20width%3D%22105.2%22%20height%3D%2220%22%20style%3D%22fill%3A%20transparent%3B%20stroke-width%3A%200%3B%20pointer-events%3A%20all%3B%22%2F%3E%3Crect%20class%3D%22edrag%20drag%20cursor-e-resize%22%20data-subplot%3D%22xy%22%20x%3D%221026.8000000000002%22%20y%3D%22272.5%22%20width%3D%22105.2%22%20height%3D%2220%22%20style%3D%22fill%3A%20transparent%3B%20stroke-width%3A%200%3B%20pointer-events%3A%20all%3B%22%2F%3E%3Crect%20class%3D%22nsdrag%20drag%20cursor-ns-resize%22%20data-subplot%3D%22xy%22%20x%3D%2259.5%22%20y%3D%2254.2%22%20width%3D%2220%22%20height%3D%22193.60000000000002%22%20style%3D%22fill%3A%20transparent%3B%20stroke-width%3A%200%3B%20pointer-events%3A%20all%3B%22%2F%3E%3Crect%20class%3D%22sdrag%20drag%20cursor-s-resize%22%20data-subplot%3D%22xy%22%20x%3D%2259.5%22%20y%3D%22247.8%22%20width%3D%2220%22%20height%3D%2224.200000000000003%22%20style%3D%22fill%3A%20transparent%3B%20stroke-width%3A%200%3B%20pointer-events%3A%20all%3B%22%2F%3E%3Crect%20class%3D%22ndrag%20drag%20cursor-n-resize%22%20data-subplot%3D%22xy%22%20x%3D%2259.5%22%20y%3D%2230%22%20width%3D%2220%22%20height%3D%2224.200000000000003%22%20style%3D%22fill%3A%20transparent%3B%20stroke-width%3A%200%3B%20pointer-events%3A%20all%3B%22%2F%3E%3C%2Fg%3E%3C%2Fg%3E%3Cg%20class%3D%22layer-below%22%3E%3Cg%20class%3D%22imagelayer%22%2F%3E%3Cg%20class%3D%22shapelayer%22%2F%3E%3C%2Fg%3E%3Cg%20class%3D%22cartesianlayer%22%3E%3Cg%20class%3D%22subplot%20xy%22%3E%3Cg%20class%3D%22layer-subplot%22%3E%3Cg%20class%3D%22shapelayer%22%2F%3E%3Cg%20class%3D%22imagelayer%22%2F%3E%3C%2Fg%3E%3Cg%20class%3D%22gridlayer%22%3E%3Cg%20class%3D%22x%22%3E%3Cpath%20class%3D%22xgrid%20crisp%22%20transform%3D%22translate(255.33%2C0)%22%20d%3D%22M0%2C30v242%22%20style%3D%22stroke%3A%20rgb(0%2C%200%2C%200)%3B%20stroke-opacity%3A%200%3B%20stroke-width%3A%201px%3B%22%2F%3E%3Cpath%20class%3D%22xgrid%20crisp%22%20transform%3D%22translate(606%2C0)%22%20d%3D%22M0%2C30v242%22%20style%3D%22stroke%3A%20rgb(0%2C%200%2C%200)%3B%20stroke-opacity%3A%200%3B%20stroke-width%3A%201px%3B%22%2F%3E%3Cpath%20class%3D%22xgrid%20crisp%22%20transform%3D%22translate(956.67%2C0)%22%20d%3D%22M0%2C30v242%22%20style%3D%22stroke%3A%20rgb(0%2C%200%2C%200)%3B%20stroke-opacity%3A%200%3B%20stroke-width%3A%201px%3B%22%2F%3E%3C%2Fg%3E%3Cg%20class%3D%22y%22%3E%3Cpath%20class%3D%22ygrid%20crisp%22%20transform%3D%22translate(0%2C206.71)%22%20d%3D%22M80%2C0h1052%22%20style%3D%22stroke%3A%20rgb(89%2C%2089%2C%2089)%3B%20stroke-opacity%3A%200.25%3B%20stroke-width%3A%201px%3B%22%2F%3E%3Cpath%20class%3D%22ygrid%20crisp%22%20transform%3D%22translate(0%2C141.41)%22%20d%3D%22M80%2C0h1052%22%20style%3D%22stroke%3A%20rgb(89%2C%2089%2C%2089)%3B%20stroke-opacity%3A%200.25%3B%20stroke-width%3A%201px%3B%22%2F%3E%3Cpath%20class%3D%22ygrid%20crisp%22%20transform%3D%22translate(0%2C76.12)%22%20d%3D%22M80%2C0h1052%22%20style%3D%22stroke%3A%20rgb(89%2C%2089%2C%2089)%3B%20stroke-opacity%3A%200.25%3B%20stroke-width%3A%201px%3B%22%2F%3E%3C%2Fg%3E%3C%2Fg%3E%3Cg%20class%3D%22zerolinelayer%22%3E%3Cpath%20class%3D%22yzl%20zl%20crisp%22%20transform%3D%22translate(0%2C272)%22%20d%3D%22M80%2C0h1052%22%20style%3D%22stroke%3A%20rgb(89%2C%2089%2C%2089)%3B%20stroke-opacity%3A%200.5%3B%20stroke-width%3A%201px%3B%22%2F%3E%3C%2Fg%3E%3Cpath%20class%3D%22xlines-below%22%2F%3E%3Cpath%20class%3D%22ylines-below%22%2F%3E%3Cg%20class%3D%22overlines-below%22%2F%3E%3Cg%20class%3D%22xaxislayer-below%22%2F%3E%3Cg%20class%3D%22yaxislayer-below%22%2F%3E%3Cg%20class%3D%22overaxes-below%22%2F%3E%3Cg%20class%3D%22plot%22%20transform%3D%22translate(80%2C30)%22%20clip-path%3D%22url('%23clip66beebxyplot')%22%3E%3Cg%20class%3D%22barlayer%20mlayer%22%3E%3Cg%20class%3D%22trace%20bars%22%20style%3D%22opacity%3A%201%3B%22%3E%3Cg%20class%3D%22points%22%3E%3Cg%20class%3D%22point%22%3E%3Cpath%20d%3D%22M35.07%2C242V70.84H128.58V242Z%22%20style%3D%22vector-effect%3A%20non-scaling-stroke%3B%20opacity%3A%201%3B%20stroke-width%3A%200px%3B%20fill%3A%20rgb(78%2C%20121%2C%20167)%3B%20fill-opacity%3A%201%3B%22%2F%3E%3C%2Fg%3E%3Cg%20class%3D%22point%22%3E%3Cpath%20d%3D%22M385.73%2C242V69.83H479.24V242Z%22%20style%3D%22vector-effect%3A%20non-scaling-stroke%3B%20opacity%3A%201%3B%20stroke-width%3A%200px%3B%20fill%3A%20rgb(78%2C%20121%2C%20167)%3B%20fill-opacity%3A%201%3B%22%2F%3E%3C%2Fg%3E%3Cg%20class%3D%22point%22%3E%3Cpath%20d%3D%22M736.4%2C242V79.44H829.91V242Z%22%20style%3D%22vector-effect%3A%20non-scaling-stroke%3B%20opacity%3A%201%3B%20stroke-width%3A%200px%3B%20fill%3A%20rgb(78%2C%20121%2C%20167)%3B%20fill-opacity%3A%201%3B%22%2F%3E%3C%2Fg%3E%3C%2Fg%3E%3C%2Fg%3E%3Cg%20class%3D%22trace%20bars%22%20style%3D%22opacity%3A%201%3B%22%3E%3Cg%20class%3D%22points%22%3E%3Cg%20class%3D%22point%22%3E%3Cpath%20d%3D%22M128.58%2C242V43.82H222.09V242Z%22%20style%3D%22vector-effect%3A%20non-scaling-stroke%3B%20opacity%3A%201%3B%20stroke-width%3A%200px%3B%20fill%3A%20rgb(242%2C%20142%2C%2044)%3B%20fill-opacity%3A%201%3B%22%2F%3E%3C%2Fg%3E%3Cg%20class%3D%22point%22%3E%3Cpath%20d%3D%22M479.24%2C242V41.08H572.76V242Z%22%20style%3D%22vector-effect%3A%20non-scaling-stroke%3B%20opacity%3A%201%3B%20stroke-width%3A%200px%3B%20fill%3A%20rgb(242%2C%20142%2C%2044)%3B%20fill-opacity%3A%201%3B%22%2F%3E%3C%2Fg%3E%3Cg%20class%3D%22point%22%3E%3Cpath%20d%3D%22M829.91%2C242V51.09H923.42V242Z%22%20style%3D%22vector-effect%3A%20non-scaling-stroke%3B%20opacity%3A%201%3B%20stroke-width%3A%200px%3B%20fill%3A%20rgb(242%2C%20142%2C%2044)%3B%20fill-opacity%3A%201%3B%22%2F%3E%3C%2Fg%3E%3C%2Fg%3E%3C%2Fg%3E%3Cg%20class%3D%22trace%20bars%22%20style%3D%22opacity%3A%201%3B%22%3E%3Cg%20class%3D%22points%22%3E%3Cg%20class%3D%22point%22%3E%3Cpath%20d%3D%22M222.09%2C242V12.1H315.6V242Z%22%20style%3D%22vector-effect%3A%20non-scaling-stroke%3B%20opacity%3A%201%3B%20stroke-width%3A%200px%3B%20fill%3A%20rgb(225%2C%2087%2C%2089)%3B%20fill-opacity%3A%201%3B%22%2F%3E%3C%2Fg%3E%3Cg%20class%3D%22point%22%3E%3Cpath%20d%3D%22M572.76%2C242V41.02H666.27V242Z%22%20style%3D%22vector-effect%3A%20non-scaling-stroke%3B%20opacity%3A%201%3B%20stroke-width%3A%200px%3B%20fill%3A%20rgb(225%2C%2087%2C%2089)%3B%20fill-opacity%3A%201%3B%22%2F%3E%3C%2Fg%3E%3Cg%20class%3D%22point%22%3E%3Cpath%20d%3D%22M923.42%2C242V52.58H1016.93V242Z%22%20style%3D%22vector-effect%3A%20non-scaling-stroke%3B%20opacity%3A%201%3B%20stroke-width%3A%200px%3B%20fill%3A%20rgb(225%2C%2087%2C%2089)%3B%20fill-opacity%3A%201%3B%22%2F%3E%3C%2Fg%3E%3C%2Fg%3E%3C%2Fg%3E%3C%2Fg%3E%3C%2Fg%3E%3Cg%20class%3D%22overplot%22%2F%3E%3Cpath%20class%3D%22xlines-above%20crisp%22%20d%3D%22M79%2C272.5H1132%22%20style%3D%22fill%3A%20none%3B%20stroke-width%3A%201px%3B%20stroke%3A%20rgb(89%2C%2089%2C%2089)%3B%20stroke-opacity%3A%200.25%3B%22%2F%3E%3Cpath%20class%3D%22ylines-above%20crisp%22%20d%3D%22M79.5%2C30V272%22%20style%3D%22fill%3A%20none%3B%20stroke-width%3A%201px%3B%20stroke%3A%20rgb(89%2C%2089%2C%2089)%3B%20stroke-opacity%3A%200.25%3B%22%2F%3E%3Cg%20class%3D%22overlines-above%22%2F%3E%3Cg%20class%3D%22xaxislayer-above%22%3E%3Cg%20class%3D%22xtick%22%3E%3Ctext%20text-anchor%3D%22middle%22%20x%3D%220%22%20y%3D%22287.4%22%20data-unformatted%3D%22Basic%22%20data-math%3D%22N%22%20transform%3D%22translate(255.33%2C0)%22%20style%3D%22font-family%3A%20%26quot%3BOpen%20Sans%26quot%3B%2C%20verdana%2C%20arial%2C%20sans-serif%3B%20font-size%3A%2012px%3B%20fill%3A%20rgb(89%2C%2089%2C%2089)%3B%20fill-opacity%3A%201%3B%20white-space%3A%20pre%3B%22%3EBasic%3C%2Ftext%3E%3C%2Fg%3E%3Cg%20class%3D%22xtick%22%3E%3Ctext%20text-anchor%3D%22middle%22%20x%3D%220%22%20y%3D%22287.4%22%20data-unformatted%3D%22Extended%22%20data-math%3D%22N%22%20transform%3D%22translate(606%2C0)%22%20style%3D%22font-family%3A%20%26quot%3BOpen%20Sans%26quot%3B%2C%20verdana%2C%20arial%2C%20sans-serif%3B%20font-size%3A%2012px%3B%20fill%3A%20rgb(89%2C%2089%2C%2089)%3B%20fill-opacity%3A%201%3B%20white-space%3A%20pre%3B%22%3EExtended%3C%2Ftext%3E%3C%2Fg%3E%3Cg%20class%3D%22xtick%22%3E%3Ctext%20text-anchor%3D%22middle%22%20x%3D%220%22%20y%3D%22287.4%22%20data-unformatted%3D%22Premium%22%20data-math%3D%22N%22%20transform%3D%22translate(956.67%2C0)%22%20style%3D%22font-family%3A%20%26quot%3BOpen%20Sans%26quot%3B%2C%20verdana%2C%20arial%2C%20sans-serif%3B%20font-size%3A%2012px%3B%20fill%3A%20rgb(89%2C%2089%2C%2089)%3B%20fill-opacity%3A%201%3B%20white-space%3A%20pre%3B%22%3EPremium%3C%2Ftext%3E%3C%2Fg%3E%3C%2Fg%3E%3Cg%20class%3D%22yaxislayer-above%22%3E%3Cg%20class%3D%22ytick%22%3E%3Ctext%20text-anchor%3D%22end%22%20x%3D%2276.6%22%20y%3D%224.199999999999999%22%20data-unformatted%3D%220%22%20data-math%3D%22N%22%20transform%3D%22translate(0%2C272)%22%20style%3D%22font-family%3A%20%26quot%3BOpen%20Sans%26quot%3B%2C%20verdana%2C%20arial%2C%20sans-serif%3B%20font-size%3A%2012px%3B%20fill%3A%20rgb(89%2C%2089%2C%2089)%3B%20fill-opacity%3A%201%3B%20white-space%3A%20pre%3B%22%3E0%3C%2Ftext%3E%3C%2Fg%3E%3Cg%20class%3D%22ytick%22%3E%3Ctext%20text-anchor%3D%22end%22%20x%3D%2276.6%22%20y%3D%224.199999999999999%22%20data-unformatted%3D%220.5M%22%20data-math%3D%22N%22%20transform%3D%22translate(0%2C206.71)%22%20style%3D%22font-family%3A%20%26quot%3BOpen%20Sans%26quot%3B%2C%20verdana%2C%20arial%2C%20sans-serif%3B%20font-size%3A%2012px%3B%20fill%3A%20rgb(89%2C%2089%2C%2089)%3B%20fill-opacity%3A%201%3B%20white-space%3A%20pre%3B%22%3E0.5M%3C%2Ftext%3E%3C%2Fg%3E%3Cg%20class%3D%22ytick%22%3E%3Ctext%20text-anchor%3D%22end%22%20x%3D%2276.6%22%20y%3D%224.199999999999999%22%20data-unformatted%3D%221M%22%20data-math%3D%22N%22%20transform%3D%22translate(0%2C141.41)%22%20style%3D%22font-family%3A%20%26quot%3BOpen%20Sans%26quot%3B%2C%20verdana%2C%20arial%2C%20sans-serif%3B%20font-size%3A%2012px%3B%20fill%3A%20rgb(89%2C%2089%2C%2089)%3B%20fill-opacity%3A%201%3B%20white-space%3A%20pre%3B%22%3E1M%3C%2Ftext%3E%3C%2Fg%3E%3Cg%20class%3D%22ytick%22%3E%3Ctext%20text-anchor%3D%22end%22%20x%3D%2276.6%22%20y%3D%224.199999999999999%22%20data-unformatted%3D%221.5M%22%20data-math%3D%22N%22%20transform%3D%22translate(0%2C76.12)%22%20style%3D%22font-family%3A%20%26quot%3BOpen%20Sans%26quot%3B%2C%20verdana%2C%20arial%2C%20sans-serif%3B%20font-size%3A%2012px%3B%20fill%3A%20rgb(89%2C%2089%2C%2089)%3B%20fill-opacity%3A%201%3B%20white-space%3A%20pre%3B%22%3E1.5M%3C%2Ftext%3E%3C%2Fg%3E%3C%2Fg%3E%3Cg%20class%3D%22overaxes-above%22%2F%3E%3C%2Fg%3E%3C%2Fg%3E%3Cg%20class%3D%22polarlayer%22%2F%3E%3Cg%20class%3D%22ternarylayer%22%2F%3E%3Cg%20class%3D%22geolayer%22%2F%3E%3Cg%20class%3D%22funnelarealayer%22%2F%3E%3Cg%20class%3D%22pielayer%22%2F%3E%3Cg%20class%3D%22treemaplayer%22%2F%3E%3Cg%20class%3D%22sunburstlayer%22%2F%3E%3Cg%20class%3D%22glimages%22%2F%3E%3Cdefs%20id%3D%22topdefs-66beeb%22%3E%3Cg%20class%3D%22clips%22%2F%3E%3CclipPath%20id%3D%22legend66beeb%22%3E%3Crect%20width%3D%22157%22%20height%3D%2287%22%20x%3D%220%22%20y%3D%220%22%2F%3E%3C%2FclipPath%3E%3C%2Fdefs%3E%3Cg%20class%3D%22indicatorlayer%22%2F%3E%3Cg%20class%3D%22layer-above%22%3E%3Cg%20class%3D%22imagelayer%22%2F%3E%3Cg%20class%3D%22shapelayer%22%2F%3E%3C%2Fg%3E%3Cg%20class%3D%22infolayer%22%3E%3Cg%20class%3D%22legend%22%20pointer-events%3D%22all%22%20transform%3D%22translate(1153%2C30)%22%3E%3Crect%20class%3D%22bg%22%20shape-rendering%3D%22crispEdges%22%20width%3D%22157%22%20height%3D%2287%22%20x%3D%220%22%20y%3D%220%22%20style%3D%22stroke%3A%20rgb(68%2C%2068%2C%2068)%3B%20stroke-opacity%3A%201%3B%20fill%3A%20rgb(255%2C%20255%2C%20255)%3B%20fill-opacity%3A%201%3B%20stroke-width%3A%200px%3B%22%2F%3E%3Cg%20class%3D%22scrollbox%22%20transform%3D%22%22%20clip-path%3D%22url('%23legend66beeb')%22%3E%3Cg%20class%3D%22groups%22%20transform%3D%22%22%3E%3Cg%20class%3D%22traces%22%20transform%3D%22translate(0%2C14.5)%22%20style%3D%22opacity%3A%201%3B%22%3E%3Ctext%20class%3D%22legendtext%22%20text-anchor%3D%22start%22%20x%3D%2240%22%20y%3D%224.680000000000001%22%20data-unformatted%3D%22Base%22%20data-math%3D%22N%22%20style%3D%22font-family%3A%20%26quot%3BOpen%20Sans%26quot%3B%2C%20verdana%2C%20arial%2C%20sans-serif%3B%20font-size%3A%2012px%3B%20fill%3A%20rgb(89%2C%2089%2C%2089)%3B%20fill-opacity%3A%201%3B%20white-space%3A%20pre%3B%22%3EBase%3C%2Ftext%3E%3Cg%20class%3D%22layers%22%20style%3D%22opacity%3A%201%3B%22%3E%3Cg%20class%3D%22legendfill%22%2F%3E%3Cg%20class%3D%22legendlines%22%2F%3E%3Cg%20class%3D%22legendsymbols%22%3E%3Cg%20class%3D%22legendpoints%22%3E%3Cpath%20class%3D%22legendundefined%22%20d%3D%22M6%2C6H-6V-6H6Z%22%20transform%3D%22translate(20%2C0)%22%20style%3D%22stroke-width%3A%200px%3B%20fill%3A%20rgb(78%2C%20121%2C%20167)%3B%20fill-opacity%3A%201%3B%22%2F%3E%3C%2Fg%3E%3C%2Fg%3E%3C%2Fg%3E%3Crect%20class%3D%22legendtoggle%22%20pointer-events%3D%22all%22%20x%3D%220%22%20y%3D%22-9.5%22%20width%3D%22151.431640625%22%20height%3D%2219%22%20style%3D%22cursor%3A%20pointer%3B%20fill%3A%20rgb(0%2C%200%2C%200)%3B%20fill-opacity%3A%200%3B%22%2F%3E%3C%2Fg%3E%3C%2Fg%3E%3Cg%20class%3D%22groups%22%20transform%3D%22translate(0%2C10)%22%3E%3Cg%20class%3D%22traces%22%20transform%3D%22translate(0%2C33.5)%22%20style%3D%22opacity%3A%201%3B%22%3E%3Ctext%20class%3D%22legendtext%22%20text-anchor%3D%22start%22%20x%3D%2240%22%20y%3D%224.680000000000001%22%20data-unformatted%3D%22Pareto%20price%20change%22%20data-math%3D%22N%22%20style%3D%22font-family%3A%20%26quot%3BOpen%20Sans%26quot%3B%2C%20verdana%2C%20arial%2C%20sans-serif%3B%20font-size%3A%2012px%3B%20fill%3A%20rgb(89%2C%2089%2C%2089)%3B%20fill-opacity%3A%201%3B%20white-space%3A%20pre%3B%22%3EPareto%20price%20change%3C%2Ftext%3E%3Cg%20class%3D%22layers%22%20style%3D%22opacity%3A%201%3B%22%3E%3Cg%20class%3D%22legendfill%22%2F%3E%3Cg%20class%3D%22legendlines%22%2F%3E%3Cg%20class%3D%22legendsymbols%22%3E%3Cg%20class%3D%22legendpoints%22%3E%3Cpath%20class%3D%22legendundefined%22%20d%3D%22M6%2C6H-6V-6H6Z%22%20transform%3D%22translate(20%2C0)%22%20style%3D%22stroke-width%3A%200px%3B%20fill%3A%20rgb(242%2C%20142%2C%2044)%3B%20fill-opacity%3A%201%3B%22%2F%3E%3C%2Fg%3E%3C%2Fg%3E%3C%2Fg%3E%3Crect%20class%3D%22legendtoggle%22%20pointer-events%3D%22all%22%20x%3D%220%22%20y%3D%22-9.5%22%20width%3D%22151.431640625%22%20height%3D%2219%22%20style%3D%22cursor%3A%20pointer%3B%20fill%3A%20rgb(0%2C%200%2C%200)%3B%20fill-opacity%3A%200%3B%22%2F%3E%3C%2Fg%3E%3C%2Fg%3E%3Cg%20class%3D%22groups%22%20transform%3D%22translate(0%2C20)%22%3E%3Cg%20class%3D%22traces%22%20transform%3D%22translate(0%2C52.5)%22%20style%3D%22opacity%3A%201%3B%22%3E%3Ctext%20class%3D%22legendtext%22%20text-anchor%3D%22start%22%20x%3D%2240%22%20y%3D%224.680000000000001%22%20data-unformatted%3D%22Policy%20Change%22%20data-math%3D%22N%22%20style%3D%22font-family%3A%20%26quot%3BOpen%20Sans%26quot%3B%2C%20verdana%2C%20arial%2C%20sans-serif%3B%20font-size%3A%2012px%3B%20fill%3A%20rgb(89%2C%2089%2C%2089)%3B%20fill-opacity%3A%201%3B%20white-space%3A%20pre%3B%22%3EPolicy%20Change%3C%2Ftext%3E%3Cg%20class%3D%22layers%22%20style%3D%22opacity%3A%201%3B%22%3E%3Cg%20class%3D%22legendfill%22%2F%3E%3Cg%20class%3D%22legendlines%22%2F%3E%3Cg%20class%3D%22legendsymbols%22%3E%3Cg%20class%3D%22legendpoints%22%3E%3Cpath%20class%3D%22legendundefined%22%20d%3D%22M6%2C6H-6V-6H6Z%22%20transform%3D%22translate(20%2C0)%22%20style%3D%22stroke-width%3A%200px%3B%20fill%3A%20rgb(225%2C%2087%2C%2089)%3B%20fill-opacity%3A%201%3B%22%2F%3E%3C%2Fg%3E%3C%2Fg%3E%3C%2Fg%3E%3Crect%20class%3D%22legendtoggle%22%20pointer-events%3D%22all%22%20x%3D%220%22%20y%3D%22-9.5%22%20width%3D%22151.431640625%22%20height%3D%2219%22%20style%3D%22cursor%3A%20pointer%3B%20fill%3A%20rgb(0%2C%200%2C%200)%3B%20fill-opacity%3A%200%3B%22%2F%3E%3C%2Fg%3E%3C%2Fg%3E%3C%2Fg%3E%3Crect%20class%3D%22scrollbar%22%20rx%3D%2220%22%20ry%3D%223%22%20width%3D%220%22%20height%3D%220%22%20x%3D%220%22%20y%3D%220%22%20style%3D%22fill%3A%20rgb(128%2C%20139%2C%20164)%3B%20fill-opacity%3A%201%3B%22%2F%3E%3C%2Fg%3E%3Cg%20class%3D%22g-gtitle%22%2F%3E%3Cg%20class%3D%22g-xtitle%22%2F%3E%3Cg%20class%3D%22g-ytitle%22%2F%3E%3C%2Fg%3E%3Cg%20class%3D%22menulayer%22%2F%3E%3Cg%20class%3D%22zoomlayer%22%2F%3E%3Cg%20class%3D%22hoverlayer%22%2F%3E%3C%2Fsvg%3E\">"
      ],
      "text/plain": [
       "Open the notebook in JupyterLab with the atoti extension enabled to build this widget."
      ]
     },
     "metadata": {},
     "output_type": "display_data"
    }
   ],
   "source": [
    "session.visualize()"
   ]
  },
  {
   "cell_type": "markdown",
   "id": "21a67c41-6cc7-41e4-8583-2e7f1261a3fb",
   "metadata": {},
   "source": [
    "## 给别人秀秀\n",
    "\n",
    "最后一步，分析的结果可以给别人展示了。\n",
    "\n",
    "首先是建立一个dashboard link，然后，可以添加上面我们分析的图表到dashboard了。\n"
   ]
  },
  {
   "cell_type": "code",
   "execution_count": 18,
   "id": "9fdb3cc5-bd28-4e45-9fde-69bf0879066a",
   "metadata": {},
   "outputs": [
    {
     "data": {
      "application/vnd.atoti.link.v0+json": {
       "path": "#/sales",
       "sessionLocation": {
        "https": null,
        "port": 55380
       }
      },
      "text/plain": [
       "Open the notebook in JupyterLab with the atoti extension enabled to see this link."
      ]
     },
     "execution_count": 18,
     "metadata": {},
     "output_type": "execute_result"
    }
   ],
   "source": [
    "session.link(path=\"#/sales\")"
   ]
  },
  {
   "cell_type": "markdown",
   "id": "9e8ea7e7-0834-4498-9f08-404f340bfc48",
   "metadata": {},
   "source": [
    "![use_dash.gif](../img/use_dash.gif)"
   ]
  },
  {
   "cell_type": "markdown",
   "id": "c1e10775-bccd-4857-b200-f4172a0047b1",
   "metadata": {},
   "source": [
    "![dash1.png](../img/dash1.png)"
   ]
  },
  {
   "cell_type": "code",
   "execution_count": null,
   "id": "eefe6512-0835-4772-8b4e-88f227ed9fed",
   "metadata": {},
   "outputs": [],
   "source": []
  }
 ],
 "metadata": {
  "kernelspec": {
   "display_name": "env",
   "language": "python",
   "name": "env"
  },
  "language_info": {
   "codemirror_mode": {
    "name": "ipython",
    "version": 3
   },
   "file_extension": ".py",
   "mimetype": "text/x-python",
   "name": "python",
   "nbconvert_exporter": "python",
   "pygments_lexer": "ipython3",
   "version": "3.9.6"
  }
 },
 "nbformat": 4,
 "nbformat_minor": 5
}
